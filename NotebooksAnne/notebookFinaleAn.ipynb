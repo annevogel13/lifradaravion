{
 "cells": [
  {
   "cell_type": "markdown",
   "metadata": {},
   "source": [
    "Initialisation "
   ]
  },
  {
   "cell_type": "code",
   "execution_count": 101,
   "metadata": {},
   "outputs": [],
   "source": [
    "# pip install networkx \n",
    "# pip install pyproj\n",
    "\n",
    "import pandas as pd\n",
    "import csv\n",
    "import math\n",
    "import networkx as nx \n",
    "import heapq\n",
    "\n",
    "# numpy pour dijkstra \n",
    "import numpy as np\n",
    "from numpy import Inf\n",
    "\n",
    "#Widget\n",
    "import ipywidgets as widgets\n",
    "from IPython.display import display\n",
    "\n",
    "#Map interactive\n",
    "import folium as f\n",
    "from folium.plugins import MarkerCluster\n",
    "\n",
    "#Map pour connection\n",
    "import matplotlib.pyplot as plt\n",
    "%matplotlib inline\n",
    "\n",
    "#Calcul great circle\n",
    "import pyproj\n",
    "\n",
    "\n",
    "#import os\n",
    "#import flightradar24"
   ]
  },
  {
   "cell_type": "markdown",
   "metadata": {},
   "source": [
    "## Regles de codage \n"
   ]
  },
  {
   "cell_type": "code",
   "execution_count": 29,
   "metadata": {},
   "outputs": [
    {
     "data": {
      "text/plain": [
       "\"\\ntype_nom_variable\\nnomFonction(nom_variable : type) \\n'''\\n    description\\n    retour :  avec un exemple de forme \\n'''\\n\\naeroport ipv airports \\nvol --> routesANLO --> df_vols\\nroutes --> dict_routes \\n\\n\""
      ]
     },
     "execution_count": 29,
     "metadata": {},
     "output_type": "execute_result"
    }
   ],
   "source": [
    "'''\n",
    "type_nom_variable\n",
    "nomFonction(nom_variable : type) \n",
    "\\'''\n",
    "    description\n",
    "    retour :  avec un exemple de forme \n",
    "\\'''\n",
    "\n",
    "aeroport ipv airports \n",
    "vol --> routesANLO --> df_vols\n",
    "routes --> dict_routes \n",
    "\n",
    "'''"
   ]
  },
  {
   "cell_type": "markdown",
   "metadata": {},
   "source": [
    "## Importation des données"
   ]
  },
  {
   "cell_type": "code",
   "execution_count": 30,
   "metadata": {},
   "outputs": [],
   "source": [
    "chemin=\"../data/\"\n",
    "\n",
    "#df_aeroports = pd.read_csv(chemin + \"aeroportsANLO.csv\")\n",
    "#df_zones = pd.read_csv(chemin + \"zonesANLO.csv\")\n",
    "df_vols = pd.read_csv(chemin + \"routesANLO.csv\")\n",
    "#df_compagnies = pd.read_csv(chemin + \"compagniesANLO.csv\")"
   ]
  },
  {
   "cell_type": "code",
   "execution_count": 31,
   "metadata": {},
   "outputs": [],
   "source": [
    "dict_compagnies = {}\n",
    "\n",
    "with open(chemin+'compagniesANLO.csv', mode='r') as inp:\n",
    "    reader = csv.reader(inp)\n",
    "    next(reader, None)\n",
    "    headers = ['Name','Country']\n",
    "    dict_compagnies = {rows[2]:dict(zip(headers,[rows[0],rows[3]])) for rows in reader}\n"
   ]
  },
  {
   "cell_type": "code",
   "execution_count": 32,
   "metadata": {},
   "outputs": [
    {
     "data": {
      "text/plain": [
       "{'Name': 'Paris Charles de Gaulle Airport',\n",
       " 'Iata': 'CDG',\n",
       " 'Icao': 'LFPG',\n",
       " 'Lat': '49.012516',\n",
       " 'Lon': '2.555752',\n",
       " 'Country': 'France',\n",
       " 'Alt': '392',\n",
       " 'City': 'Paris'}"
      ]
     },
     "execution_count": 32,
     "metadata": {},
     "output_type": "execute_result"
    }
   ],
   "source": [
    "dict_aeroports = {}\n",
    "\n",
    "with open(chemin+'aeroportsANLO.csv', mode='r') as inp:\n",
    "    reader = csv.reader(inp)\n",
    "    headers = next(reader, None)\n",
    "    dict_aeroports = {rows[1]:dict(zip(headers,rows[0:8])) for rows in reader}\n",
    "\n",
    "dict_aeroports['CDG']"
   ]
  },
  {
   "cell_type": "code",
   "execution_count": 33,
   "metadata": {},
   "outputs": [
    {
     "data": {
      "text/plain": [
       "{'Algeria': 'Africa',\n",
       " 'Angola': 'Africa',\n",
       " 'Benin': 'Africa',\n",
       " 'Botswana': 'Africa',\n",
       " 'Burkina Faso': 'Africa',\n",
       " 'Burundi': 'Africa',\n",
       " 'Cameroon': 'Africa',\n",
       " 'Cape Verde': 'Africa',\n",
       " 'Central African Republic': 'Africa',\n",
       " 'Chad': 'Africa',\n",
       " 'Comoros': 'Africa',\n",
       " 'Congo': 'Africa',\n",
       " 'Democratic Republic Of The Congo': 'Africa',\n",
       " 'Djibouti': 'Africa',\n",
       " 'Egypt': 'Africa',\n",
       " 'Equatorial Guinea': 'Africa',\n",
       " 'Eritrea': 'Africa',\n",
       " 'Ethiopia': 'Africa',\n",
       " 'Gabon': 'Africa',\n",
       " 'Gambia': 'Africa',\n",
       " 'Ghana': 'Africa',\n",
       " 'Guinea': 'Africa',\n",
       " 'Guinea-Bissau': 'Africa',\n",
       " \"Cote D'ivoire (Ivory Coast)\": 'Africa',\n",
       " 'Kenya': 'Africa',\n",
       " 'Lesotho': 'Africa',\n",
       " 'Liberia': 'Africa',\n",
       " 'Libya': 'Africa',\n",
       " 'Madagascar': 'Africa',\n",
       " 'Malawi': 'Africa',\n",
       " 'Mali': 'Africa',\n",
       " 'Mauritania': 'Africa',\n",
       " 'Mauritius': 'Africa',\n",
       " 'Morocco': 'Africa',\n",
       " 'Mozambique': 'Africa',\n",
       " 'Namibia': 'Africa',\n",
       " 'Niger': 'Africa',\n",
       " 'Nigeria': 'Africa',\n",
       " 'Rwanda': 'Africa',\n",
       " 'Sao Tome And Principe': 'Africa',\n",
       " 'Senegal': 'Africa',\n",
       " 'Seychelles': 'Africa',\n",
       " 'Sierra Leone': 'Africa',\n",
       " 'Somalia': 'Africa',\n",
       " 'South Africa': 'Africa',\n",
       " 'South Sudan': 'Africa',\n",
       " 'Sudan': 'Africa',\n",
       " 'Eswatini': 'Africa',\n",
       " 'Tanzania': 'Africa',\n",
       " 'Togo': 'Africa',\n",
       " 'Tunisia': 'Africa',\n",
       " 'Uganda': 'Africa',\n",
       " 'Zambia': 'Africa',\n",
       " 'Zimbabwe': 'Africa',\n",
       " 'Afghanistan': 'Asia',\n",
       " 'Bahrain': 'Asia',\n",
       " 'Bangladesh': 'Asia',\n",
       " 'Bhutan': 'Asia',\n",
       " 'Brunei': 'Asia',\n",
       " 'Myanmar (Burma)': 'Asia',\n",
       " 'Cambodia': 'Asia',\n",
       " 'China': 'Asia',\n",
       " 'Timor-Leste (East Timor)': 'Asia',\n",
       " 'India': 'Asia',\n",
       " 'Indonesia': 'Asia',\n",
       " 'Iran': 'Asia',\n",
       " 'Iraq': 'Asia',\n",
       " 'Israel': 'Asia',\n",
       " 'Japan': 'Asia',\n",
       " 'Jordan': 'Asia',\n",
       " 'Kazakhstan': 'Asia',\n",
       " 'North Korea': 'Asia',\n",
       " 'South Korea': 'Asia',\n",
       " 'Kuwait': 'Asia',\n",
       " 'Kyrgyzstan': 'Asia',\n",
       " 'Laos': 'Asia',\n",
       " 'Lebanon': 'Asia',\n",
       " 'Malaysia': 'Asia',\n",
       " 'Maldives': 'Asia',\n",
       " 'Mongolia': 'Asia',\n",
       " 'Nepal': 'Asia',\n",
       " 'Oman': 'Asia',\n",
       " 'Pakistan': 'Asia',\n",
       " 'Philippines': 'Asia',\n",
       " 'Qatar': 'Asia',\n",
       " 'Russia': 'Asia',\n",
       " 'Saudi Arabia': 'Asia',\n",
       " 'Singapore': 'Asia',\n",
       " 'Sri Lanka': 'Asia',\n",
       " 'Syria': 'Asia',\n",
       " 'Taiwan': 'Asia',\n",
       " 'Tajikistan': 'Asia',\n",
       " 'Thailand': 'Asia',\n",
       " 'Turkey': 'Asia',\n",
       " 'Turkmenistan': 'Asia',\n",
       " 'United Arab Emirates': 'Asia',\n",
       " 'Uzbekistan': 'Asia',\n",
       " 'Vietnam': 'Asia',\n",
       " 'Yemen': 'Asia',\n",
       " 'Albania': 'Europe',\n",
       " 'Andorra': 'Europe',\n",
       " 'Armenia': 'Europe',\n",
       " 'Austria': 'Europe',\n",
       " 'Azerbaijan': 'Europe',\n",
       " 'Belarus': 'Europe',\n",
       " 'Belgium': 'Europe',\n",
       " 'Bosnia And Herzegovina': 'Europe',\n",
       " 'Bulgaria': 'Europe',\n",
       " 'Croatia': 'Europe',\n",
       " 'Cyprus': 'Europe',\n",
       " 'Czechia': 'Europe',\n",
       " 'Denmark': 'Europe',\n",
       " 'Estonia': 'Europe',\n",
       " 'Finland': 'Europe',\n",
       " 'France': 'Europe',\n",
       " 'French Guiana': 'South America',\n",
       " 'Gibraltar': 'Europe',\n",
       " 'Georgia': 'Europe',\n",
       " 'Germany': 'Europe',\n",
       " 'Guadeloupe': 'Europe',\n",
       " 'Greece': 'Europe',\n",
       " 'Greenland': 'Europe',\n",
       " 'Hungary': 'Europe',\n",
       " 'Iceland': 'Europe',\n",
       " 'Ireland': 'Europe',\n",
       " 'Italy': 'Europe',\n",
       " 'Latvia': 'Europe',\n",
       " 'Liechtenstein': 'Europe',\n",
       " 'Lithuania': 'Europe',\n",
       " 'Luxembourg': 'Europe',\n",
       " 'North Macedonia': 'Europe',\n",
       " 'Malta': 'Europe',\n",
       " 'Mayotte': 'Europe',\n",
       " 'Moldova': 'Europe',\n",
       " 'Monaco': 'Europe',\n",
       " 'Montenegro': 'Europe',\n",
       " 'Netherlands': 'Europe',\n",
       " 'Norway': 'Europe',\n",
       " 'Poland': 'Europe',\n",
       " 'Portugal': 'Europe',\n",
       " 'Romania': 'Europe',\n",
       " 'San Marino': 'Europe',\n",
       " 'Serbia': 'Europe',\n",
       " 'Slovakia': 'Europe',\n",
       " 'Slovenia': 'Europe',\n",
       " 'Spain': 'Europe',\n",
       " 'Sweden': 'Europe',\n",
       " 'Switzerland': 'Europe',\n",
       " 'Ukraine': 'Europe',\n",
       " 'United Kingdom': 'Europe',\n",
       " 'Vatican City': 'Europe',\n",
       " 'Antigua And Barbuda': 'North America',\n",
       " 'Bahamas': 'North America',\n",
       " 'Barbados': 'North America',\n",
       " 'Belize': 'North America',\n",
       " 'Bermuda': 'North America',\n",
       " 'Canada': 'North America',\n",
       " 'Cayman Islands': 'North America',\n",
       " 'Costa Rica': 'North America',\n",
       " 'Cuba': 'North America',\n",
       " 'Dominica': 'North America',\n",
       " 'Dominican Republic': 'North America',\n",
       " 'El Salvador': 'North America',\n",
       " 'Grenada': 'North America',\n",
       " 'Guatemala': 'North America',\n",
       " 'Haiti': 'North America',\n",
       " 'Honduras': 'North America',\n",
       " 'Jamaica': 'North America',\n",
       " 'Mexico': 'North America',\n",
       " 'Nicaragua': 'North America',\n",
       " 'Panama': 'North America',\n",
       " 'Puerto Rico': 'North America',\n",
       " 'Saint Helena': 'North America',\n",
       " 'Saint Kitts And Nevis': 'North America',\n",
       " 'Saint Lucia': 'North America',\n",
       " 'Saint Vincent And The Grenadines': 'North America',\n",
       " 'Trinidad And Tobago': 'North America',\n",
       " 'United States': 'North America',\n",
       " 'Virgin Islands British': 'North America',\n",
       " 'Turks And Caicos Islands': 'North America',\n",
       " 'Australia': 'Oceania',\n",
       " 'Cocos (Keeling) Islands': 'Oceania',\n",
       " 'Cook Islands': 'Oceania',\n",
       " 'Fiji': 'Oceania',\n",
       " 'French Polynesia': 'Europe',\n",
       " 'Guam': 'Oceania',\n",
       " 'Kiribati': 'Oceania',\n",
       " 'Marshall Islands': 'Oceania',\n",
       " 'Micronesia': 'Oceania',\n",
       " 'Nauru': 'Oceania',\n",
       " 'New Zealand': 'Oceania',\n",
       " 'Palau': 'Oceania',\n",
       " 'Papua New Guinea': 'Oceania',\n",
       " 'Samoa': 'Oceania',\n",
       " 'Solomon Islands': 'Oceania',\n",
       " 'Tonga': 'Oceania',\n",
       " 'Tuvalu': 'Oceania',\n",
       " 'Vanuatu': 'Oceania',\n",
       " 'Antarctica': 'South America',\n",
       " 'Argentina': 'South America',\n",
       " 'Bolivia': 'South America',\n",
       " 'Brazil': 'South America',\n",
       " 'Chile': 'South America',\n",
       " 'Colombia': 'South America',\n",
       " 'Ecuador': 'South America',\n",
       " 'Guyana': 'South America',\n",
       " 'Paraguay': 'South America',\n",
       " 'Peru': 'South America',\n",
       " 'Suriname': 'South America',\n",
       " 'Uruguay': 'South America',\n",
       " 'Venezuela': 'South America',\n",
       " 'Guernsey': 'Europe',\n",
       " 'Wallis And Futuna': 'Oceania',\n",
       " 'Hong Kong': 'Asia',\n",
       " 'New Caledonia': 'Oceania',\n",
       " 'Jersey': 'Europe',\n",
       " 'Macao': 'Asia',\n",
       " 'Martinique': 'North America',\n",
       " 'Montserrat': 'North America',\n",
       " 'Falkland Islands (Malvinas)': 'South America',\n",
       " 'Aruba': 'Europe',\n",
       " 'Kosovo': 'Europe',\n",
       " 'Reunion': 'Europe',\n",
       " 'American Samoa': 'Oceania',\n",
       " 'Northern Mariana Islands': 'Oceania',\n",
       " 'Saint Pierre And Miquelon': 'North America',\n",
       " 'Anguilla': 'North America',\n",
       " 'Faroe Islands': 'Europe',\n",
       " 'United States Minor Outlying Islands': 'Oceania',\n",
       " 'Curacao': 'North America',\n",
       " 'Virgin Islands US': 'North America'}"
      ]
     },
     "execution_count": 33,
     "metadata": {},
     "output_type": "execute_result"
    }
   ],
   "source": [
    "dict_pays = {}\n",
    "\n",
    "with open(chemin+'countries.csv', mode='r') as inp:\n",
    "    reader = csv.reader(inp)\n",
    "    headers = next(reader, None)\n",
    "    dict_pays = {rows[1]:rows[0] for rows in reader}\n",
    "\n",
    "dict_pays"
   ]
  },
  {
   "cell_type": "code",
   "execution_count": 34,
   "metadata": {},
   "outputs": [],
   "source": [
    "df_vols = df_vols[[\"Depart\",\"Arrivee\",\"Code_ICAO\"]].dropna()"
   ]
  },
  {
   "cell_type": "code",
   "execution_count": 35,
   "metadata": {},
   "outputs": [],
   "source": [
    "#Nettoyage de la df_vols\n",
    "for _, ligne in df_vols.iterrows():\n",
    "    if not(ligne.Depart in dict_aeroports):\n",
    "        df_vols.drop(df_vols[df_vols['Depart'] == ligne.Depart].index, inplace=True)\n",
    "    \n",
    "    if not(ligne.Arrivee in dict_aeroports):\n",
    "        df_vols.drop(df_vols[df_vols['Arrivee'] == ligne.Arrivee].index, inplace=True)"
   ]
  },
  {
   "cell_type": "code",
   "execution_count": 36,
   "metadata": {},
   "outputs": [],
   "source": [
    "def coordDepuisAeroport(iata : str):\n",
    "    '''\n",
    "    Fonction : Recherche les coordonnées GPS d'un aéroport\n",
    "    Retour : lat : float ,lon : float --> Latitude & longitude de l'aéroport\n",
    "    '''\n",
    "    lat = float(dict_aeroports[iata]['Lat'])\n",
    "    lon = float(dict_aeroports[iata]['Lon'])\n",
    "    return lat,lon\n",
    "\n",
    "def DistGrandCercle(lat1 : float, lon1 : float, lat2 : float, lon2 : float):\n",
    "    #Conversion en radian\n",
    "    lat1, lon1, lat2, lon2 = map(math.radians, [lat1, lon1, lat2, lon2])\n",
    "\n",
    "    #Delta des coordonnées\n",
    "    dlat = lat2 - lat1\n",
    "    dlon = lon2 - lon1\n",
    "\n",
    "    #Rayon terrestre (en km)\n",
    "    r = 6367.0\n",
    "\n",
    "    #Formule d'Haversine\n",
    "    a = math.sin(dlat/2)**2 + math.cos(lat1) * math.cos(lat2) * math.sin(dlon/2)**2\n",
    "    return 2 * r * math.asin(math.sqrt(a))\n",
    "\n",
    "\n",
    "def DistGrandCercleICAO(icao1 : str, icao2 : str):\n",
    "    #Récupération des coordonnées des aéroports\n",
    "    latDep, lonDep = coordDepuisAeroport(icao1)\n",
    "    latArr, lonArr = coordDepuisAeroport(icao2)\n",
    "\n",
    "    #On calcule la distance les séparant,                                                     \n",
    "    return DistGrandCercle(latDep,lonDep,latArr,lonArr)"
   ]
  },
  {
   "cell_type": "code",
   "execution_count": 37,
   "metadata": {},
   "outputs": [
    {
     "data": {
      "text/plain": [
       "{'Dist': 10717.48589664754, 'Vols': 5}"
      ]
     },
     "execution_count": 37,
     "metadata": {},
     "output_type": "execute_result"
    }
   ],
   "source": [
    "dict_route = {}\n",
    "\n",
    "g = df_vols.groupby(['Depart','Arrivee'])\n",
    "taille_groupe = g.size().items()\n",
    "\n",
    "for liaison, nbrVols in taille_groupe:\n",
    "    #Si la liaison est déjà dans le dict, on incrémente le nbr de vols\n",
    "    if(frozenset(liaison) in dict_route):\n",
    "        dict_route[frozenset(liaison)]['Vols'] += nbrVols\n",
    "    #Sinon, on crée une nouvelle liaison\n",
    "    else:\n",
    "        dict_route[frozenset(liaison)] = {'Dist' : DistGrandCercleICAO(liaison[0],liaison[1]), 'Vols' : nbrVols}\n",
    "\n",
    "#Exemple :\n",
    "dict_route[frozenset(('CDG','SIN'))]"
   ]
  },
  {
   "cell_type": "code",
   "execution_count": 38,
   "metadata": {},
   "outputs": [],
   "source": [
    "def filtreDictAeroports(colonne : str, valeur : str):\n",
    "    '''\n",
    "    Fonction : Filtre les clés du dictionnaire en fonction d'une valeur \n",
    "    présente dans les valeurs associées.\n",
    "    Return : Liste de code ICAO des aéroports\n",
    "    '''\n",
    "    Listtmp = []\n",
    "    for (key, value) in dict_aeroports.items():\n",
    "        if value[colonne] == valeur:\n",
    "            Listtmp.append(key)\n",
    "    return Listtmp\n",
    "\n",
    "def filtreDictCompagnies(colonne : str, valeur : str):\n",
    "    '''\n",
    "    Fonction : Filtre les clés du dictionnaire en fonction d'une valeur \n",
    "    présente dans les valeurs associées.\n",
    "    Return : Liste de code ICAO des compagnies\n",
    "    '''\n",
    "    Listtmp = []\n",
    "    for (key, value) in dict_compagnies .items():\n",
    "        if value[colonne] == valeur:\n",
    "            Listtmp.append(key)\n",
    "    return Listtmp"
   ]
  },
  {
   "cell_type": "markdown",
   "metadata": {},
   "source": [
    "# Fonctions -- Correspondance "
   ]
  },
  {
   "cell_type": "code",
   "execution_count": 90,
   "metadata": {},
   "outputs": [],
   "source": [
    "def correspondanceAirport(code1 : str, code2 : str):\n",
    "    '''\n",
    "    fonction qui filtre le df_vols pour obtenir les correspondances\n",
    "    retour : list des airports codes \n",
    "    '''\n",
    "    r1 = df_vols[df_vols['Depart'] == code1]['Arrivee'].to_list()\n",
    "    r2 = df_vols[df_vols['Arrivee'] == code2]['Depart'].to_list()\n",
    "\n",
    "    return list(set(r1).intersection(r2))"
   ]
  },
  {
   "cell_type": "code",
   "execution_count": 91,
   "metadata": {},
   "outputs": [],
   "source": [
    "def creationEdges(graphe : nx.Graph, list_reference : list, code1 : str, code2 : str):\n",
    "    '''\n",
    "        fonction qui crée à partir d'une liste d'aéroports un list des edges d'une graphe (avec le weight)\n",
    "        et les ajouts dans le graph donne en parametre \n",
    "        retour : list des edges ajoute a la graphe [(start , end, weight), (start, end ,weight ) .. ]\n",
    "    '''\n",
    "    # dans le listReference les airport recois un index qui corresponds au identifiant de graphe \n",
    "    list_connections = correspondanceAirport(code1, code2)\n",
    "    # pour gerer les correspondances \n",
    "    if list_reference.count(code1) == 0: list_reference.append(code1); \n",
    "    if list_reference.count(code2) == 0: list_reference.append(code2)\n",
    "    \n",
    "    for i in list_connections :\n",
    "        if list_reference.count(i) == 0 : \n",
    "            list_reference.append(i)     \n",
    "    \n",
    "    index1 = list_reference.index(code1) \n",
    "    index2 = list_reference.index(code2)\n",
    "   \n",
    "    list_edges = list(map(lambda x : (index1, list_reference.index(x), int(DistGrandCercleICAO(code1, x))), list_connections))\n",
    "    list_edges.extend(list(map(lambda y : (list_reference.index(y), index2, int(DistGrandCercleICAO(y, code2))), list_connections)))\n",
    "    \n",
    "    graphe.add_weighted_edges_from(list_edges)\n",
    "    return list_edges"
   ]
  },
  {
   "cell_type": "code",
   "execution_count": 93,
   "metadata": {},
   "outputs": [],
   "source": [
    "def dessinerGraphe(graphe):\n",
    " \n",
    "    pos = nx.fruchterman_reingold_layout(graphe)\n",
    "    nx.draw_networkx_nodes(graphe, pos, node_size = 200)\n",
    "    nx.draw_networkx_edges(graphe,pos, edgelist= graphe.edges(), edge_color='black')\n",
    "    nx.draw_networkx_labels(graphe, pos)\n",
    "    plt.autoscale()\n",
    "    #plt.title((code1,code2))\n",
    "    #x.draw_networkx_edge_labels(nom_graphe, pos) # afficher le weight \n",
    "\n",
    "    plt.show()"
   ]
  },
  {
   "cell_type": "code",
   "execution_count": 95,
   "metadata": {},
   "outputs": [],
   "source": [
    "def conversion(list_weighted_edges : list[tuple], graphe : nx.Graph):\n",
    "    '''\n",
    "        function qui convertie un list avec les edges d'uin graph avec leur \"weight\" et \n",
    "        qui le convertie en une dict de graph qui peut être utilise par le algorithme de dijkstra \n",
    "        retour : le dict qui represente une graphe sous forme de { ind_start : [(end, weight) , (end, weight)], ind_start : [ ..] etc }\n",
    "    '''\n",
    "    # calculer le nombre de nodes \n",
    "    int_nodes = graphe.number_of_nodes()\n",
    "    \n",
    "    # creation d'une dict avec le nombre de nodes initialise avec une liste vide \n",
    "    dict_return= dict()\n",
    "    \n",
    "    for i in range(0,int_nodes):         \n",
    "        dict_return[i] = []\n",
    "\n",
    "    # remplir le dictionairy a partir de listOfEdgesWeighted\n",
    "    for t in list_weighted_edges:\n",
    "        # on doit ajoute les edges dans les deux cote (de 1 --> 2 et de 2 --> 1)\n",
    "        dict_return[t[0]].append((t[1],t[2])) \n",
    "        dict_return[t[1]].append((t[0],t[2])) \n",
    "        \n",
    "    return dict_return"
   ]
  },
  {
   "cell_type": "code",
   "execution_count": 96,
   "metadata": {},
   "outputs": [],
   "source": [
    "def lazyDijkstras(graph, root):\n",
    "    n = len(graph)\n",
    "    # set up \"inf\" distances\n",
    "    dist = [Inf for _ in range(n)]\n",
    "    # set up root distance\n",
    "    dist[root] = 0\n",
    "    # set up visited node list\n",
    "    visited = [False for _ in range(n)]\n",
    "    # set up priority queue\n",
    "    pq = [(0, root)]\n",
    "    # while there are nodes to process\n",
    "    while len(pq) > 0:\n",
    "        # get the root, discard current distance\n",
    "        _, u = heapq.heappop(pq)\n",
    "        # if the node is visited, skip\n",
    "        if visited[u]:\n",
    "            continue\n",
    "        # set the node to visited\n",
    "        visited[u] = True\n",
    "        # check the distance and node and distance\n",
    "        for v, l in graph[u]:\n",
    "            # if the current node's distance + distance to the node we're visiting\n",
    "            # is less than the distance of the node we're visiting on file\n",
    "            # replace that distance and push the node we're visiting into the priority queue\n",
    "            if dist[u] + l < dist[v]:\n",
    "                dist[v] = dist[u] + l\n",
    "                heapq.heappush(pq, (dist[v], v))\n",
    "    return dist"
   ]
  },
  {
   "cell_type": "code",
   "execution_count": 98,
   "metadata": {},
   "outputs": [
    {
     "data": {
      "image/png": "[encoded data removed]",
      "text/plain": [
       "<Figure size 432x288 with 1 Axes>"
      ]
     },
     "metadata": {},
     "output_type": "display_data"
    },
    {
     "name": "stdout",
     "output_type": "stream",
     "text": [
      "[0, 761, 147, 818, 99, 2456, 1192, 1205, 583, 709, 1318, 2196, 2606, 741]\n"
     ]
    }
   ],
   "source": [
    "graph_test4_2 = nx.Graph(); \n",
    "ref_test4_2 = []\n",
    "\n",
    "# creer une correspondance \n",
    "test_time2 = creationEdges(graph_test4_2, ref_test4_2, 'AAR', 'DUS')\n",
    "test_time2.extend(creationEdges(graph_test4_2, ref_test4_2, 'DUS', 'ANR'))\n",
    "\n",
    "dessinerGraphe(graph_test4_2)\n",
    "t_dijk = conversion(test_time2, graph_test4_2)\n",
    "\n",
    "r_dijk = lazyDijkstras(t_dijk, 0)\n",
    "print(r_dijk)"
   ]
  },
  {
   "cell_type": "code",
   "execution_count": 99,
   "metadata": {},
   "outputs": [],
   "source": [
    "def returnDistanceAirport(code : str, result_Dijkstra : list[int], list_reference : list[str]):\n",
    "    index = list_reference.index(code)\n",
    "    return result_Dijkstra[index]"
   ]
  },
  {
   "cell_type": "code",
   "execution_count": 100,
   "metadata": {},
   "outputs": [
    {
     "name": "stdout",
     "output_type": "stream",
     "text": [
      "le correspondance qui a le moins de distance est 709 et c'est le airport ANR\n"
     ]
    }
   ],
   "source": [
    "code = 'ANR'\n",
    "r_dist = returnDistanceAirport(code, r_dijk, ref_test4_2)\n",
    "print(\"le correspondance qui a le moins de distance est {} et c'est le airport {}\".format(r_dist, code))"
   ]
  },
  {
   "cell_type": "markdown",
   "metadata": {},
   "source": [
    "Widget StoryLine "
   ]
  },
  {
   "cell_type": "code",
   "execution_count": null,
   "metadata": {},
   "outputs": [],
   "source": []
  }
 ],
 "metadata": {
  "interpreter": {
   "hash": "186cdeb570711ed85187c509d68d5628274aea7de7df5beca59491276fe8c4d6"
  },
  "kernelspec": {
   "display_name": "Python 3.9.7 ('base')",
   "language": "python",
   "name": "python3"
  },
  "language_info": {
   "codemirror_mode": {
    "name": "ipython",
    "version": 3
   },
   "file_extension": ".py",
   "mimetype": "text/x-python",
   "name": "python",
   "nbconvert_exporter": "python",
   "pygments_lexer": "ipython3",
   "version": "3.9.7"
  },
  "orig_nbformat": 4
 },
 "nbformat": 4,
 "nbformat_minor": 2
}
