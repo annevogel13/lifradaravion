{
 "cells": [
  {
   "cell_type": "markdown",
   "metadata": {},
   "source": [
    "Initialisation "
   ]
  },
  {
   "cell_type": "code",
   "execution_count": 1,
   "metadata": {},
   "outputs": [],
   "source": [
    "# pip install networkx\n",
    "# pip install pyproj\n",
    "\n",
    "import pandas as pd\n",
    "import csv\n",
    "import math\n",
    "import networkx as nx \n",
    "import heapq\n",
    "\n",
    "# numpy pour dijkstra \n",
    "import numpy as np\n",
    "from numpy import Inf\n",
    "\n",
    "#Widget\n",
    "import ipywidgets as widgets\n",
    "from IPython.display import display\n",
    "\n",
    "#Map interactive\n",
    "import folium as f\n",
    "from folium.plugins import MarkerCluster\n",
    "\n",
    "#Map pour connection\n",
    "import matplotlib.pyplot as plt\n",
    "%matplotlib inline\n",
    "\n",
    "#Calcul great circle\n",
    "import pyproj\n",
    "\n",
    "\n",
    "#import os\n",
    "#import flightradar24"
   ]
  },
  {
   "cell_type": "markdown",
   "metadata": {},
   "source": [
    "## Regles de codage \n"
   ]
  },
  {
   "cell_type": "code",
   "execution_count": 2,
   "metadata": {},
   "outputs": [
    {
     "data": {
      "text/plain": [
       "\"\\ntype_nom_variable\\nnomFonction(nom_variable : type) \\n'''\\n    description\\n    retour :  avec un exemple de forme \\n'''\\n\\naeroport ipv airports \\nvol --> routesANLO --> df_vols\\nroutes --> dict_routes \\n\\n\""
      ]
     },
     "execution_count": 2,
     "metadata": {},
     "output_type": "execute_result"
    }
   ],
   "source": [
    "'''\n",
    "type_nom_variable\n",
    "nomFonction(nom_variable : type) \n",
    "\\'''\n",
    "    description\n",
    "    retour :  avec un exemple de forme \n",
    "\\'''\n",
    "\n",
    "aeroport ipv airports \n",
    "vol --> routesANLO --> df_vols\n",
    "routes --> dict_routes \n",
    "\n",
    "'''"
   ]
  },
  {
   "cell_type": "markdown",
   "metadata": {},
   "source": [
    "## Importation des données"
   ]
  },
  {
   "cell_type": "code",
   "execution_count": 3,
   "metadata": {},
   "outputs": [],
   "source": [
    "chemin=\"../data/\"\n",
    "\n",
    "#df_aeroports = pd.read_csv(chemin + \"aeroportsANLO.csv\")\n",
    "#df_zones = pd.read_csv(chemin + \"zonesANLO.csv\")\n",
    "df_vols = pd.read_csv(chemin + \"routesANLO.csv\")\n",
    "#df_compagnies = pd.read_csv(chemin + \"compagniesANLO.csv\")"
   ]
  },
  {
   "cell_type": "code",
   "execution_count": 4,
   "metadata": {},
   "outputs": [],
   "source": [
    "dict_compagnies = {}\n",
    "\n",
    "with open(chemin+'compagniesANLO.csv', mode='r') as inp:\n",
    "    reader = csv.reader(inp)\n",
    "    next(reader, None)\n",
    "    headers = ['Name','Country']\n",
    "    dict_compagnies = {rows[2]:dict(zip(headers,[rows[0],rows[3]])) for rows in reader}\n"
   ]
  },
  {
   "cell_type": "code",
   "execution_count": 5,
   "metadata": {},
   "outputs": [
    {
     "data": {
      "text/plain": [
       "{'Name': 'Paris Charles de Gaulle Airport',\n",
       " 'Iata': 'CDG',\n",
       " 'Icao': 'LFPG',\n",
       " 'Lat': '49.012516',\n",
       " 'Lon': '2.555752',\n",
       " 'Country': 'France',\n",
       " 'Alt': '392',\n",
       " 'City': 'Paris'}"
      ]
     },
     "execution_count": 5,
     "metadata": {},
     "output_type": "execute_result"
    }
   ],
   "source": [
    "dict_aeroports = {}\n",
    "\n",
    "with open(chemin+'aeroportsANLO.csv', mode='r') as inp:\n",
    "    reader = csv.reader(inp)\n",
    "    headers = next(reader, None)\n",
    "    dict_aeroports = {rows[1]:dict(zip(headers,rows[0:8])) for rows in reader}\n",
    "\n",
    "dict_aeroports['CDG']"
   ]
  },
  {
   "cell_type": "code",
   "execution_count": 6,
   "metadata": {},
   "outputs": [
    {
     "data": {
      "text/plain": [
       "{'Algeria': 'Africa',\n",
       " 'Angola': 'Africa',\n",
       " 'Benin': 'Africa',\n",
       " 'Botswana': 'Africa',\n",
       " 'Burkina Faso': 'Africa',\n",
       " 'Burundi': 'Africa',\n",
       " 'Cameroon': 'Africa',\n",
       " 'Cape Verde': 'Africa',\n",
       " 'Central African Republic': 'Africa',\n",
       " 'Chad': 'Africa',\n",
       " 'Comoros': 'Africa',\n",
       " 'Congo': 'Africa',\n",
       " 'Democratic Republic Of The Congo': 'Africa',\n",
       " 'Djibouti': 'Africa',\n",
       " 'Egypt': 'Africa',\n",
       " 'Equatorial Guinea': 'Africa',\n",
       " 'Eritrea': 'Africa',\n",
       " 'Ethiopia': 'Africa',\n",
       " 'Gabon': 'Africa',\n",
       " 'Gambia': 'Africa',\n",
       " 'Ghana': 'Africa',\n",
       " 'Guinea': 'Africa',\n",
       " 'Guinea-Bissau': 'Africa',\n",
       " \"Cote D'ivoire (Ivory Coast)\": 'Africa',\n",
       " 'Kenya': 'Africa',\n",
       " 'Lesotho': 'Africa',\n",
       " 'Liberia': 'Africa',\n",
       " 'Libya': 'Africa',\n",
       " 'Madagascar': 'Africa',\n",
       " 'Malawi': 'Africa',\n",
       " 'Mali': 'Africa',\n",
       " 'Mauritania': 'Africa',\n",
       " 'Mauritius': 'Africa',\n",
       " 'Morocco': 'Africa',\n",
       " 'Mozambique': 'Africa',\n",
       " 'Namibia': 'Africa',\n",
       " 'Niger': 'Africa',\n",
       " 'Nigeria': 'Africa',\n",
       " 'Rwanda': 'Africa',\n",
       " 'Sao Tome And Principe': 'Africa',\n",
       " 'Senegal': 'Africa',\n",
       " 'Seychelles': 'Africa',\n",
       " 'Sierra Leone': 'Africa',\n",
       " 'Somalia': 'Africa',\n",
       " 'South Africa': 'Africa',\n",
       " 'South Sudan': 'Africa',\n",
       " 'Sudan': 'Africa',\n",
       " 'Eswatini': 'Africa',\n",
       " 'Tanzania': 'Africa',\n",
       " 'Togo': 'Africa',\n",
       " 'Tunisia': 'Africa',\n",
       " 'Uganda': 'Africa',\n",
       " 'Zambia': 'Africa',\n",
       " 'Zimbabwe': 'Africa',\n",
       " 'Afghanistan': 'Asia',\n",
       " 'Bahrain': 'Asia',\n",
       " 'Bangladesh': 'Asia',\n",
       " 'Bhutan': 'Asia',\n",
       " 'Brunei': 'Asia',\n",
       " 'Myanmar (Burma)': 'Asia',\n",
       " 'Cambodia': 'Asia',\n",
       " 'China': 'Asia',\n",
       " 'Timor-Leste (East Timor)': 'Asia',\n",
       " 'India': 'Asia',\n",
       " 'Indonesia': 'Asia',\n",
       " 'Iran': 'Asia',\n",
       " 'Iraq': 'Asia',\n",
       " 'Israel': 'Asia',\n",
       " 'Japan': 'Asia',\n",
       " 'Jordan': 'Asia',\n",
       " 'Kazakhstan': 'Asia',\n",
       " 'North Korea': 'Asia',\n",
       " 'South Korea': 'Asia',\n",
       " 'Kuwait': 'Asia',\n",
       " 'Kyrgyzstan': 'Asia',\n",
       " 'Laos': 'Asia',\n",
       " 'Lebanon': 'Asia',\n",
       " 'Malaysia': 'Asia',\n",
       " 'Maldives': 'Asia',\n",
       " 'Mongolia': 'Asia',\n",
       " 'Nepal': 'Asia',\n",
       " 'Oman': 'Asia',\n",
       " 'Pakistan': 'Asia',\n",
       " 'Philippines': 'Asia',\n",
       " 'Qatar': 'Asia',\n",
       " 'Russia': 'Asia',\n",
       " 'Saudi Arabia': 'Asia',\n",
       " 'Singapore': 'Asia',\n",
       " 'Sri Lanka': 'Asia',\n",
       " 'Syria': 'Asia',\n",
       " 'Taiwan': 'Asia',\n",
       " 'Tajikistan': 'Asia',\n",
       " 'Thailand': 'Asia',\n",
       " 'Turkey': 'Asia',\n",
       " 'Turkmenistan': 'Asia',\n",
       " 'United Arab Emirates': 'Asia',\n",
       " 'Uzbekistan': 'Asia',\n",
       " 'Vietnam': 'Asia',\n",
       " 'Yemen': 'Asia',\n",
       " 'Albania': 'Europe',\n",
       " 'Andorra': 'Europe',\n",
       " 'Armenia': 'Europe',\n",
       " 'Austria': 'Europe',\n",
       " 'Azerbaijan': 'Europe',\n",
       " 'Belarus': 'Europe',\n",
       " 'Belgium': 'Europe',\n",
       " 'Bosnia And Herzegovina': 'Europe',\n",
       " 'Bulgaria': 'Europe',\n",
       " 'Croatia': 'Europe',\n",
       " 'Cyprus': 'Europe',\n",
       " 'Czechia': 'Europe',\n",
       " 'Denmark': 'Europe',\n",
       " 'Estonia': 'Europe',\n",
       " 'Finland': 'Europe',\n",
       " 'France': 'Europe',\n",
       " 'French Guiana': 'South America',\n",
       " 'Gibraltar': 'Europe',\n",
       " 'Georgia': 'Europe',\n",
       " 'Germany': 'Europe',\n",
       " 'Guadeloupe': 'Europe',\n",
       " 'Greece': 'Europe',\n",
       " 'Greenland': 'Europe',\n",
       " 'Hungary': 'Europe',\n",
       " 'Iceland': 'Europe',\n",
       " 'Ireland': 'Europe',\n",
       " 'Italy': 'Europe',\n",
       " 'Latvia': 'Europe',\n",
       " 'Liechtenstein': 'Europe',\n",
       " 'Lithuania': 'Europe',\n",
       " 'Luxembourg': 'Europe',\n",
       " 'North Macedonia': 'Europe',\n",
       " 'Malta': 'Europe',\n",
       " 'Mayotte': 'Europe',\n",
       " 'Moldova': 'Europe',\n",
       " 'Monaco': 'Europe',\n",
       " 'Montenegro': 'Europe',\n",
       " 'Netherlands': 'Europe',\n",
       " 'Norway': 'Europe',\n",
       " 'Poland': 'Europe',\n",
       " 'Portugal': 'Europe',\n",
       " 'Romania': 'Europe',\n",
       " 'San Marino': 'Europe',\n",
       " 'Serbia': 'Europe',\n",
       " 'Slovakia': 'Europe',\n",
       " 'Slovenia': 'Europe',\n",
       " 'Spain': 'Europe',\n",
       " 'Sweden': 'Europe',\n",
       " 'Switzerland': 'Europe',\n",
       " 'Ukraine': 'Europe',\n",
       " 'United Kingdom': 'Europe',\n",
       " 'Vatican City': 'Europe',\n",
       " 'Antigua And Barbuda': 'North America',\n",
       " 'Bahamas': 'North America',\n",
       " 'Barbados': 'North America',\n",
       " 'Belize': 'North America',\n",
       " 'Bermuda': 'North America',\n",
       " 'Canada': 'North America',\n",
       " 'Cayman Islands': 'North America',\n",
       " 'Costa Rica': 'North America',\n",
       " 'Cuba': 'North America',\n",
       " 'Dominica': 'North America',\n",
       " 'Dominican Republic': 'North America',\n",
       " 'El Salvador': 'North America',\n",
       " 'Grenada': 'North America',\n",
       " 'Guatemala': 'North America',\n",
       " 'Haiti': 'North America',\n",
       " 'Honduras': 'North America',\n",
       " 'Jamaica': 'North America',\n",
       " 'Mexico': 'North America',\n",
       " 'Nicaragua': 'North America',\n",
       " 'Panama': 'North America',\n",
       " 'Puerto Rico': 'North America',\n",
       " 'Saint Helena': 'North America',\n",
       " 'Saint Kitts And Nevis': 'North America',\n",
       " 'Saint Lucia': 'North America',\n",
       " 'Saint Vincent And The Grenadines': 'North America',\n",
       " 'Trinidad And Tobago': 'North America',\n",
       " 'United States': 'North America',\n",
       " 'Virgin Islands British': 'North America',\n",
       " 'Turks And Caicos Islands': 'North America',\n",
       " 'Australia': 'Oceania',\n",
       " 'Cocos (Keeling) Islands': 'Oceania',\n",
       " 'Cook Islands': 'Oceania',\n",
       " 'Fiji': 'Oceania',\n",
       " 'French Polynesia': 'Europe',\n",
       " 'Guam': 'Oceania',\n",
       " 'Kiribati': 'Oceania',\n",
       " 'Marshall Islands': 'Oceania',\n",
       " 'Micronesia': 'Oceania',\n",
       " 'Nauru': 'Oceania',\n",
       " 'New Zealand': 'Oceania',\n",
       " 'Palau': 'Oceania',\n",
       " 'Papua New Guinea': 'Oceania',\n",
       " 'Samoa': 'Oceania',\n",
       " 'Solomon Islands': 'Oceania',\n",
       " 'Tonga': 'Oceania',\n",
       " 'Tuvalu': 'Oceania',\n",
       " 'Vanuatu': 'Oceania',\n",
       " 'Antarctica': 'South America',\n",
       " 'Argentina': 'South America',\n",
       " 'Bolivia': 'South America',\n",
       " 'Brazil': 'South America',\n",
       " 'Chile': 'South America',\n",
       " 'Colombia': 'South America',\n",
       " 'Ecuador': 'South America',\n",
       " 'Guyana': 'South America',\n",
       " 'Paraguay': 'South America',\n",
       " 'Peru': 'South America',\n",
       " 'Suriname': 'South America',\n",
       " 'Uruguay': 'South America',\n",
       " 'Venezuela': 'South America',\n",
       " 'Guernsey': 'Europe',\n",
       " 'Wallis And Futuna': 'Oceania',\n",
       " 'Hong Kong': 'Asia',\n",
       " 'New Caledonia': 'Oceania',\n",
       " 'Jersey': 'Europe',\n",
       " 'Macao': 'Asia',\n",
       " 'Martinique': 'North America',\n",
       " 'Montserrat': 'North America',\n",
       " 'Falkland Islands (Malvinas)': 'South America',\n",
       " 'Aruba': 'Europe',\n",
       " 'Kosovo': 'Europe',\n",
       " 'Reunion': 'Europe',\n",
       " 'American Samoa': 'Oceania',\n",
       " 'Northern Mariana Islands': 'Oceania',\n",
       " 'Saint Pierre And Miquelon': 'North America',\n",
       " 'Anguilla': 'North America',\n",
       " 'Faroe Islands': 'Europe',\n",
       " 'United States Minor Outlying Islands': 'Oceania',\n",
       " 'Curacao': 'North America',\n",
       " 'Virgin Islands US': 'North America'}"
      ]
     },
     "execution_count": 6,
     "metadata": {},
     "output_type": "execute_result"
    }
   ],
   "source": [
    "dict_pays = {}\n",
    "\n",
    "with open(chemin+'countries.csv', mode='r') as inp:\n",
    "    reader = csv.reader(inp)\n",
    "    headers = next(reader, None)\n",
    "    dict_pays = {rows[1]:rows[0] for rows in reader}\n",
    "\n",
    "dict_pays"
   ]
  },
  {
   "cell_type": "code",
   "execution_count": 7,
   "metadata": {},
   "outputs": [],
   "source": [
    "df_vols = df_vols[[\"Depart\",\"Arrivee\",\"Code_ICAO\"]].dropna()"
   ]
  },
  {
   "cell_type": "code",
   "execution_count": 8,
   "metadata": {},
   "outputs": [],
   "source": [
    "#Nettoyage de la df_vols\n",
    "for _, ligne in df_vols.iterrows():\n",
    "    if not(ligne.Depart in dict_aeroports):\n",
    "        df_vols.drop(df_vols[df_vols['Depart'] == ligne.Depart].index, inplace=True)\n",
    "    \n",
    "    if not(ligne.Arrivee in dict_aeroports):\n",
    "        df_vols.drop(df_vols[df_vols['Arrivee'] == ligne.Arrivee].index, inplace=True)"
   ]
  },
  {
   "cell_type": "code",
   "execution_count": 9,
   "metadata": {},
   "outputs": [],
   "source": [
    "def coordDepuisAeroport(iata : str):\n",
    "    '''\n",
    "    Fonction : Recherche les coordonnées GPS d'un aéroport\n",
    "    Retour : lat : float ,lon : float --> Latitude & longitude de l'aéroport\n",
    "    '''\n",
    "    lat = float(dict_aeroports[iata]['Lat'])\n",
    "    lon = float(dict_aeroports[iata]['Lon'])\n",
    "    return lat,lon\n",
    "\n",
    "def DistGrandCercle(lat1 : float, lon1 : float, lat2 : float, lon2 : float):\n",
    "    #Conversion en radian\n",
    "    lat1, lon1, lat2, lon2 = map(math.radians, [lat1, lon1, lat2, lon2])\n",
    "\n",
    "    #Delta des coordonnées\n",
    "    dlat = lat2 - lat1\n",
    "    dlon = lon2 - lon1\n",
    "\n",
    "    #Rayon terrestre (en km)\n",
    "    r = 6367.0\n",
    "\n",
    "    #Formule d'Haversine\n",
    "    a = math.sin(dlat/2)**2 + math.cos(lat1) * math.cos(lat2) * math.sin(dlon/2)**2\n",
    "    return 2 * r * math.asin(math.sqrt(a))\n",
    "\n",
    "\n",
    "def DistGrandCercleICAO(icao1 : str, icao2 : str):\n",
    "    #Récupération des coordonnées des aéroports\n",
    "    latDep, lonDep = coordDepuisAeroport(icao1)\n",
    "    latArr, lonArr = coordDepuisAeroport(icao2)\n",
    "\n",
    "    #On calcule la distance les séparant,                                                     \n",
    "    return DistGrandCercle(latDep,lonDep,latArr,lonArr)\n",
    "\n",
    "def Sqr(a):\n",
    "    return a*a\n",
    "\n",
    "def Dist(x1,y1,x2,y2):\n",
    "    return math.sqrt((y2-y1)**2+(x2-x1)**2)"
   ]
  },
  {
   "cell_type": "code",
   "execution_count": 10,
   "metadata": {},
   "outputs": [
    {
     "data": {
      "text/plain": [
       "{'Dist': 10717.48589664754, 'Vols': 5}"
      ]
     },
     "execution_count": 10,
     "metadata": {},
     "output_type": "execute_result"
    }
   ],
   "source": [
    "dict_route = {}\n",
    "\n",
    "g = df_vols.groupby(['Depart','Arrivee'])\n",
    "taille_groupe = g.size().items()\n",
    "\n",
    "for liaison, nbrVols in taille_groupe:\n",
    "    #Si la liaison est déjà dans le dict, on incrémente le nbr de vols\n",
    "    if(frozenset(liaison) in dict_route):\n",
    "        dict_route[frozenset(liaison)]['Vols'] += nbrVols\n",
    "    #Sinon, on crée une nouvelle liaison\n",
    "    else:\n",
    "        dict_route[frozenset(liaison)] = {'Dist' : DistGrandCercleICAO(liaison[0],liaison[1]), 'Vols' : nbrVols}\n",
    "\n",
    "#Exemple :\n",
    "dict_route[frozenset(('CDG','SIN'))]"
   ]
  },
  {
   "cell_type": "code",
   "execution_count": 11,
   "metadata": {},
   "outputs": [],
   "source": [
    "def filtreDictAeroports(colonne : str, valeur : str):\n",
    "    '''\n",
    "    Fonction : Filtre les clés du dictionnaire en fonction d'une valeur \n",
    "    présente dans les valeurs associées.\n",
    "    Return : Liste de code ICAO des aéroports\n",
    "    '''\n",
    "    Listtmp = []\n",
    "    for (key, value) in dict_aeroports.items():\n",
    "        if value[colonne] == valeur:\n",
    "            Listtmp.append(key)\n",
    "        \n",
    "        if valeur == '':\n",
    "            Listtmp.append(value[colonne])\n",
    "    return Listtmp\n",
    "\n",
    "def filtreDictCompagnies(colonne : str, valeur : str):\n",
    "    '''\n",
    "    Fonction : Filtre les clés du dictionnaire en fonction d'une valeur \n",
    "    présente dans les valeurs associées.\n",
    "    Return : Liste de code ICAO des compagnies\n",
    "    '''\n",
    "    Listtmp = []\n",
    "    for (key, value) in dict_compagnies .items():\n",
    "        if value[colonne] == valeur:\n",
    "            Listtmp.append(key)\n",
    "            \n",
    "        if valeur == '':\n",
    "            Listtmp.append(value[colonne])\n",
    "    return Listtmp"
   ]
  },
  {
   "cell_type": "markdown",
   "metadata": {},
   "source": [
    "# Fonctions -- Correspondance "
   ]
  },
  {
   "cell_type": "code",
   "execution_count": 12,
   "metadata": {},
   "outputs": [],
   "source": [
    "def correspondanceAirport(code1 : str, code2 : str):\n",
    "    '''\n",
    "    fonction qui filtre le df_vols pour obtenir les correspondances\n",
    "    retour : list des airports codes \n",
    "    '''\n",
    "    r1 = df_vols[df_vols['Depart'] == code1]['Arrivee'].to_list()\n",
    "    r2 = df_vols[df_vols['Arrivee'] == code2]['Depart'].to_list()\n",
    "\n",
    "    return list(set(r1).intersection(r2))"
   ]
  },
  {
   "cell_type": "code",
   "execution_count": 69,
   "metadata": {},
   "outputs": [],
   "source": [
    "def creationEdges(graphe : nx.Graph, list_reference : list, code1 : str, code2 : str):\n",
    "    '''\n",
    "        fonction qui crée à partir d'une liste d'aéroports un list des edges d'une graphe (avec le weight)\n",
    "        et les ajouts dans le graph donne en parametre \n",
    "        retour : list des edges ajoute a la graphe [(start , end, weight), (start, end ,weight ) .. ]\n",
    "    '''\n",
    "    # dans le listReference les airport recois un index qui corresponds au identifiant de graphe \n",
    "    list_connections = correspondanceAirport(code1, code2)\n",
    "    \n",
    "    # pour gerer les correspondances \n",
    "    if list_reference.count(code1) == 0: list_reference.append(code1); \n",
    "    if list_reference.count(code2) == 0: list_reference.append(code2)\n",
    "    \n",
    "    for i in list_connections :\n",
    "        if list_reference.count(i) == 0 : \n",
    "            list_reference.append(i)     \n",
    "    \n",
    " \n",
    "    index1 = list_reference.index(code1) \n",
    "    index2 = list_reference.index(code2)\n",
    "    \n",
    "    list_edges = list(map(lambda x : (index1, list_reference.index(x), int(DistGrandCercleICAO(code1, x))), list_connections))\n",
    "    list_edges.extend(list(map(lambda y : (list_reference.index(y), index2, int(DistGrandCercleICAO(y, code2))), list_connections)))\n",
    "    \n",
    "    graphe.add_weighted_edges_from(list_edges)\n",
    "    return list_reference"
   ]
  },
  {
   "cell_type": "code",
   "execution_count": 70,
   "metadata": {},
   "outputs": [],
   "source": [
    "def dessinerGraphe(graphe, weighted : bool = False):\n",
    "    fig = plt.figure(); \n",
    "    fig.set_size_inches(9, 9)\n",
    "    fig.patch.set_facecolor('white')\n",
    " \n",
    "    pos = nx.fruchterman_reingold_layout(graphe)\n",
    "    nx.draw_networkx_nodes(graphe, pos, node_size = 200)\n",
    "    nx.draw_networkx_edges(graphe,pos, edgelist= graphe.edges(), edge_color='black')\n",
    "    nx.draw_networkx_labels(graphe, pos)\n",
    "    plt.autoscale()\n",
    "   \n",
    "    if(weighted): nx.draw_networkx_edge_labels(graphe, pos) # afficher le weight \n",
    "\n",
    "    plt.show()"
   ]
  },
  {
   "cell_type": "code",
   "execution_count": 15,
   "metadata": {},
   "outputs": [],
   "source": [
    "def dijkstra(graphe : nx.Graph, start : int, end : int, list_reference: list):\n",
    "    '''\n",
    "        fonction qui utilise l'algorithme de Dijkstra pour calcule le plus court\n",
    "        chemin et calcule le distance\n",
    "        retour \\: dict{\\'distance\\' : ... , \\'path\\' : ...}\n",
    "    '''\n",
    "    tmp1 = nx.dijkstra_path(graphe, start,end)\n",
    "    dist = nx.dijkstra_path_length(graphe, start, end)\n",
    "    \n",
    "    tmp1 =  (list(map(lambda x : list_reference[x], tmp1)))\n",
    "        \n",
    "    return {'distance' : dist, 'path' : tmp1}"
   ]
  },
  {
   "cell_type": "code",
   "execution_count": 91,
   "metadata": {},
   "outputs": [],
   "source": [
    "def nombreDeCorrespondances(g : nx.Graph, codeStart, codeFin):\n",
    "    listRetour = creationEdges(g, [], codeStart, codeFin)\n",
    "    listInit = listRetour \n",
    "    print('check in nombreDeCorrespondance: ', len(listRetour), g.number_of_edges())\n",
    "    print('check in nombreDeCorrespondance: ', len(listRetour), g.number_of_nodes())\n",
    "    # Si on n'a pas trouve une connection avec un correspondance \n",
    "    #if g.number_of_edges() == 2 : \n",
    "    print('YESSS')\n",
    "    for i in listInit:\n",
    "        listRetour.extend(creationEdges(g, listRetour, codeStart, i))\n",
    "        listRetour.extend(creationEdges(g, listRetour, i, codeFin))\n",
    "    \n",
    "    print('check in nombreDeCorrespondance: ', len(listRetour), g.number_of_nodes())\n",
    "        \n",
    "    if g.has_edge(listRetour.index(codeStart), listRetour.index(codeFin)): g.remove_edge(listRetour.index(codeStart), listRetour.index(codeFin))\n",
    "    if g.has_edge(listRetour.index(codeFin), listRetour.index(codeStart)): g.remove_edge(listRetour.index(codeFin), listRetour.index(codeStart))\n",
    "        \n",
    "    return listRetour\n"
   ]
  },
  {
   "cell_type": "code",
   "execution_count": 62,
   "metadata": {},
   "outputs": [],
   "source": [
    "# n'est pas encore utilise \n",
    "def tousPossibilites(g : nx.Graph, codeStart):\n",
    "    tmp = df_vols[df_vols['Depart'] == codeStart]['Arrivee'].to_list()    \n",
    "    print(tmp)\n",
    "    list_ref = []\n",
    "    for i in tmp : \n",
    "        g, list_ref = creationEdges(g, list_ref, codeStart, i)\n",
    "        "
   ]
  },
  {
   "cell_type": "code",
   "execution_count": 94,
   "metadata": {},
   "outputs": [],
   "source": [
    "def memeContinent(str_air1, str_air2):\n",
    "    c1 = dict_aeroports[str_air1]['Country']\n",
    "    c2 = dict_aeroports[str_air2]['Country']\n",
    "    \n",
    "    if( c1 == c2):  return True \n",
    "    \n",
    "    return False \n",
    "\n",
    "def nettoyageList(str_list, str_airStart, str_airEnd):\n",
    "\n",
    "    if memeContinent(str_airStart, str_airEnd):\n",
    "        print('Les airports sont sur le même continent ')\n",
    "        compteur = 0 ; \n",
    "        for element in str_list:\n",
    "            if not memeContinent(str_airStart, element):\n",
    "                str_list.remove(element)\n",
    "                compteur = compteur + 1 \n",
    "    print('On a enleve {} airports du list'.format(compteur))\n",
    "    return str_list  \n",
    "        \n",
    "    "
   ]
  },
  {
   "cell_type": "code",
   "execution_count": 18,
   "metadata": {},
   "outputs": [],
   "source": [
    "def nettoyageGrapheSiMemeContinent(g  : nx.Graph(), ref_list : list, start : int, end : int):\n",
    "    # recuperation de airports\n",
    "    a1 = ref_list[start]\n",
    "    a2 = ref_list[end]\n",
    "    \n",
    "    # recuperatoin des pays \n",
    "    c1 = dict_aeroports[a1]['Country']\n",
    "    c2 = dict_aeroports[a2]['Country']\n",
    "    \n",
    "    # on vais supprimer les airports dans le graphe qui ne sont pas sur le meme continent de un des deux airports \n",
    "    print(len(ref_list))\n",
    "    for i in ref_list:\n",
    "        \n",
    "        tmp_a = i\n",
    "        tmp_c = dict_aeroports[tmp_a]['Country']\n",
    "            \n",
    "        if dict_pays[tmp_c] != dict_pays[c1] or dict_pays[tmp_c] != dict_pays[c2] : \n",
    "            g.remove_node(ref_list.index(i))\n",
    "            ref_list.remove(i)\n",
    "    return g, ref_list"
   ]
  },
  {
   "cell_type": "code",
   "execution_count": 73,
   "metadata": {},
   "outputs": [],
   "source": [
    "def traitementRequest(aeroport_start : str, aeroport_fin : str, g : nx.Graph() = nx.Graph()):\n",
    "    '''\n",
    "        fonction qui fait le creation de graphe et qui transofrme les nom de airports en node de graphes\n",
    "        retour : graphe, list_ref (qui est le lien entre le nombr de nodes et le code de airports)\n",
    "    '''\n",
    "    aeroport_codeS = filtreDictAeroports('Name', aeroport_start)[0]\n",
    "    aeroport_codeE = filtreDictAeroports('Name', aeroport_fin)[0] \n",
    "    \n",
    "    list_ref = nombreDeCorrespondances(g, aeroport_codeS, aeroport_codeE)\n",
    "    dessinerGraphe(g)\n",
    "    return g, list_ref\n",
    "    \n",
    "def distancePlusCourte(graphe: nx.Graph, list_ref : list, aeroport_codeS, aeroport_codeE):\n",
    "    '''\n",
    "        fonction qui trouve le chemin de start aux fin avec le moins de distance possible \n",
    "        retour : dictionnaire en forme de {'distance' : .. , 'path' : [ path1, path2 ]}\n",
    "    '''\n",
    "    resultat = dijkstra(graphe, list_ref.index(aeroport_codeS), list_ref.index(aeroport_codeE), list_ref)\n",
    "    return resultat \n",
    "\n",
    "def routeAlternatives(graphe : nx.Graph, list_ref : list, int_start : int, int_end : int):\n",
    "    '''\n",
    "        fonction qui trouve tous les chemins de start aux fin avec le meme nombr de correspondances \n",
    "        que le route plus courte. \n",
    "        retour : dictionnaire en forme de {'nbRoute' : .. , 'path' : [ path1, path2 ]}\n",
    "    '''\n",
    "    r = list(nx.all_shortest_paths(graphe,source=int_start,target=int_end))    \n",
    "    tmp = []; \n",
    "    for i in r: \n",
    "        tmp.append(list(map(lambda x : list_ref[x], i)))\n",
    "        \n",
    "    return {'nbRoute' : len(tmp), 'path': tmp}\n"
   ]
  },
  {
   "cell_type": "markdown",
   "metadata": {},
   "source": [
    "# creation du carte (en utilisation le code de Loris)"
   ]
  },
  {
   "cell_type": "code",
   "execution_count": 20,
   "metadata": {},
   "outputs": [],
   "source": [
    "def vectGrandCercle(latDep : float, lonDep : float, latArr : float, lonArr : float):\n",
    "    '''\n",
    "    Fonction : Calcul un semble de coordonnées permettant de tracer un grand cercle terrestre\n",
    "    Return : 2 listes de coordonnées\n",
    "    '''\n",
    "    g = pyproj.Geod(ellps='WGS84')\n",
    "    (az12, az21, dist) = g.inv(lonDep, latDep, lonArr, latArr)\n",
    "\n",
    "    # Coordonnée avec des segments <= 100 km\n",
    "    lonlats = g.npts(lonDep, latDep, lonArr, latArr,\n",
    "                    1 + int(dist / 100000))\n",
    "\n",
    "    #Mise en forme\n",
    "    v1 = []\n",
    "    v1.append([latDep,lonDep])\n",
    "    v2 = []\n",
    "    _lon = lonDep\n",
    "    _lat = latDep\n",
    "    horscadre = False\n",
    "    for lon, lat in lonlats:\n",
    "        if(not(horscadre) and Dist(_lat,_lon,lat,lon) < 4):        \n",
    "            v1.append([lat,lon])\n",
    "        else:\n",
    "            horscadre = True\n",
    "            v2.append([lat,lon])\n",
    "        _lon = lon\n",
    "        _lat = lat\n",
    "    \n",
    "    if(horscadre):\n",
    "        v2.append([latArr,lonArr])\n",
    "    else:\n",
    "        v1.append([latArr,lonArr])\n",
    "\n",
    "    return v1,v2"
   ]
  },
  {
   "cell_type": "code",
   "execution_count": 87,
   "metadata": {},
   "outputs": [],
   "source": [
    "def map_correspondance(path,m):\n",
    "    Line_monde = f.FeatureGroup(name = \"International\")\n",
    "    Line_continent = f.FeatureGroup(name = \"Continental\")\n",
    "    Line_pays = f.FeatureGroup(name = \"National\")   \n",
    "\n",
    "    for element in range(len(path)-1) :\n",
    "        #Certains aéroports n'ont pas de correspondance dans le dict. Pour éviter l'erreur -> try puis pass\n",
    "        try:\n",
    "            start = path[element]\n",
    "            end = path[element+1]\n",
    "            latDep, lonDep = coordDepuisAeroport(start)\n",
    "            latArr, lonArr = coordDepuisAeroport(end)\n",
    "            \n",
    "            #Calcul des chemins à afficher\n",
    "            v2 = []\n",
    "            v1,v2 = vectGrandCercle(latDep,lonDep,latArr,lonArr)\n",
    "\n",
    "            #Test vol national ou international\n",
    "            if(dict_aeroports[start]['Country'] == dict_aeroports[end]['Country']):\n",
    "                Line_group = Line_pays\n",
    "                col_ligne = \"#80F0A3\"\n",
    "                col_marker = \"#008329\"\n",
    "            elif(dict_pays[dict_aeroports[start]['Country']] == dict_pays[dict_aeroports[end]['Country']] ):\n",
    "                Line_group = Line_continent\n",
    "                col_ligne = \"#F6FF28\"\n",
    "                col_marker = \"#FE7700\"\n",
    "            else:\n",
    "                Line_group = Line_monde\n",
    "                col_ligne = \"#563DFF\"\n",
    "                col_marker = \"#0004A8\"\n",
    "\n",
    "\n",
    "            #-------------------\n",
    "            f.PolyLine(locations=v1,weight=1, color=col_ligne).add_to(Line_group)\n",
    "            if(len(v2) != 0):\n",
    "                f.PolyLine(locations=v2,weight=1, color=col_ligne).add_to(Line_group)\n",
    "            \n",
    "            f.CircleMarker(location = [latArr, lonArr],\n",
    "                            radius = 1, \n",
    "                            color = col_marker, \n",
    "                            tooltip=dict_aeroports[end]['City'],\n",
    "                            popup=\"<b>Nom : </b>\" + dict_aeroports[end]['Name'] + \"\"\"<br />\n",
    "                                    <b>Code :</b> \"\"\" + dict_aeroports[end]['Iata'] + \"\"\"<br />\n",
    "                                    <b>Coordonnées :</b> (\"\"\" + str(dict_aeroports[end]['Lat']) + \";\" + str(dict_aeroports[end]['Lon']) + \"\"\")<br />\n",
    "                                    <b>City : </b>\"\"\" + str(dict_aeroports[end]['City']) + \"\"\"<br />\n",
    "                                    <b>Pays : </b>\"\"\" + dict_aeroports[end]['Country']).add_to(Line_group)\n",
    "        except:\n",
    "            pass\n",
    "    \n",
    "    #Ajout des layers à la carte\n",
    "    Line_monde.add_to(m)\n",
    "    Line_continent.add_to(m)\n",
    "    Line_pays.add_to(m)\n",
    "\n",
    "\n",
    "def map_tous_correspondances(collection): \n",
    "\n",
    "    #Paramètre de la carte\n",
    "    m = f.Map(\n",
    "        location = [0, 0],\n",
    "        zoom_start = 2.3,\n",
    "        min_zoom  = 2,\n",
    "        min_lot=-180,\n",
    "        max_lot=180,\n",
    "        min_lat=-90,\n",
    "        max_lat=90,\n",
    "        max_bounds=True,\n",
    "    )\n",
    "    f.TileLayer('cartodbdark_matter').add_to(m)\n",
    "\n",
    "    for p in collection:\n",
    "        map_correspondance(p ,m)\n",
    "    \n",
    "    f.LayerControl().add_to(m)\n",
    "\n",
    "    m\n"
   ]
  },
  {
   "cell_type": "code",
   "execution_count": 61,
   "metadata": {},
   "outputs": [],
   "source": [
    "## marche seulement pour les petit relations \n",
    "def routeSelonNombreCorrespondances(graphe : nx.Graph, nombre : int, start, end):\n",
    "    '''\n",
    "        fonction qui trouve tous les chemins de start aux fin avec 'nombre' correspondances\n",
    "        retour : dictionnaire en forme de {'nbRoute' : .. , 'path' : [ path1, path2 ]}\n",
    "    '''\n",
    "    r2 = list(nx.all_simple_paths(graphe,source=start,target=end))    \n",
    "    r3 = list(filter(lambda x : len(x) == nombre, r2))\n",
    "    \n",
    "    return {'nbRoute' : len(r3), 'path': r3}\n",
    "\n",
    "def routeSelonNombreCorrespondanceLessThen(graphe : nx.Graph, nombre : int, start, end):\n",
    "    '''\n",
    "        fonction qui retourne tous les routes/correspondances avec un nombre de correspondances <= nombre \n",
    "        retour : un dictionnaire { nombre : {'nbRoute' : .. , 'path' : [ path1, path2 ]}, nombre2 : {..}}\n",
    "    '''\n",
    "    r1 = list(nx.all_simple_paths(graphe,source=start,target=end))    \n",
    "    r2 = list(filter(lambda x : len(x) <= nombre, r1))\n",
    "    \n",
    "    return {'nbRoute' : len(r2), 'path': r2}\n",
    "\n",
    "#routeSelonNombreCorrespondanceLessThen(graphe_test, 10, 0,7)"
   ]
  },
  {
   "cell_type": "markdown",
   "metadata": {},
   "source": [
    "Widget StoryLine "
   ]
  },
  {
   "cell_type": "code",
   "execution_count": 80,
   "metadata": {},
   "outputs": [],
   "source": [
    "airportArrive = widgets.Dropdown(\n",
    "    options= filtreDictAeroports('Name', ''),\n",
    "    description='Airport Depart:',\n",
    "    disabled=False,\n",
    ")\n",
    "\n",
    "airportDepart = widgets.Dropdown(\n",
    "    options= filtreDictAeroports('Name', ''),\n",
    "    description='Airport Depart:',\n",
    "    disabled=False,\n",
    ")\n",
    "\n",
    "recommandationSelon = widgets.RadioButtons(\n",
    "    options = {'direct', 'distance', 'alternatives'}, \n",
    "    description = 'Recommendation selon : ',\n",
    "    disable = False, \n",
    ")"
   ]
  },
  {
   "cell_type": "code",
   "execution_count": 79,
   "metadata": {},
   "outputs": [
    {
     "data": {
      "application/vnd.jupyter.widget-view+json": {
       "model_id": "0814120c152f46368d0d75b7cda1951a",
       "version_major": 2,
       "version_minor": 0
      },
      "text/plain": [
       "Dropdown(description='Airport Depart:', index=2, options=('A Coruna Airport', 'Aachen Merzbruck Airport', 'Aal…"
      ]
     },
     "metadata": {},
     "output_type": "display_data"
    }
   ],
   "source": [
    "airportArrive"
   ]
  },
  {
   "cell_type": "code",
   "execution_count": 25,
   "metadata": {},
   "outputs": [
    {
     "data": {
      "application/vnd.jupyter.widget-view+json": {
       "model_id": "da14cee1c31b4a3ea84e26fe872de2ce",
       "version_major": 2,
       "version_minor": 0
      },
      "text/plain": [
       "Dropdown(description='Airport Depart:', options=('A Coruna Airport', 'Aachen Merzbruck Airport', 'Aalborg Airp…"
      ]
     },
     "metadata": {},
     "output_type": "display_data"
    }
   ],
   "source": [
    "airportDepart"
   ]
  },
  {
   "cell_type": "code",
   "execution_count": 26,
   "metadata": {},
   "outputs": [
    {
     "data": {
      "application/vnd.jupyter.widget-view+json": {
       "model_id": "3184b070d0774b259a1e942f4de8681f",
       "version_major": 2,
       "version_minor": 0
      },
      "text/plain": [
       "RadioButtons(description='Recommendation selon : ', options=('direct', 'distance', 'alternatives'), value='dir…"
      ]
     },
     "metadata": {},
     "output_type": "display_data"
    }
   ],
   "source": [
    "recommandationSelon"
   ]
  },
  {
   "cell_type": "code",
   "execution_count": 66,
   "metadata": {},
   "outputs": [
    {
     "name": "stdout",
     "output_type": "stream",
     "text": [
      "Aalborg Airport , Lyon Saint Exupery Airport , distance\n"
     ]
    }
   ],
   "source": [
    "print(airportArrive.value,',' , airportDepart.value,',' , recommandationSelon.value)"
   ]
  },
  {
   "cell_type": "code",
   "execution_count": 92,
   "metadata": {},
   "outputs": [
    {
     "name": "stdout",
     "output_type": "stream",
     "text": [
      "check in nombreDeCorrespondance:  8 143\n",
      "check in nombreDeCorrespondance:  8 73\n",
      "YESSS\n"
     ]
    },
    {
     "ename": "KeyboardInterrupt",
     "evalue": "",
     "output_type": "error",
     "traceback": [
      "\u001b[1;31m---------------------------------------------------------------------------\u001b[0m",
      "\u001b[1;31mKeyboardInterrupt\u001b[0m                         Traceback (most recent call last)",
      "\u001b[1;32m~\\AppData\\Local\\Temp/ipykernel_51480/2847455568.py\u001b[0m in \u001b[0;36m<module>\u001b[1;34m\u001b[0m\n\u001b[0;32m      2\u001b[0m \u001b[0mcodeEnd\u001b[0m \u001b[1;33m=\u001b[0m \u001b[0mfiltreDictAeroports\u001b[0m\u001b[1;33m(\u001b[0m\u001b[1;34m'Name'\u001b[0m\u001b[1;33m,\u001b[0m \u001b[0mairportDepart\u001b[0m\u001b[1;33m.\u001b[0m\u001b[0mvalue\u001b[0m\u001b[1;33m)\u001b[0m\u001b[1;33m[\u001b[0m\u001b[1;36m0\u001b[0m\u001b[1;33m]\u001b[0m\u001b[1;33m\u001b[0m\u001b[1;33m\u001b[0m\u001b[0m\n\u001b[0;32m      3\u001b[0m \u001b[1;33m\u001b[0m\u001b[0m\n\u001b[1;32m----> 4\u001b[1;33m \u001b[0mg\u001b[0m\u001b[1;33m,\u001b[0m \u001b[0mlist_ref\u001b[0m \u001b[1;33m=\u001b[0m \u001b[0mtraitementRequest\u001b[0m\u001b[1;33m(\u001b[0m\u001b[0mairportArrive\u001b[0m\u001b[1;33m.\u001b[0m\u001b[0mvalue\u001b[0m\u001b[1;33m,\u001b[0m \u001b[0mairportDepart\u001b[0m\u001b[1;33m.\u001b[0m\u001b[0mvalue\u001b[0m\u001b[1;33m)\u001b[0m\u001b[1;33m\u001b[0m\u001b[1;33m\u001b[0m\u001b[0m\n\u001b[0m\u001b[0;32m      5\u001b[0m \u001b[0mprint\u001b[0m\u001b[1;33m(\u001b[0m\u001b[0mlen\u001b[0m\u001b[1;33m(\u001b[0m\u001b[0mlist_ref\u001b[0m\u001b[1;33m)\u001b[0m\u001b[1;33m,\u001b[0m \u001b[0mg\u001b[0m\u001b[1;33m.\u001b[0m\u001b[0mnumber_of_nodes\u001b[0m\u001b[1;33m(\u001b[0m\u001b[1;33m)\u001b[0m\u001b[1;33m)\u001b[0m\u001b[1;33m\u001b[0m\u001b[1;33m\u001b[0m\u001b[0m\n\u001b[0;32m      6\u001b[0m \u001b[0mprint\u001b[0m\u001b[1;33m(\u001b[0m\u001b[0mlist_ref\u001b[0m\u001b[1;33m)\u001b[0m\u001b[1;33m\u001b[0m\u001b[1;33m\u001b[0m\u001b[0m\n",
      "\u001b[1;32m~\\AppData\\Local\\Temp/ipykernel_51480/3423323369.py\u001b[0m in \u001b[0;36mtraitementRequest\u001b[1;34m(aeroport_start, aeroport_fin, g)\u001b[0m\n\u001b[0;32m      7\u001b[0m     \u001b[0maeroport_codeE\u001b[0m \u001b[1;33m=\u001b[0m \u001b[0mfiltreDictAeroports\u001b[0m\u001b[1;33m(\u001b[0m\u001b[1;34m'Name'\u001b[0m\u001b[1;33m,\u001b[0m \u001b[0maeroport_fin\u001b[0m\u001b[1;33m)\u001b[0m\u001b[1;33m[\u001b[0m\u001b[1;36m0\u001b[0m\u001b[1;33m]\u001b[0m\u001b[1;33m\u001b[0m\u001b[1;33m\u001b[0m\u001b[0m\n\u001b[0;32m      8\u001b[0m \u001b[1;33m\u001b[0m\u001b[0m\n\u001b[1;32m----> 9\u001b[1;33m     \u001b[0mlist_ref\u001b[0m \u001b[1;33m=\u001b[0m \u001b[0mnombreDeCorrespondances\u001b[0m\u001b[1;33m(\u001b[0m\u001b[0mg\u001b[0m\u001b[1;33m,\u001b[0m \u001b[0maeroport_codeS\u001b[0m\u001b[1;33m,\u001b[0m \u001b[0maeroport_codeE\u001b[0m\u001b[1;33m)\u001b[0m\u001b[1;33m\u001b[0m\u001b[1;33m\u001b[0m\u001b[0m\n\u001b[0m\u001b[0;32m     10\u001b[0m     \u001b[0mdessinerGraphe\u001b[0m\u001b[1;33m(\u001b[0m\u001b[0mg\u001b[0m\u001b[1;33m)\u001b[0m\u001b[1;33m\u001b[0m\u001b[1;33m\u001b[0m\u001b[0m\n\u001b[0;32m     11\u001b[0m     \u001b[1;32mreturn\u001b[0m \u001b[0mg\u001b[0m\u001b[1;33m,\u001b[0m \u001b[0mlist_ref\u001b[0m\u001b[1;33m\u001b[0m\u001b[1;33m\u001b[0m\u001b[0m\n",
      "\u001b[1;32m~\\AppData\\Local\\Temp/ipykernel_51480/1129450490.py\u001b[0m in \u001b[0;36mnombreDeCorrespondances\u001b[1;34m(g, codeStart, codeFin)\u001b[0m\n\u001b[0;32m      9\u001b[0m     \u001b[1;32mfor\u001b[0m \u001b[0mi\u001b[0m \u001b[1;32min\u001b[0m \u001b[0mlistInit\u001b[0m\u001b[1;33m:\u001b[0m\u001b[1;33m\u001b[0m\u001b[1;33m\u001b[0m\u001b[0m\n\u001b[0;32m     10\u001b[0m         \u001b[0mlistRetour\u001b[0m\u001b[1;33m.\u001b[0m\u001b[0mextend\u001b[0m\u001b[1;33m(\u001b[0m\u001b[0mcreationEdges\u001b[0m\u001b[1;33m(\u001b[0m\u001b[0mg\u001b[0m\u001b[1;33m,\u001b[0m \u001b[0mlistRetour\u001b[0m\u001b[1;33m,\u001b[0m \u001b[0mcodeStart\u001b[0m\u001b[1;33m,\u001b[0m \u001b[0mi\u001b[0m\u001b[1;33m)\u001b[0m\u001b[1;33m)\u001b[0m\u001b[1;33m\u001b[0m\u001b[1;33m\u001b[0m\u001b[0m\n\u001b[1;32m---> 11\u001b[1;33m         \u001b[0mlistRetour\u001b[0m\u001b[1;33m.\u001b[0m\u001b[0mextend\u001b[0m\u001b[1;33m(\u001b[0m\u001b[0mcreationEdges\u001b[0m\u001b[1;33m(\u001b[0m\u001b[0mg\u001b[0m\u001b[1;33m,\u001b[0m \u001b[0mlistRetour\u001b[0m\u001b[1;33m,\u001b[0m \u001b[0mi\u001b[0m\u001b[1;33m,\u001b[0m \u001b[0mcodeFin\u001b[0m\u001b[1;33m)\u001b[0m\u001b[1;33m)\u001b[0m\u001b[1;33m\u001b[0m\u001b[1;33m\u001b[0m\u001b[0m\n\u001b[0m\u001b[0;32m     12\u001b[0m \u001b[1;33m\u001b[0m\u001b[0m\n\u001b[0;32m     13\u001b[0m     \u001b[0mprint\u001b[0m\u001b[1;33m(\u001b[0m\u001b[1;34m'check in nombreDeCorrespondance: '\u001b[0m\u001b[1;33m,\u001b[0m \u001b[0mlen\u001b[0m\u001b[1;33m(\u001b[0m\u001b[0mlistRetour\u001b[0m\u001b[1;33m)\u001b[0m\u001b[1;33m,\u001b[0m \u001b[0mg\u001b[0m\u001b[1;33m.\u001b[0m\u001b[0mnumber_of_nodes\u001b[0m\u001b[1;33m(\u001b[0m\u001b[1;33m)\u001b[0m\u001b[1;33m)\u001b[0m\u001b[1;33m\u001b[0m\u001b[1;33m\u001b[0m\u001b[0m\n",
      "\u001b[1;32m~\\AppData\\Local\\Temp/ipykernel_51480/8387170.py\u001b[0m in \u001b[0;36mcreationEdges\u001b[1;34m(graphe, list_reference, code1, code2)\u001b[0m\n\u001b[0;32m     13\u001b[0m \u001b[1;33m\u001b[0m\u001b[0m\n\u001b[0;32m     14\u001b[0m     \u001b[1;32mfor\u001b[0m \u001b[0mi\u001b[0m \u001b[1;32min\u001b[0m \u001b[0mlist_connections\u001b[0m \u001b[1;33m:\u001b[0m\u001b[1;33m\u001b[0m\u001b[1;33m\u001b[0m\u001b[0m\n\u001b[1;32m---> 15\u001b[1;33m         \u001b[1;32mif\u001b[0m \u001b[0mlist_reference\u001b[0m\u001b[1;33m.\u001b[0m\u001b[0mcount\u001b[0m\u001b[1;33m(\u001b[0m\u001b[0mi\u001b[0m\u001b[1;33m)\u001b[0m \u001b[1;33m==\u001b[0m \u001b[1;36m0\u001b[0m \u001b[1;33m:\u001b[0m\u001b[1;33m\u001b[0m\u001b[1;33m\u001b[0m\u001b[0m\n\u001b[0m\u001b[0;32m     16\u001b[0m             \u001b[0mlist_reference\u001b[0m\u001b[1;33m.\u001b[0m\u001b[0mappend\u001b[0m\u001b[1;33m(\u001b[0m\u001b[0mi\u001b[0m\u001b[1;33m)\u001b[0m\u001b[1;33m\u001b[0m\u001b[1;33m\u001b[0m\u001b[0m\n\u001b[0;32m     17\u001b[0m \u001b[1;33m\u001b[0m\u001b[0m\n",
      "\u001b[1;31mKeyboardInterrupt\u001b[0m: "
     ]
    }
   ],
   "source": [
    "codeStart = filtreDictAeroports('Name', airportArrive.value)[0]\n",
    "codeEnd = filtreDictAeroports('Name', airportDepart.value)[0] \n",
    "\n",
    "g, list_ref = traitementRequest(airportArrive.value, airportDepart.value)\n",
    "print(len(list_ref), g.number_of_nodes())\n",
    "print(list_ref)"
   ]
  },
  {
   "cell_type": "code",
   "execution_count": 84,
   "metadata": {},
   "outputs": [
    {
     "name": "stdout",
     "output_type": "stream",
     "text": [
      "il n'y pas une vol direct, essayez une autre option\n"
     ]
    }
   ],
   "source": [
    "x = list_ref.index(codeStart)\n",
    "y = list_ref.index(codeEnd)\n",
    "\n",
    "if(recommandationSelon.value == 'direct'): \n",
    "    tmp = df_vols[df_vols['Depart'] == codeStart]\n",
    "    tmp2 = tmp[tmp['Arrivee'] == codeEnd] ; \n",
    "    if len(tmp2) > 0 :\n",
    "        print(' il y a une vol direct ')\n",
    "    else: print('il n\\'y pas une vol direct, essayez une autre option')\n",
    "resultat = dict(); \n",
    "if(recommandationSelon.value == 'distance'): resultat = distancePlusCourte(g, list_ref, codeStart, codeEnd) \n",
    "if(recommandationSelon.value == 'alternatives'): resultat =  routeAlternatives(g, list_ref, x, y)\n"
   ]
  },
  {
   "cell_type": "code",
   "execution_count": 88,
   "metadata": {},
   "outputs": [
    {
     "name": "stdout",
     "output_type": "stream",
     "text": [
      "c' est un graphe petit donc on peut se permettre de donnee plus de details : \n",
      "{'nbRoute': 0, 'path': []}\n"
     ]
    },
    {
     "ename": "KeyError",
     "evalue": "'path'",
     "output_type": "error",
     "traceback": [
      "\u001b[1;31m---------------------------------------------------------------------------\u001b[0m",
      "\u001b[1;31mKeyError\u001b[0m                                  Traceback (most recent call last)",
      "\u001b[1;32m~\\AppData\\Local\\Temp/ipykernel_51480/1196829810.py\u001b[0m in \u001b[0;36m<module>\u001b[1;34m\u001b[0m\n\u001b[0;32m      4\u001b[0m     \u001b[0mprint\u001b[0m\u001b[1;33m(\u001b[0m\u001b[0mresultat2\u001b[0m\u001b[1;33m)\u001b[0m\u001b[1;33m\u001b[0m\u001b[1;33m\u001b[0m\u001b[0m\n\u001b[0;32m      5\u001b[0m \u001b[1;33m\u001b[0m\u001b[0m\n\u001b[1;32m----> 6\u001b[1;33m \u001b[0mmap_tous_correspondances\u001b[0m\u001b[1;33m(\u001b[0m\u001b[0mresultat\u001b[0m\u001b[1;33m[\u001b[0m\u001b[1;34m'path'\u001b[0m\u001b[1;33m]\u001b[0m\u001b[1;33m)\u001b[0m\u001b[1;33m\u001b[0m\u001b[1;33m\u001b[0m\u001b[0m\n\u001b[0m",
      "\u001b[1;31mKeyError\u001b[0m: 'path'"
     ]
    }
   ],
   "source": [
    "if(g.number_of_nodes() < 200):\n",
    "    print('c\\' est un graphe petit donc on peut se permettre de donnee plus de details : ')\n",
    "    resultat2 = routeSelonNombreCorrespondanceLessThen(g, 5, x , y)\n",
    "    print(resultat2)\n",
    "\n",
    "map_tous_correspondances(resultat['path'])"
   ]
  },
  {
   "cell_type": "code",
   "execution_count": 86,
   "metadata": {},
   "outputs": [
    {
     "name": "stdout",
     "output_type": "stream",
     "text": [
      "check in nombreDeCorrespondance:  73 143\n",
      "check in nombreDeCorrespondance:  73 73\n"
     ]
    },
    {
     "data": {
      "image/png": "[encoded data removed]",
      "text/plain": [
       "<Figure size 648x648 with 1 Axes>"
      ]
     },
     "metadata": {},
     "output_type": "display_data"
    },
    {
     "name": "stdout",
     "output_type": "stream",
     "text": [
      "73 73\n",
      "{'distance': 1024, 'path': ['AMS', 'JFK']}\n",
      "{'nbRoute': 1, 'path': [['AMS', 'JFK']]}\n"
     ]
    }
   ],
   "source": [
    "a1 = 'AMS' ;  a2 = 'JFK' ; \n",
    "s1 = dict_aeroports[a1]['Name']\n",
    "s2 = dict_aeroports[a2]['Name']\n",
    "\n",
    "graph, list_reference = traitementRequest(s1, s2)\n",
    "print(graph.number_of_nodes(), len(list_reference))\n",
    "\n",
    "print(distancePlusCourte(graph, list_reference, a1, a2)) # route moins de distance \n",
    "essai = routeAlternatives(graph, list_reference, list_reference.index(a1), list_reference.index(a2))\n",
    "print(essai) # autres routes avec le meme nombre de correspondances \n"
   ]
  }
 ],
 "metadata": {
  "interpreter": {
   "hash": "186cdeb570711ed85187c509d68d5628274aea7de7df5beca59491276fe8c4d6"
  },
  "kernelspec": {
   "display_name": "Python 3.9.7 ('base')",
   "language": "python",
   "name": "python3"
  },
  "language_info": {
   "codemirror_mode": {
    "name": "ipython",
    "version": 3
   },
   "file_extension": ".py",
   "mimetype": "text/x-python",
   "name": "python",
   "nbconvert_exporter": "python",
   "pygments_lexer": "ipython3",
   "version": "3.9.7"
  },
  "orig_nbformat": 4
 },
 "nbformat": 4,
 "nbformat_minor": 2
}
