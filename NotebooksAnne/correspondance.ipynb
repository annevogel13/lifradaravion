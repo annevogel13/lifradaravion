{
 "cells": [
  {
   "cell_type": "code",
   "execution_count": 1,
   "metadata": {},
   "outputs": [],
   "source": [
    "import pandas as pd\n",
    "import ipywidgets as widgets\n"
   ]
  },
  {
   "cell_type": "code",
   "execution_count": 2,
   "metadata": {},
   "outputs": [],
   "source": [
    "airports = pd.read_csv(\"../data/aeroportsANLO.csv\")\n",
    "routes = pd.read_csv(\"../data/routesANLO.csv\")"
   ]
  },
  {
   "cell_type": "code",
   "execution_count": 3,
   "metadata": {},
   "outputs": [],
   "source": [
    "# creation du list from airports \n",
    "name_airports = airports['name'].tolist()\n",
    "iata_airports = airports['iata'].tolist()"
   ]
  },
  {
   "cell_type": "code",
   "execution_count": 4,
   "metadata": {},
   "outputs": [
    {
     "data": {
      "application/vnd.jupyter.widget-view+json": {
       "model_id": "7dbe46f9f541442b8facb01f3f1dc6f1",
       "version_major": 2,
       "version_minor": 0
      },
      "text/plain": [
       "Dropdown(description='Airport Depart:', options=('A Coruna Airport', 'Aachen Merzbruck Airport', 'Aalborg Airp…"
      ]
     },
     "metadata": {},
     "output_type": "display_data"
    }
   ],
   "source": [
    "airportDepart = widgets.Dropdown(\n",
    "    options= name_airports,\n",
    "    description='Airport Depart:',\n",
    "    disabled=False,\n",
    ")\n",
    "airportDepart"
   ]
  },
  {
   "cell_type": "code",
   "execution_count": 5,
   "metadata": {},
   "outputs": [
    {
     "data": {
      "application/vnd.jupyter.widget-view+json": {
       "model_id": "e97b0a8b265c4eeb81dcbc268d48c439",
       "version_major": 2,
       "version_minor": 0
      },
      "text/plain": [
       "Dropdown(description='Airport Depart:', options=('A Coruna Airport', 'Aachen Merzbruck Airport', 'Aalborg Airp…"
      ]
     },
     "metadata": {},
     "output_type": "display_data"
    }
   ],
   "source": [
    "airportArrive = widgets.Dropdown(\n",
    "    options= name_airports,\n",
    "    description='Airport Depart:',\n",
    "    disabled=False,\n",
    ")\n",
    "\n",
    "airportArrive"
   ]
  },
  {
   "cell_type": "code",
   "execution_count": 6,
   "metadata": {},
   "outputs": [
    {
     "data": {
      "application/vnd.jupyter.widget-view+json": {
       "model_id": "955e0caaf3e34b00b0b66f8c6df8010f",
       "version_major": 2,
       "version_minor": 0
      },
      "text/plain": [
       "BoundedIntText(value=1, description='Number of correpondances:', max=5, min=1)"
      ]
     },
     "metadata": {},
     "output_type": "display_data"
    }
   ],
   "source": [
    "nb_correspondances =widgets.BoundedIntText(\n",
    "    value=1,\n",
    "    min=1,\n",
    "    max=5,\n",
    "    step=1,\n",
    "    description='Number of correpondances:',\n",
    "    disabled=False\n",
    ")\n",
    "\n",
    "nb_correspondances"
   ]
  },
  {
   "cell_type": "code",
   "execution_count": 7,
   "metadata": {},
   "outputs": [
    {
     "data": {
      "text/plain": [
       "'On veut aller de A Coruna Airport à A Coruna Airport avec 1 corresponances'"
      ]
     },
     "execution_count": 7,
     "metadata": {},
     "output_type": "execute_result"
    }
   ],
   "source": [
    "\"On veut aller de {} à {} avec {} corresponances\".format(airportDepart.value, airportArrive.value, nb_correspondances.value)\n"
   ]
  },
  {
   "cell_type": "code",
   "execution_count": 8,
   "metadata": {},
   "outputs": [],
   "source": [
    "# d'abord on vais ecrire une function pour trouver une route entre deux airports donnees \n",
    "def findAirportCode(airportName : str):\n",
    "    '''\n",
    "    fonction pour trouver le airport code ('iata') si on a une airportname \n",
    "    retour : string with 3 letters corresponding to iata of airport \n",
    "    '''\n",
    "    index = name_airports.index(airportName)\n",
    "    return iata_airports[index]\n",
    "        "
   ]
  },
  {
   "cell_type": "code",
   "execution_count": 9,
   "metadata": {},
   "outputs": [],
   "source": [
    "# fonction qui vérifie si une les deux codes de airports ont une liaison/route \n",
    "def connection_between_two_airports(airportArriveCode : str, airportDepartCode : str):\n",
    "    '''\n",
    "    fonction qui verifie si on a une liaison/route entre les deux codes \n",
    "    retour : integer qui répresent le num_IATA \n",
    "    '''\n",
    "    if airportDepartCode == '' or airportArriveCode == '':\n",
    "      if airportDepartCode == '' : var1 = airportArriveCode\n",
    "      else : var1 = airportDepartCode\n",
    "      \n",
    "      tmp1 = [\"airportC\", \"IATA\"]\n",
    "      tmp = dict();\n",
    "      index = 0 ; \n",
    "      for row in routes.iterrows():\n",
    "        if(row[1][11] == var1):\n",
    "          tmp2 = [row[1][12], row[1][13]]\n",
    "          tmp3 = dict(zip(tmp1, tmp2))\n",
    "          tmp[index] = tmp3 \n",
    "          index = index + 1\n",
    "      return tmp\n",
    "    else: \n",
    "      for row in routes.iterrows():\n",
    "        # 11 -> arrive, 12 --> depart, 13 --> num_IATA \n",
    "        if((row[1][11] == airportArriveCode) and (row[1][12] == airportDepartCode)):\n",
    "          return row[1][13]\n",
    "          \n",
    "        \n"
   ]
  },
  {
   "cell_type": "code",
   "execution_count": 13,
   "metadata": {},
   "outputs": [],
   "source": [
    "#connection_between_two_airports('JFK', '') # check 645 tuples \n",
    "#connection_between_two_airports('', 'JFK') # check 645 tuples \n",
    "\n",
    "# JFK -> LAX \n",
    "d1 = connection_between_two_airports('JFK', '') # LAX\n",
    "d2 = connection_between_two_airports('', 'BOS') # LAX\n",
    "#print(connection_between_two_airports('JFK', 'BOS'))"
   ]
  },
  {
   "cell_type": "code",
   "execution_count": 62,
   "metadata": {},
   "outputs": [],
   "source": [
    "#compare two dict to find the same airport \n",
    "             \n",
    "def compare_dict_airport_v1(dict1 : dict, dict2 : dict):\n",
    "    '''\n",
    "    fonction qui retourne une list avec tous les airports que les deux dictionnaires ont en commen\n",
    "    retour : list des airport codes \n",
    "    '''\n",
    "    possibilites_duplicates = [] \n",
    "    ########## loop d1\n",
    "    for k, content_k in d1.items():\n",
    "            ########### loop d2 \n",
    "            for p, content_p in d2.items():\n",
    "                ## test if in those dict are the same airports \n",
    "                if content_k['airportC'] == content_p['airportC']:\n",
    "                    possibilites_duplicates.append(content_k['airportC'])\n",
    "    return list(set(possibilites_duplicates))\n",
    "  "
   ]
  },
  {
   "cell_type": "code",
   "execution_count": null,
   "metadata": {},
   "outputs": [],
   "source": [
    "#TODO need to reduce the number of correspondances to continent "
   ]
  },
  {
   "cell_type": "code",
   "execution_count": 63,
   "metadata": {},
   "outputs": [
    {
     "data": {
      "text/plain": [
       "['AMS',\n",
       " 'CDG',\n",
       " 'FRA',\n",
       " 'SEA',\n",
       " 'DEN',\n",
       " 'LAS',\n",
       " 'BNA',\n",
       " 'LAX',\n",
       " 'MSP',\n",
       " 'LIR',\n",
       " 'CVG',\n",
       " 'SXM',\n",
       " 'ROC',\n",
       " 'GCM',\n",
       " 'ICN',\n",
       " 'SRQ',\n",
       " 'STT',\n",
       " 'CHS',\n",
       " 'PIT',\n",
       " 'SAL',\n",
       " 'RIC',\n",
       " 'UVF',\n",
       " 'IND',\n",
       " 'IAH',\n",
       " 'MBJ',\n",
       " 'DFW',\n",
       " 'BWI',\n",
       " 'SDF',\n",
       " 'SLC',\n",
       " 'SDQ',\n",
       " 'JAX',\n",
       " 'AUA',\n",
       " 'BUF',\n",
       " 'FLL',\n",
       " 'AUS',\n",
       " 'SAV',\n",
       " 'POP',\n",
       " 'HNL',\n",
       " 'STI',\n",
       " 'SJU',\n",
       " 'KEF',\n",
       " 'DCA',\n",
       " 'TPA',\n",
       " 'MCO',\n",
       " 'PHX',\n",
       " 'DXB',\n",
       " 'DTW',\n",
       " 'MEM',\n",
       " 'BGI',\n",
       " 'CLE',\n",
       " 'ORD',\n",
       " 'RSW',\n",
       " 'SFO',\n",
       " 'IST',\n",
       " 'PBI',\n",
       " 'EYW',\n",
       " 'MIA',\n",
       " 'SAN',\n",
       " 'PUJ',\n",
       " 'MAD',\n",
       " 'IAD',\n",
       " 'SYR',\n",
       " 'MSY',\n",
       " 'CMH',\n",
       " 'NRT',\n",
       " 'RDU',\n",
       " 'CLT',\n",
       " 'NAS',\n",
       " 'PLS',\n",
       " 'LHR',\n",
       " 'CUN',\n",
       " 'ATL',\n",
       " 'LIS',\n",
       " 'DUB',\n",
       " 'DOH',\n",
       " 'ZRH']"
      ]
     },
     "execution_count": 63,
     "metadata": {},
     "output_type": "execute_result"
    }
   ],
   "source": [
    "def liaison_correspondances(nb_correspondances : int, airportName1 : str, airportName2 : str): \n",
    "    '''\n",
    "    fonction qui en fonction de nombre de correspondances donne les codes des airports qui pouvait être une correspondance \n",
    "    retour : soit un liste avec les code des airports, soit le code d'un route (depends de nb_correspondances)\n",
    "    '''\n",
    "    c1 = findAirportCode(airportName1)\n",
    "    c2 = findAirportCode(airportName2)\n",
    "\n",
    "    if nb_correspondances == 0 :\n",
    "        return connection_between_two_airports(c1, c2)\n",
    "    elif nb_correspondances == 1 :\n",
    "        d1 = connection_between_two_airports(c1, '')\n",
    "        d2 = connection_between_two_airports('', c2)\n",
    "        \n",
    "        return compare_dict_airport_v1(d1, d2)\n",
    "\n",
    "liaison_correspondances(1, 'Aalborg Airport', 'Amsterdam Schiphol Airport')"
   ]
  }
 ],
 "metadata": {
  "interpreter": {
   "hash": "186cdeb570711ed85187c509d68d5628274aea7de7df5beca59491276fe8c4d6"
  },
  "kernelspec": {
   "display_name": "Python 3.9.7 ('base')",
   "language": "python",
   "name": "python3"
  },
  "language_info": {
   "codemirror_mode": {
    "name": "ipython",
    "version": 3
   },
   "file_extension": ".py",
   "mimetype": "text/x-python",
   "name": "python",
   "nbconvert_exporter": "python",
   "pygments_lexer": "ipython3",
   "version": "3.9.7"
  },
  "orig_nbformat": 4
 },
 "nbformat": 4,
 "nbformat_minor": 2
}
