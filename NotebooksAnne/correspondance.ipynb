{
 "cells": [
  {
   "cell_type": "code",
   "execution_count": 1,
   "metadata": {},
   "outputs": [],
   "source": [
    "import pandas as pd\n",
    "import ipywidgets as widgets\n"
   ]
  },
  {
   "cell_type": "code",
   "execution_count": 2,
   "metadata": {},
   "outputs": [],
   "source": [
    "airports = pd.read_csv(\"../data/aeroportsANLO.csv\")\n",
    "routes = pd.read_csv(\"../data/routesANLO.csv\")"
   ]
  },
  {
   "cell_type": "code",
   "execution_count": 69,
   "metadata": {},
   "outputs": [],
   "source": [
    "# creation du list from airports \n",
    "name_airports = airports['name'].tolist()\n",
    "iata_airports = airports['iata'].tolist()"
   ]
  },
  {
   "cell_type": "code",
   "execution_count": 67,
   "metadata": {},
   "outputs": [
    {
     "data": {
      "application/vnd.jupyter.widget-view+json": {
       "model_id": "126b274a05b24774806e21ff58fdf911",
       "version_major": 2,
       "version_minor": 0
      },
      "text/plain": [
       "Dropdown(description='Airport Depart:', options=('A Coruna Airport', 'Aachen Merzbruck Airport', 'Aalborg Airp…"
      ]
     },
     "metadata": {},
     "output_type": "display_data"
    }
   ],
   "source": [
    "airportDepart = widgets.Dropdown(\n",
    "    options= name_airports,\n",
    "    description='Airport Depart:',\n",
    "    disabled=False,\n",
    ")\n",
    "airportDepart"
   ]
  },
  {
   "cell_type": "code",
   "execution_count": 68,
   "metadata": {},
   "outputs": [
    {
     "data": {
      "application/vnd.jupyter.widget-view+json": {
       "model_id": "38ac1aef91634d07a24ebe780c73fd19",
       "version_major": 2,
       "version_minor": 0
      },
      "text/plain": [
       "Dropdown(description='Airport Depart:', options=('A Coruna Airport', 'Aachen Merzbruck Airport', 'Aalborg Airp…"
      ]
     },
     "metadata": {},
     "output_type": "display_data"
    }
   ],
   "source": [
    "airportArrive = widgets.Dropdown(\n",
    "    options= name_airports,\n",
    "    description='Airport Depart:',\n",
    "    disabled=False,\n",
    ")\n",
    "\n",
    "airportArrive"
   ]
  },
  {
   "cell_type": "code",
   "execution_count": 6,
   "metadata": {},
   "outputs": [
    {
     "data": {
      "application/vnd.jupyter.widget-view+json": {
       "model_id": "f5db905ed9d940db84b7877376d8c937",
       "version_major": 2,
       "version_minor": 0
      },
      "text/plain": [
       "BoundedIntText(value=1, description='Number of correpondances:', max=5, min=1)"
      ]
     },
     "metadata": {},
     "output_type": "display_data"
    }
   ],
   "source": [
    "nb_correspondances =widgets.BoundedIntText(\n",
    "    value=1,\n",
    "    min=1,\n",
    "    max=5,\n",
    "    step=1,\n",
    "    description='Number of correpondances:',\n",
    "    disabled=False\n",
    ")\n",
    "\n",
    "nb_correspondances"
   ]
  },
  {
   "cell_type": "code",
   "execution_count": 7,
   "metadata": {},
   "outputs": [
    {
     "data": {
      "text/plain": [
       "'On veut aller de A Coruna Airport à A Coruna Airport avec 1 corresponances'"
      ]
     },
     "execution_count": 7,
     "metadata": {},
     "output_type": "execute_result"
    }
   ],
   "source": [
    "\"On veut aller de {} à {} avec {} corresponances\".format(airportDepart.value, airportArrive.value, nb_correspondances.value)\n"
   ]
  },
  {
   "cell_type": "code",
   "execution_count": 75,
   "metadata": {},
   "outputs": [],
   "source": [
    "# d'abord on vais ecrire une function pour trouver une route entre deux airports donnees \n",
    "def findAirportCode(airportName : str):\n",
    "    '''\n",
    "    fonction pour trouver le airport code ('iata') si on a une airportname \n",
    "    retour : string with 3 letters corresponding to iata of airport \n",
    "    '''\n",
    "    index = name_airports.index(airportName)\n",
    "    return iata_airports[index]\n",
    "        "
   ]
  },
  {
   "cell_type": "code",
   "execution_count": 152,
   "metadata": {},
   "outputs": [],
   "source": [
    "# fonction qui vérifie si une les deux codes de airports ont une liaison/route \n",
    "def connection_between_two_airports(airportArriveCode : str, airportDepartCode : str):\n",
    "    '''\n",
    "    fonction qui verifie si on a une liaison/route entre les deux codes \n",
    "    retour : integer qui répresent le num_IATA \n",
    "    '''\n",
    "    if(airportDepartCode == ''):\n",
    "      tmp1 = [\"airportC\", \"IATA\"]\n",
    "      tmp = dict();\n",
    "      for row in routes.iterrows():\n",
    "        if(row[1][11] == airportArriveCode):\n",
    "          tmp2 = [row[1][12], row[1][14]]\n",
    "          tmp3 = dict(zip(tmp1, tmp2))\n",
    "          ##print(tmp3)\n",
    "          tmp.update(tmp3)\n",
    "      return tmp\n",
    "    else: \n",
    "      for row in routes.iterrows():\n",
    "        # 11 -> arrive, 12 --> depart, 13 --> num_IATA \n",
    "        if((row[1][11] == airportArriveCode) and (row[1][12] == airportDepartCode)):\n",
    "          return row[1][13]\n",
    "        \n"
   ]
  },
  {
   "cell_type": "code",
   "execution_count": 153,
   "metadata": {},
   "outputs": [
    {
     "data": {
      "text/plain": [
       "{'airportC': 'BOS', 'IATA': 0}"
      ]
     },
     "execution_count": 153,
     "metadata": {},
     "output_type": "execute_result"
    }
   ],
   "source": [
    "connection_between_two_airports('JFK', '')"
   ]
  },
  {
   "cell_type": "code",
   "execution_count": null,
   "metadata": {},
   "outputs": [],
   "source": [
    "def liaison_correspondances(nb_correspondances : int, airportName1 : str, airportName2 : str): \n",
    "    c1 = findAirportCode(airportName1)\n",
    "    c2 = findAirportCode(airportName2)\n",
    "    \n",
    "    if(nb_correspondances == 1):\n",
    "        return connection_between_two_airports(c1, c2) \n",
    "    else:\n",
    "        l1 = connection_between_two_airports(c1, '')\n",
    "        l2 = connection_between_two_airports(c2, '')\n",
    "        \n",
    "        \n",
    "        "
   ]
  }
 ],
 "metadata": {
  "interpreter": {
   "hash": "186cdeb570711ed85187c509d68d5628274aea7de7df5beca59491276fe8c4d6"
  },
  "kernelspec": {
   "display_name": "Python 3.9.7 ('base')",
   "language": "python",
   "name": "python3"
  },
  "language_info": {
   "codemirror_mode": {
    "name": "ipython",
    "version": 3
   },
   "file_extension": ".py",
   "mimetype": "text/x-python",
   "name": "python",
   "nbconvert_exporter": "python",
   "pygments_lexer": "ipython3",
   "version": "3.9.7"
  },
  "orig_nbformat": 4
 },
 "nbformat": 4,
 "nbformat_minor": 2
}
