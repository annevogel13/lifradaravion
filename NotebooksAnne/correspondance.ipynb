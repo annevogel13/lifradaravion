{
 "cells": [
  {
   "cell_type": "code",
   "execution_count": 1,
   "metadata": {},
   "outputs": [],
   "source": [
    "import pandas as pd\n",
    "import ipywidgets as widgets\n"
   ]
  },
  {
   "cell_type": "code",
   "execution_count": 2,
   "metadata": {},
   "outputs": [],
   "source": [
    "airports = pd.read_csv(\"../data/aeroportsANLO.csv\")\n",
    "routes = pd.read_csv(\"../data/routesANLO.csv\")"
   ]
  },
  {
   "cell_type": "code",
   "execution_count": 3,
   "metadata": {},
   "outputs": [],
   "source": [
    "# creation du list from airports \n",
    "name_airports = airports['name'].tolist()\n",
    "iata_airports = airports['iata'].tolist()"
   ]
  },
  {
   "cell_type": "code",
   "execution_count": 4,
   "metadata": {},
   "outputs": [
    {
     "data": {
      "application/vnd.jupyter.widget-view+json": {
       "model_id": "05d3c4b9e2ed4e88ac037d3f2d32994a",
       "version_major": 2,
       "version_minor": 0
      },
      "text/plain": [
       "Dropdown(description='Airport Depart:', options=('A Coruna Airport', 'Aachen Merzbruck Airport', 'Aalborg Airp…"
      ]
     },
     "metadata": {},
     "output_type": "display_data"
    }
   ],
   "source": [
    "airportDepart = widgets.Dropdown(\n",
    "    options= name_airports,\n",
    "    description='Airport Depart:',\n",
    "    disabled=False,\n",
    ")\n",
    "airportDepart"
   ]
  },
  {
   "cell_type": "code",
   "execution_count": 5,
   "metadata": {},
   "outputs": [
    {
     "data": {
      "application/vnd.jupyter.widget-view+json": {
       "model_id": "25e760bd6c4342f68ce40a03520f0b17",
       "version_major": 2,
       "version_minor": 0
      },
      "text/plain": [
       "Dropdown(description='Airport Depart:', options=('A Coruna Airport', 'Aachen Merzbruck Airport', 'Aalborg Airp…"
      ]
     },
     "metadata": {},
     "output_type": "display_data"
    }
   ],
   "source": [
    "airportArrive = widgets.Dropdown(\n",
    "    options= name_airports,\n",
    "    description='Airport Depart:',\n",
    "    disabled=False,\n",
    ")\n",
    "\n",
    "airportArrive"
   ]
  },
  {
   "cell_type": "code",
   "execution_count": 6,
   "metadata": {},
   "outputs": [
    {
     "data": {
      "application/vnd.jupyter.widget-view+json": {
       "model_id": "e1ddbd782d0343d89a4216aad8a1d2c0",
       "version_major": 2,
       "version_minor": 0
      },
      "text/plain": [
       "BoundedIntText(value=1, description='Number of correpondances:', max=5, min=1)"
      ]
     },
     "metadata": {},
     "output_type": "display_data"
    }
   ],
   "source": [
    "nb_correspondances =widgets.BoundedIntText(\n",
    "    value=1,\n",
    "    min=1,\n",
    "    max=5,\n",
    "    step=1,\n",
    "    description='Number of correpondances:',\n",
    "    disabled=False\n",
    ")\n",
    "\n",
    "nb_correspondances"
   ]
  },
  {
   "cell_type": "code",
   "execution_count": 7,
   "metadata": {},
   "outputs": [
    {
     "data": {
      "text/plain": [
       "'On veut aller de A Coruna Airport à A Coruna Airport avec 1 corresponances'"
      ]
     },
     "execution_count": 7,
     "metadata": {},
     "output_type": "execute_result"
    }
   ],
   "source": [
    "\"On veut aller de {} à {} avec {} corresponances\".format(airportDepart.value, airportArrive.value, nb_correspondances.value)\n"
   ]
  },
  {
   "cell_type": "code",
   "execution_count": 8,
   "metadata": {},
   "outputs": [],
   "source": [
    "# d'abord on vais ecrire une function pour trouver une route entre deux airports donnees \n",
    "def findAirportCode(airportName : str):\n",
    "    '''\n",
    "    fonction pour trouver le airport code ('iata') si on a une airportname \n",
    "    retour : string with 3 letters corresponding to iata of airport \n",
    "    '''\n",
    "    index = name_airports.index(airportName)\n",
    "    return iata_airports[index]\n",
    "        "
   ]
  },
  {
   "cell_type": "code",
   "execution_count": 18,
   "metadata": {},
   "outputs": [],
   "source": [
    "def connection_between_two_airports(airportArriveCode : str, airportDepartCode : str):\n",
    "    '''\n",
    "    fonction qui verifie si on a une liaison/route entre les deux codes \n",
    "    retour : integer qui répresent le num_IATA \n",
    "    '''\n",
    "    if airportDepartCode == '' or airportArriveCode == '':\n",
    "      if airportDepartCode == '' : var1 = airportArriveCode\n",
    "      else : var1 = airportDepartCode\n",
    "      \n",
    "      tmp1 = [\"airportC\", \"IATA\"]\n",
    "      tmp = dict();\n",
    "      index = 0 ; \n",
    "      for row in routes.iterrows():\n",
    "        if(row[1][11] == var1):\n",
    "          tmp2 = [row[1][12], row[1][13]]\n",
    "          tmp3 = dict(zip(tmp1, tmp2))\n",
    "          tmp[index] = tmp3 \n",
    "          index = index + 1\n",
    "      return tmp\n",
    "    else: \n",
    "      for row in routes.iterrows():\n",
    "        # 11 -> arrive, 12 --> depart, 13 --> num_IATA \n",
    "        if((row[1][11] == airportArriveCode) and (row[1][12] == airportDepartCode)):\n",
    "          return row[1][13]"
   ]
  },
  {
   "cell_type": "code",
   "execution_count": 10,
   "metadata": {},
   "outputs": [],
   "source": [
    "# fonction qui vérifie si une les deux codes de airports ont une liaison/route \n",
    "def connection_between_two_airports_v2(airportArriveCode : str, airportDepartCode : str):\n",
    "    '''\n",
    "    fonction qui verifie si on a une liaison/route entre les deux codes \n",
    "    retour : integer qui répresent le num_IATA ou un dict avec {airport : IATA}\n",
    "    '''\n",
    "    if airportDepartCode == '' or airportArriveCode == '':\n",
    "      if airportDepartCode == '' : var1 = airportArriveCode\n",
    "      else : var1 = airportDepartCode\n",
    "      \n",
    "      tmp = dict();\n",
    "      for row in routes.iterrows():\n",
    "        if(row[1][11] == var1):\n",
    "          tmp[row[1][12]] = row[1][13] # dict avec comme kley le code d'airport \n",
    "      return tmp\n",
    "    \n",
    "    else: \n",
    "      for row in routes.iterrows():\n",
    "        # 11 -> arrive, 12 --> depart, 13 --> num_IATA \n",
    "        if((row[1][11] == airportArriveCode) and (row[1][12] == airportDepartCode)):\n",
    "          return row[1][13]\n",
    "          \n",
    "#connection_between_two_airports_v2('JFK', '')\n"
   ]
  },
  {
   "cell_type": "code",
   "execution_count": 11,
   "metadata": {},
   "outputs": [],
   "source": [
    "#connection_between_two_airports('JFK', '') # check 645 tuples \n",
    "#connection_between_two_airports('', 'JFK') # check 645 tuples \n",
    "\n",
    "# JFK -> LAX \n",
    "d1 = connection_between_two_airports('JFK', '') # LAX\n",
    "d2 = connection_between_two_airports('', 'BOS') # LAX\n",
    "#print(connection_between_two_airports('JFK', 'BOS'))"
   ]
  },
  {
   "cell_type": "code",
   "execution_count": 12,
   "metadata": {},
   "outputs": [],
   "source": [
    "#compare two dict to find the same airport \n",
    "             \n",
    "def compare_dict_airport_v1(dict1 : dict, dict2 : dict):\n",
    "    '''\n",
    "    fonction qui retourne une list avec tous les airports que les deux dictionnaires ont en commen\n",
    "    retour : list des airport codes \n",
    "    '''\n",
    "    possibilites_duplicates = [] \n",
    "    ########## loop d1\n",
    "    for k, content_k in d1.items():\n",
    "            ########### loop d2 \n",
    "            for p, content_p in d2.items():\n",
    "                ## test if in those dict are the same airports \n",
    "                if content_k['airportC'] == content_p['airportC']:\n",
    "                    possibilites_duplicates.append(content_k['airportC'])\n",
    "    return list(set(possibilites_duplicates))\n",
    "  "
   ]
  },
  {
   "cell_type": "code",
   "execution_count": 13,
   "metadata": {},
   "outputs": [],
   "source": [
    "\n",
    "#dd1 = connection_between_two_airports_v2('JFK', '') # LAX 22.2\n",
    "dd1 = connection_between_two_airports_v2('BOS', '') # BOS 22.2"
   ]
  },
  {
   "cell_type": "code",
   "execution_count": 14,
   "metadata": {},
   "outputs": [],
   "source": [
    "\n",
    "#dd1 = connection_between_two_airports('JFK', '') # LAX 24.1\n",
    "dd1 = connection_between_two_airports('BOS', '') # LAX 24.1\n"
   ]
  },
  {
   "cell_type": "code",
   "execution_count": 16,
   "metadata": {},
   "outputs": [],
   "source": [
    "#compare two dict to find the same airport \n",
    "             \n",
    "def compare_dict_airport_v2(dict1 : dict, dict2 : dict):\n",
    "    '''\n",
    "    fonction qui retourne une list avec tous les airports que les deux dictionnaires ont en commen\n",
    "    retour : list des airport codes \n",
    "    '''\n",
    "    possibilites_duplicates = [] \n",
    "    ########## loop d1\n",
    "    for k, content_k in d1.items():\n",
    "            ########### loop d2 \n",
    "            for p, content_p in d2.items():\n",
    "                ## test if in those dict are the same airports \n",
    "                if content_k['airportC'] == content_p['airportC']:\n",
    "                    possibilites_duplicates.append(content_k['airportC'])\n",
    "    return list(set(possibilites_duplicates))\n",
    "  \n",
    "#compare_dict_airport_v2(dd1, dd2)\n"
   ]
  },
  {
   "cell_type": "code",
   "execution_count": 19,
   "metadata": {},
   "outputs": [],
   "source": [
    "#TODO need to reduce the number of correspondances to continent \n",
    "%run continentFonctions.ipynb"
   ]
  },
  {
   "cell_type": "code",
   "execution_count": 17,
   "metadata": {},
   "outputs": [],
   "source": [
    "def liaison_correspondances(nb_correspondances : int, airportName1 : str, airportName2 : str): \n",
    "    '''\n",
    "    fonction qui en fonction de nombre de correspondances donne les codes des airports qui pouvait être une correspondance \n",
    "    retour : soit un liste avec les code des airports, soit le code d'un route (depends de nb_correspondances)\n",
    "    '''\n",
    "    c1 = findAirportCode(airportName1)\n",
    "    c2 = findAirportCode(airportName2)\n",
    "\n",
    "    if nb_correspondances == 0 :\n",
    "        return connection_between_two_airports(c1, c2)\n",
    "    elif nb_correspondances == 1 :\n",
    "        d1 = connection_between_two_airports(c1, '')\n",
    "        d2 = connection_between_two_airports('', c2)\n",
    "        \n",
    "        return compare_dict_airport_v1(d1, d2)\n",
    "\n",
    "#liaison_correspondances(1, 'Aalborg Airport', 'Amsterdam Schiphol Airport')"
   ]
  }
 ],
 "metadata": {
  "interpreter": {
   "hash": "186cdeb570711ed85187c509d68d5628274aea7de7df5beca59491276fe8c4d6"
  },
  "kernelspec": {
   "display_name": "Python 3.9.7 ('base')",
   "language": "python",
   "name": "python3"
  },
  "language_info": {
   "codemirror_mode": {
    "name": "ipython",
    "version": 3
   },
   "file_extension": ".py",
   "mimetype": "text/x-python",
   "name": "python",
   "nbconvert_exporter": "python",
   "pygments_lexer": "ipython3",
   "version": "3.9.7"
  },
  "orig_nbformat": 4
 },
 "nbformat": 4,
 "nbformat_minor": 2
}
