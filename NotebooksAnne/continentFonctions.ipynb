{
 "cells": [
  {
   "cell_type": "code",
   "execution_count": 17,
   "metadata": {},
   "outputs": [],
   "source": [
    "import pandas as pd \n",
    "import numpy as np"
   ]
  },
  {
   "cell_type": "code",
   "execution_count": 136,
   "metadata": {},
   "outputs": [],
   "source": [
    "continents = pd.read_csv(\"../data/countryContinentAN.csv\", encoding='ISO-8859-1').to_dict()\n",
    "# encoding = \" .. \"  because there were weird symbols in the .csv file"
   ]
  },
  {
   "cell_type": "code",
   "execution_count": null,
   "metadata": {},
   "outputs": [],
   "source": []
  },
  {
   "cell_type": "code",
   "execution_count": 139,
   "metadata": {},
   "outputs": [],
   "source": [
    "def return_continent(country : str):\n",
    "    '''\n",
    "    fonction qui retourne le continent d'une pays\n",
    "    retour : le nom du continent (en str)\n",
    "    '''\n",
    "    if(country == \"United States\"):\n",
    "        return 'Americas'\n",
    "    else: \n",
    "        \n",
    "        for i in range(0, 248):\n",
    "            if(continents['country'][i] == country):\n",
    "                return continents['continent'][i]\n",
    "    \n",
    "        return \"continent not found\"\n",
    "\n",
    "#return_continent(\"\")\n",
    "#return_continent(\"France\")\n"
   ]
  },
  {
   "cell_type": "code",
   "execution_count": 134,
   "metadata": {},
   "outputs": [],
   "source": [
    "def same_continent(country1 : str, country2 : str ):\n",
    "    ''' \n",
    "    fonction qui verifie si deux pays sont sur le meme continent\n",
    "    retour : vrai si sur le meme continent, sinon faux\n",
    "    '''\n",
    "    c1 = return_continent(country1)\n",
    "    c2 = return_continent(country2)\n",
    "    return c1 == c2 \n",
    "\n",
    "#same_continent(\"France\", \"Canada\")\n",
    "#same_continent(\"France\", \"Germany\")"
   ]
  }
 ],
 "metadata": {
  "interpreter": {
   "hash": "186cdeb570711ed85187c509d68d5628274aea7de7df5beca59491276fe8c4d6"
  },
  "kernelspec": {
   "display_name": "Python 3.9.7 ('base')",
   "language": "python",
   "name": "python3"
  },
  "language_info": {
   "codemirror_mode": {
    "name": "ipython",
    "version": 3
   },
   "file_extension": ".py",
   "mimetype": "text/x-python",
   "name": "python",
   "nbconvert_exporter": "python",
   "pygments_lexer": "ipython3",
   "version": "3.9.7"
  },
  "orig_nbformat": 4
 },
 "nbformat": 4,
 "nbformat_minor": 2
}
