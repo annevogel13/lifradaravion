{
 "cells": [
  {
   "cell_type": "code",
   "execution_count": 243,
   "metadata": {},
   "outputs": [],
   "source": [
    "import pandas as pd\n",
    "import csv\n",
    "import math\n",
    "import networkx as nx \n",
    "import heapq\n",
    "import random \n",
    "# numpy pour dijkstra \n",
    "import numpy as np\n",
    "from numpy import Inf\n",
    "\n",
    "#Widget\n",
    "import ipywidgets as widgets\n",
    "from IPython.display import display\n",
    "\n",
    "#Map interactive\n",
    "import folium\n",
    "from folium.plugins import MarkerCluster\n",
    "\n",
    "#Map pour connection\n",
    "import matplotlib.pyplot as plt\n",
    "%matplotlib inline\n",
    "\n",
    "#Calcul great circle\n",
    "import pyproj\n",
    "\n",
    "import tkinter\n",
    "#import os\n",
    "#import flightradar24\n",
    "from branca.element import Figure\n",
    "import igraph as ig\n",
    "\n"
   ]
  },
  {
   "cell_type": "code",
   "execution_count": 244,
   "metadata": {},
   "outputs": [],
   "source": [
    "#pip install markupsafe==2.1.1"
   ]
  },
  {
   "cell_type": "code",
   "execution_count": 245,
   "metadata": {},
   "outputs": [],
   "source": [
    "#pip install pandas\n",
    "#pip install networkx\n",
    "#pip install ipywidgets\n",
    "#pip install folium\n",
    "#pip install matplotlib\n",
    "#pip install pyproj\n",
    "#pip install nbinteract\n",
    "#pip install scipy\n",
    "# pip3 install nbdev\n",
    "#python -m pip install markupsafe==2.0.1"
   ]
  },
  {
   "cell_type": "code",
   "execution_count": 246,
   "metadata": {},
   "outputs": [],
   "source": [
    "#python -m pip install markupsafe==2.0.1"
   ]
  },
  {
   "cell_type": "code",
   "execution_count": 247,
   "metadata": {},
   "outputs": [],
   "source": [
    "#pip install voila\n",
    "# pip install networkx\n",
    "# pip install pyproj\n",
    "\n",
    "# pyhton -m pip install package "
   ]
  },
  {
   "cell_type": "code",
   "execution_count": 248,
   "metadata": {},
   "outputs": [],
   "source": [
    "#chemin=\"../data/\"\n",
    "chemin=\"../../data/\"\n",
    "\n",
    "\n",
    "#df_aeroports = pd.read_csv(chemin + \"aeroportsANLO.csv\")\n",
    "#df_zones = pd.read_csv(chemin + \"zonesANLO.csv\")\n",
    "df_vols = pd.read_csv(chemin + \"routesANLO.csv\")\n",
    "#df_compagnies = pd.read_csv(chemin + \"compagniesANLO.csv\")"
   ]
  },
  {
   "cell_type": "code",
   "execution_count": 249,
   "metadata": {},
   "outputs": [],
   "source": [
    "dict_compagnies = {}\n",
    "\n",
    "with open(chemin+'compagniesANLO.csv', mode='r') as inp:\n",
    "    reader = csv.reader(inp)\n",
    "    next(reader, None)\n",
    "    headers = ['Name','Country']\n",
    "    dict_compagnies = {rows[2]:dict(zip(headers,[rows[0],rows[3]])) for rows in reader}\n"
   ]
  },
  {
   "cell_type": "code",
   "execution_count": 250,
   "metadata": {},
   "outputs": [
    {
     "data": {
      "text/plain": [
       "{'Name': 'New York LaGuardia Airport',\n",
       " 'Iata': 'LGA',\n",
       " 'Icao': 'KLGA',\n",
       " 'Lat': '40.777248',\n",
       " 'Lon': '-73.872597',\n",
       " 'Country': 'United States',\n",
       " 'Alt': '21',\n",
       " 'City': 'New York'}"
      ]
     },
     "execution_count": 250,
     "metadata": {},
     "output_type": "execute_result"
    }
   ],
   "source": [
    "dict_aeroports = {}\n",
    "\n",
    "with open(chemin+'aeroportsANLO.csv', mode='r') as inp:\n",
    "    reader = csv.reader(inp)\n",
    "    headers = next(reader, None)\n",
    "    dict_aeroports = {rows[1]:dict(zip(headers,rows[0:8])) for rows in reader}\n",
    "\n",
    "dict_aeroports['JFK']\n",
    "dict_aeroports['EWR']\n",
    "dict_aeroports['LGA']\n",
    "#DistGrandCercleICAO('JFK', 'EWR') < 50 "
   ]
  },
  {
   "cell_type": "code",
   "execution_count": 251,
   "metadata": {},
   "outputs": [],
   "source": [
    "dict_pays = {}\n",
    "\n",
    "with open(chemin+'countries.csv', mode='r') as inp:\n",
    "    reader = csv.reader(inp)\n",
    "    headers = next(reader, None)\n",
    "    dict_pays = {rows[1]:rows[0] for rows in reader}\n",
    "\n",
    "#dict_pays"
   ]
  },
  {
   "cell_type": "code",
   "execution_count": 252,
   "metadata": {},
   "outputs": [],
   "source": [
    "df_vols = df_vols[[\"Depart\",\"Arrivee\",\"Code_ICAO\"]].dropna()"
   ]
  },
  {
   "cell_type": "code",
   "execution_count": 253,
   "metadata": {},
   "outputs": [
    {
     "data": {
      "text/plain": [
       "\"'\\n#Nettoyage de la df_vols\\nfor _, ligne in df_vols.iterrows():\\n    if not(ligne.Depart in dict_aeroports):\\n        df_vols.drop(df_vols[df_vols['Depart'] == ligne.Depart].index, inplace=True)\\n    \\n    if not(ligne.Arrivee in dict_aeroports):\\n        df_vols.drop(df_vols[df_vols['Arrivee'] == ligne.Arrivee].index, inplace=True)\\n    \""
      ]
     },
     "execution_count": 253,
     "metadata": {},
     "output_type": "execute_result"
    }
   ],
   "source": [
    "''''\n",
    "#Nettoyage de la df_vols\n",
    "for _, ligne in df_vols.iterrows():\n",
    "    if not(ligne.Depart in dict_aeroports):\n",
    "        df_vols.drop(df_vols[df_vols['Depart'] == ligne.Depart].index, inplace=True)\n",
    "    \n",
    "    if not(ligne.Arrivee in dict_aeroports):\n",
    "        df_vols.drop(df_vols[df_vols['Arrivee'] == ligne.Arrivee].index, inplace=True)\n",
    "    ''' "
   ]
  },
  {
   "cell_type": "code",
   "execution_count": 254,
   "metadata": {},
   "outputs": [],
   "source": [
    "def coordDepuisAeroport(iata : str):\n",
    "    '''\n",
    "    Fonction : Recherche les coordonnées GPS d'un aéroport\n",
    "    Retour : lat : float ,lon : float --> Latitude & longitude de l'aéroport\n",
    "    '''\n",
    "    lat = float(dict_aeroports[iata]['Lat'])\n",
    "    lon = float(dict_aeroports[iata]['Lon'])\n",
    "    return lat,lon\n",
    "\n",
    "def DistGrandCercle(lat1 : float, lon1 : float, lat2 : float, lon2 : float):\n",
    "    #Conversion en radian\n",
    "    lat1, lon1, lat2, lon2 = map(math.radians, [lat1, lon1, lat2, lon2])\n",
    "\n",
    "    #Delta des coordonnées\n",
    "    dlat = lat2 - lat1\n",
    "    dlon = lon2 - lon1\n",
    "\n",
    "    #Rayon terrestre (en km)\n",
    "    r = 6367.0\n",
    "\n",
    "    #Formule d'Haversine\n",
    "    a = math.sin(dlat/2)**2 + math.cos(lat1) * math.cos(lat2) * math.sin(dlon/2)**2\n",
    "    return 2 * r * math.asin(math.sqrt(a))\n",
    "\n",
    "\n",
    "def DistGrandCercleICAO(icao1 : str, icao2 : str):\n",
    "    #Récupération des coordonnées des aéroports\n",
    "    latDep, lonDep = coordDepuisAeroport(icao1)\n",
    "    latArr, lonArr = coordDepuisAeroport(icao2)\n",
    "\n",
    "    #On calcule la distance les séparant,                                                     \n",
    "    return DistGrandCercle(latDep,lonDep,latArr,lonArr)\n",
    "\n",
    "def Sqr(a):\n",
    "    return a*a\n",
    "\n",
    "def Dist(x1,y1,x2,y2):\n",
    "    return math.sqrt((y2-y1)**2+(x2-x1)**2)"
   ]
  },
  {
   "cell_type": "code",
   "execution_count": 255,
   "metadata": {},
   "outputs": [],
   "source": [
    "import json \n",
    "import pickle"
   ]
  },
  {
   "cell_type": "code",
   "execution_count": 256,
   "metadata": {},
   "outputs": [
    {
     "data": {
      "text/plain": [
       "'\\ndict_route = {}\\n\\ng = df_vols.groupby([\\'Depart\\',\\'Arrivee\\'])\\ntaille_groupe = g.size().items()\\n\\nfor liaison, nbrVols in taille_groupe:\\n    #Si la liaison est déjà dans le dict, on incrémente le nbr de vols\\n    if(frozenset(liaison) in dict_route):\\n        dict_route[frozenset(liaison)][\\'Vols\\'] += nbrVols\\n    #Sinon, on crée une nouvelle liaison\\n    else:\\n        dict_route[frozenset(liaison)] = {\\'Dist\\' : DistGrandCercleICAO(liaison[0],liaison[1]), \\'Vols\\' : nbrVols}\\n\\n\\na_file = open(\"dict_route.pkl\", \"wb\")\\npickle.dump(dict_route, a_file)\\na_file.close()\\n'"
      ]
     },
     "execution_count": 256,
     "metadata": {},
     "output_type": "execute_result"
    }
   ],
   "source": [
    "'''\n",
    "dict_route = {}\n",
    "\n",
    "g = df_vols.groupby(['Depart','Arrivee'])\n",
    "taille_groupe = g.size().items()\n",
    "\n",
    "for liaison, nbrVols in taille_groupe:\n",
    "    #Si la liaison est déjà dans le dict, on incrémente le nbr de vols\n",
    "    if(frozenset(liaison) in dict_route):\n",
    "        dict_route[frozenset(liaison)]['Vols'] += nbrVols\n",
    "    #Sinon, on crée une nouvelle liaison\n",
    "    else:\n",
    "        dict_route[frozenset(liaison)] = {'Dist' : DistGrandCercleICAO(liaison[0],liaison[1]), 'Vols' : nbrVols}\n",
    "\n",
    "\n",
    "a_file = open(\"dict_route.pkl\", \"wb\")\n",
    "pickle.dump(dict_route, a_file)\n",
    "a_file.close()\n",
    "'''"
   ]
  },
  {
   "cell_type": "code",
   "execution_count": 257,
   "metadata": {},
   "outputs": [],
   "source": [
    "a_file = open(\"dict_route.pkl\", \"rb\")\n",
    "dict_route = pickle.load(a_file)"
   ]
  },
  {
   "cell_type": "code",
   "execution_count": 258,
   "metadata": {},
   "outputs": [],
   "source": [
    "def filtreDictAeroports(colonne : str, valeur : str):\n",
    "    '''\n",
    "    Fonction : Filtre les clés du dictionnaire en fonction d'une valeur \n",
    "    présente dans les valeurs associées.\n",
    "    Return : Liste de code ICAO des aéroports\n",
    "    '''\n",
    "    Listtmp = []\n",
    "    for (key, value) in dict_aeroports.items():\n",
    "        if value[colonne] == valeur:\n",
    "            Listtmp.append(key)\n",
    "        \n",
    "        if valeur == '':\n",
    "            Listtmp.append(value[colonne])\n",
    "    return Listtmp\n",
    "\n",
    "def filtreDictCompagnies(colonne : str, valeur : str):\n",
    "    '''\n",
    "    Fonction : Filtre les clés du dictionnaire en fonction d'une valeur \n",
    "    présente dans les valeurs associées.\n",
    "    Return : Liste de code ICAO des compagnies\n",
    "    '''\n",
    "    Listtmp = []\n",
    "    for (key, value) in dict_compagnies .items():\n",
    "        if value[colonne] == valeur:\n",
    "            Listtmp.append(key)\n",
    "            \n",
    "        if valeur == '':\n",
    "            Listtmp.append(value[colonne])\n",
    "    return Listtmp"
   ]
  },
  {
   "cell_type": "code",
   "execution_count": 259,
   "metadata": {},
   "outputs": [],
   "source": [
    "def correspondanceAirport(code1 : str, code2 : str):\n",
    "    '''\n",
    "    fonction qui filtre le df_vols pour obtenir les correspondances\n",
    "    retour : list des airports codes \n",
    "    '''\n",
    "    r1 = df_vols[df_vols['Depart'] == code1]['Arrivee'].to_list()\n",
    "    r2 = df_vols[df_vols['Arrivee'] == code2]['Depart'].to_list()\n",
    "\n",
    "    return list(set(r1).intersection(r2))"
   ]
  },
  {
   "cell_type": "code",
   "execution_count": 260,
   "metadata": {},
   "outputs": [],
   "source": [
    "def memeContinent(str_air1, str_air2):\n",
    "    '''\n",
    "    fonction qui retourne vrai si les deux sont sur le meme continent \n",
    "    et faux sinon\n",
    "    '''\n",
    "    c1 = dict_aeroports[str_air1]['Country']\n",
    "    c2 = dict_aeroports[str_air2]['Country']\n",
    "    \n",
    "    return c1 == c2\n",
    "    \n",
    "\n",
    "def nettoyageList(str_list, str_airStart, str_airEnd):\n",
    "    '''\n",
    "    fonction qui supprimer les occurences dans le liste qui ne sont pas sur le \n",
    "    meme continent que les airport de depart et d'arrive . \n",
    "    '''\n",
    "    \n",
    "    if memeContinent(str_airStart, str_airEnd):\n",
    "        #print('Les airports sont sur le même continent ')\n",
    "        compteur = 0 ; \n",
    "        for element in str_list:\n",
    "            if not memeContinent(str_airStart, element):\n",
    "                str_list.remove(element)\n",
    "                compteur = compteur + 1 \n",
    "    \n",
    "    #print('On a enleve {c} airports du list'.format(c = compteur))\n",
    "    return str_list  \n",
    "    "
   ]
  },
  {
   "cell_type": "code",
   "execution_count": 261,
   "metadata": {},
   "outputs": [],
   "source": [
    "def creationEdgesConnection(graphe : nx.Graph, list_reference : list, code1 : str, code2 : str, list_connections_nettoye):\n",
    "    '''\n",
    "    fonction qui genere des edges pour notre graphe avec les weights. On appele seulement cette\n",
    "    focntion si on a le list_connections (qui sont les airports entre code1 et code2)\n",
    "    retour : list_ref (qui a les index qui corresponds au nodes du graph)\n",
    "    '''\n",
    "        \n",
    "    # pour gerer les correspondances \n",
    "    if list_reference.count(code1) == 0: \n",
    "        list_reference.append(code1)\n",
    "        graphe.add_node(list_reference.index(code1))   \n",
    "    if list_reference.count(code2) == 0: \n",
    "        list_reference.append(code2)\n",
    "        graphe.add_node(list_reference.index(code1))\n",
    "    \n",
    "    for i in list_connections_nettoye :\n",
    "        if list_reference.count(i) == 0 : \n",
    "            list_reference.append(i)   \n",
    "            graphe.add_node(list_reference.index(i))  \n",
    "    \n",
    "    index1 = list_reference.index(code1) \n",
    "    index2 = list_reference.index(code2)\n",
    "    \n",
    "    list_edges = list(map(lambda x :\n",
    "        (index1, list_reference.index(x), int(DistGrandCercleICAO(code1, x))),\n",
    "        list_connections_nettoye))\n",
    "    \n",
    "    list_edges.extend(list(map(lambda y : \n",
    "        (list_reference.index(y), index2, int(DistGrandCercleICAO(y, code2))),\n",
    "        list_connections_nettoye)))\n",
    "   \n",
    "   \n",
    "    graphe.add_weighted_edges_from(list_edges)\n",
    "    return list_reference"
   ]
  },
  {
   "cell_type": "code",
   "execution_count": 262,
   "metadata": {},
   "outputs": [],
   "source": [
    "def creationEdgesAucunConnection(graphe : nx.Graph, list_reference : list, code1 : str, code2 : str):\n",
    "    print(code1, code2)\n",
    "    posCoteStart = df_vols[df_vols['Depart'] == code1]['Depart'].to_list()\n",
    "    posCoteEnd = df_vols[df_vols['Arrivee'] == code2]['Depart'].to_list()\n",
    "    \n",
    "    if posCoteStart == []: print('Dans notre database, il y a pas des vols qui part de {} .'.format(code1)) ; return False\n",
    "    if posCoteEnd == []: print('Dans notre database, il y a pas des vols qui arrive sur {} .'.format(code2)); return False\n",
    "    \n",
    "    # des le moment que il trouve une chemin pour reliee les deux airports il le fait \n",
    "    for i_code in posCoteStart:\n",
    "        for j_code in posCoteEnd: \n",
    "            # verifie si on a une connection \n",
    "            tmp = correspondanceAirport(i_code, j_code)\n",
    "            # si on a une conenction \n",
    "            if len(tmp) > 0 :\n",
    "                # on ajoute les premiere elements \n",
    "                list_reference.extend([code1, code2, i_code, j_code])\n",
    "                edgeStart = (list_reference.index(code1), list_reference.index(i_code), int(DistGrandCercleICAO(code1, i_code)))\n",
    "                edgeEnd = (list_reference.index(j_code), list_reference.index(code2), int(DistGrandCercleICAO(j_code, code2)))\n",
    "                \n",
    "                graphe.add_weighted_edges_from([edgeStart, edgeEnd])\n",
    "                return creationEdgesConnection(graphe, list_reference, i_code, j_code, tmp)\n",
    "                 \n",
    "            \n",
    "    print('Aucun possiblite pour relie des airports avec trois correspondances (qui est notre max predifini')"
   ]
  },
  {
   "cell_type": "code",
   "execution_count": 263,
   "metadata": {},
   "outputs": [],
   "source": [
    "def creationEdges(graphe : nx.Graph, list_reference : list, code1 : str, code2 : str):\n",
    "    '''\n",
    "        fonction qui crée à partir d'une liste d'aéroports un list des edges d'une graphe (avec le weight)\n",
    "        et les ajouts dans le graph donne en parametre \n",
    "        retour : list des edges ajoute a la graphe [(start , end, weight), (start, end ,weight ) .. ]\n",
    "    '''\n",
    "    # dans le listReference les airport recois un index qui corresponds au identifiant de graphe \n",
    "    list_connections = correspondanceAirport(code1, code2)\n",
    "    list_connections_nettoye = list_connections\n",
    "    \n",
    "    if(len(list_connections) > 0 ):\n",
    "      return creationEdgesConnection(graphe, list_reference, code1, code2, list_connections_nettoye)\n",
    "    else :\n",
    "        return print(\"let op functie\"); creationEdgesAucunConnection(graphe, list_reference, code1, code2)"
   ]
  },
  {
   "cell_type": "code",
   "execution_count": 264,
   "metadata": {},
   "outputs": [],
   "source": [
    "def dessinerGraphe(graphe, weighted : bool = False):\n",
    "    fig = plt.figure(); \n",
    "    fig.set_size_inches(15, 15)\n",
    "    fig.patch.set_facecolor('white')\n",
    " \n",
    "    pos = nx.fruchterman_reingold_layout(graphe)\n",
    "    nx.draw_networkx_nodes(graphe, pos, node_size = 200)\n",
    "    nx.draw_networkx_edges(graphe,pos, edgelist= graphe.edges(), edge_color='black')\n",
    "    if graphe.number_of_nodes() < 2000:\n",
    "        nx.draw_networkx_labels(graphe, pos)\n",
    "    plt.autoscale()\n",
    "   \n",
    "    if(weighted): nx.draw_networkx_edge_labels(graphe, pos) # afficher le weight \n",
    "\n",
    "    plt.show()"
   ]
  },
  {
   "cell_type": "code",
   "execution_count": 265,
   "metadata": {},
   "outputs": [],
   "source": [
    "def dijkstra(graphe : nx.Graph, start : int, end : int):\n",
    "    '''\n",
    "        fonction qui utilise l'algorithme de Dijkstra pour calcule le plus court\n",
    "        chemin et calcule le distance\n",
    "        retour \\: dict{\\'distance\\' : ... , \\'path\\' : ...}\n",
    "    '''\n",
    "    try :\n",
    "        tmp1 = nx.dijkstra_path(graphe, start,end)\n",
    "        dist = nx.dijkstra_path_length(graphe, start, end)\n",
    "        return {'distance' : dist, 'path' : tmp1}\n",
    "    except nx.NetworkXNoPath:\n",
    "        print('no path (dijkstra)')\n",
    "        return -1 \n",
    "        \n",
    "    "
   ]
  },
  {
   "cell_type": "code",
   "execution_count": 266,
   "metadata": {},
   "outputs": [],
   "source": [
    "def nombreDeCorrespondances(g : nx.Graph, codeStart, codeFin):\n",
    "    listRetour = creationEdges(g, [], codeStart, codeFin)\n",
    "    ## was not  \n",
    "    if listRetour == [] : \n",
    "        \n",
    "        print('check in nombreDeCorrespondance Edges : ', len(listRetour), g.number_of_edges())\n",
    "        \n",
    "        print('check in nombreDeCorrespondance: ', len(listRetour), g.number_of_nodes())\n",
    "            \n",
    "        if g.has_edge(listRetour.index(codeStart), listRetour.index(codeFin)): g.remove_edge(listRetour.index(codeStart), listRetour.index(codeFin))\n",
    "        if g.has_edge(listRetour.index(codeFin), listRetour.index(codeStart)): g.remove_edge(listRetour.index(codeFin), listRetour.index(codeStart))\n",
    "        \n",
    "        return listRetour\n",
    "\n",
    "    return listRetour"
   ]
  },
  {
   "cell_type": "code",
   "execution_count": 267,
   "metadata": {},
   "outputs": [],
   "source": [
    "def traitementRequest(aeroport_start : str, aeroport_fin : str, g : nx.Graph = nx.Graph()):\n",
    "    '''\n",
    "        fonction qui fait le creation de graphe et qui transofrme les nom de airports en node de graphes\n",
    "        retour : graphe, list_ref (qui est le lien entre le nombr de nodes et le code de airports)\n",
    "    '''\n",
    "    aeroport_codeS = filtreDictAeroports('Name', aeroport_start)[0]\n",
    "    aeroport_codeE = filtreDictAeroports('Name', aeroport_fin)[0] \n",
    "    list_ref = [] \n",
    "    list_ref = creationEdges(g, list_ref, aeroport_codeS, aeroport_codeE)\n",
    "    \n",
    "    return g ,list_ref\n",
    "    \n",
    "def distancePlusCourte(graphe: nx.Graph, list_ref : list, aeroport_codeS, aeroport_codeE):\n",
    "    '''\n",
    "        fonction qui trouve le chemin de start aux fin avec le moins de distance possible \n",
    "        retour : dictionnaire en forme de {'distance' : .. , 'path' : [ path1, path2 ]}\n",
    "    '''\n",
    "    resultat = dijkstra(graphe, list_ref.index(aeroport_codeS), list_ref.index(aeroport_codeE))\n",
    "    if(resultat == -1 ):\n",
    "        print('No path (distance plus courte)')\n",
    "        return -1 \n",
    "    else : \n",
    "        resultat['path'] = list(map(lambda x : list_ref[x], resultat['path']))\n",
    "        return resultat \n",
    "\n",
    "def routeAlternatives(graphe : nx.Graph, list_ref : list, int_start : int, int_end : int):\n",
    "    '''\n",
    "        fonction qui trouve tous les chemins de start aux fin avec le meme nombr de correspondances \n",
    "        que le route plus courte. \n",
    "        retour : dictionnaire en forme de {'nbRoute' : .. , 'path' : [ path1, path2 ]}\n",
    "    '''\n",
    "\n",
    "    r = list(nx.all_shortest_paths(graphe,source=int_start,target=int_end))  \n",
    "    \n",
    "    tmp = []; \n",
    "    for i in r: \n",
    "        tmp.append(list(map(lambda x : list_ref[x], i)))\n",
    "        \n",
    "    return {'nbRoute' : len(r), 'path' : tmp} \n"
   ]
  },
  {
   "cell_type": "code",
   "execution_count": 268,
   "metadata": {},
   "outputs": [],
   "source": [
    "# copie de loris \n",
    "def vectGrandCercle(latDep : float, lonDep : float, latArr : float, lonArr : float):\n",
    "    '''\n",
    "    Fonction : Calcul un semble de coordonnées permettant de tracer un grand cercle terrestre\n",
    "    Return : 2 listes de coordonnées\n",
    "    '''\n",
    "    g = pyproj.Geod(ellps='WGS84')\n",
    "    (az12, az21, dist) = g.inv(lonDep, latDep, lonArr, latArr)\n",
    "\n",
    "    # Coordonnée avec des segments <= 100 km\n",
    "    lonlats = g.npts(lonDep, latDep, lonArr, latArr,\n",
    "                    1 + int(dist / 100000))\n",
    "\n",
    "    #Mise en forme\n",
    "    v1 = []\n",
    "    v1.append([latDep,lonDep])\n",
    "    v2 = []\n",
    "    _lon = lonDep\n",
    "    _lat = latDep\n",
    "    horscadre = False\n",
    "    for lon, lat in lonlats:\n",
    "        if(not(horscadre) and Dist(_lat,_lon,lat,lon) < 4):        \n",
    "            v1.append([lat,lon])\n",
    "        else:\n",
    "            horscadre = True\n",
    "            v2.append([lat,lon])\n",
    "        _lon = lon\n",
    "        _lat = lat\n",
    "    \n",
    "    if(horscadre):\n",
    "        v2.append([latArr,lonArr])\n",
    "    else:\n",
    "        v1.append([latArr,lonArr])\n",
    "\n",
    "    return v1,v2"
   ]
  },
  {
   "cell_type": "code",
   "execution_count": 269,
   "metadata": {},
   "outputs": [],
   "source": [
    "def creation_lines(path : list, Line_group, c):\n",
    "    '''\n",
    "    fonction qui cree les lignes pour le folium map\n",
    "    path c'est le chemin, line_group c'est le group commun, c c'est le couleur de ligne \n",
    "    '''\n",
    "    for element in range(len(path)-1) :  \n",
    "        start = path[element]\n",
    "        end = path[element+1]\n",
    "        latDep, lonDep = coordDepuisAeroport(start)\n",
    "        latArr, lonArr = coordDepuisAeroport(end)\n",
    "\n",
    "        #Calcul des chemins à afficher\n",
    "        v2 = []\n",
    "        v1,v2 = vectGrandCercle(latDep,lonDep,latArr,lonArr)\n",
    "        \n",
    "        col_ligne = c\n",
    "        col_marker = c \n",
    "        \n",
    "        #-------------------\n",
    "        folium.PolyLine(locations=v1,weight=3, color=col_ligne).add_to(Line_group)\n",
    "        if(len(v2) != 0):\n",
    "            folium.PolyLine(locations=v2,weight=3, color=col_ligne).add_to(Line_group)\n",
    "\n",
    "        folium.CircleMarker(location = [latArr, lonArr],\n",
    "                        radius = 1, \n",
    "                        color = col_marker, \n",
    "                        tooltip=dict_aeroports[end]['City'],\n",
    "                        popup=\"<b>Nom : </b>\" + dict_aeroports[end]['Name'] + \"\"\"<br />\n",
    "                                <b>Code :</b> \"\"\" + dict_aeroports[end]['Iata'] + \"\"\"<br />\n",
    "                                <b>Coordonnées :</b> (\"\"\" + str(dict_aeroports[end]['Lat']) + \";\" + str(dict_aeroports[end]['Lon']) + \"\"\")<br />\n",
    "                                <b>City : </b>\"\"\" + str(dict_aeroports[end]['City']) + \"\"\"<br />\n",
    "                                <b>Pays : </b>\"\"\" + dict_aeroports[end]['Country']).add_to(Line_group)"
   ]
  },
  {
   "cell_type": "code",
   "execution_count": 336,
   "metadata": {},
   "outputs": [],
   "source": [
    "from IPython.core.display import HTML\n",
    "from ipywidgets import Output"
   ]
  },
  {
   "cell_type": "code",
   "execution_count": 348,
   "metadata": {},
   "outputs": [],
   "source": [
    "outputMAP = Output()\n",
    "\n",
    "def map_correspondance(collection_path):\n",
    "    '''\n",
    "    fonction qui gere le ajoute de chaque ligne pour tous les chemins qui sont dans le collection path \n",
    "    collection sous la forme de {0 : {'distance' : .. , 'path' : []}, 1 : {..} , etc}\n",
    "    '''\n",
    "    \n",
    "    m = folium.Map(location=[45.763420, 4.834277], zoom_start=2)\n",
    "    \n",
    "    # 1 group de line \n",
    "    Line_group = folium.FeatureGroup(name = \"Tous\")\n",
    "\n",
    "    # generer les differents couleurs pour les differents chemins \n",
    "    longeur = 0 \n",
    "    if isinstance(collection_path, dict) : longeur = len(collection_path.keys())\n",
    "    if isinstance(collection_path, list) : longeur = len(collection_path)\n",
    "    rand_colors = []\n",
    "    for _ in range(longeur):\n",
    "        rand_colors.extend( [\"#\"+''.join([random.choice('ABCDEF0123456789') for i in range(6)])] ) \n",
    "    \n",
    "    # ajoute le marker du debut \n",
    "    air_start = str\n",
    "    if isinstance(collection_path, dict) : air_start = collection_path[0]['path'][0]\n",
    "    if isinstance(collection_path, list) : air_start = collection_path[0][0]\n",
    "    latStart, lonStart = coordDepuisAeroport(air_start)\n",
    "    \n",
    "    folium.CircleMarker(location = [latStart, lonStart],\n",
    "                        radius = 1, \n",
    "                        color = '#000000', \n",
    "                        tooltip=dict_aeroports[air_start]['City'],\n",
    "                        popup=\"<b>Nom : </b>\" + dict_aeroports[air_start]['Name'] + \"\"\"<br />\n",
    "                                <b>Code :</b> \"\"\" + dict_aeroports[air_start]['Iata'] + \"\"\"<br />\n",
    "                                <b>Coordonnées :</b> (\"\"\" + str(dict_aeroports[air_start]['Lat']) + \";\" + str(dict_aeroports[air_start]['Lon']) + \"\"\")<br />\n",
    "                                <b>City : </b>\"\"\" + str(dict_aeroports[air_start]['City']) + \"\"\"<br />\n",
    "                                <b>Pays : </b>\"\"\" + dict_aeroports[air_start]['Country']).add_to(Line_group)\n",
    "    \n",
    "    \n",
    "    if isinstance(collection_path, dict) : \n",
    "        # iteration sur le dict pour ajouter chaque chemin \n",
    "        for key, contenu in collection_path.items() : \n",
    "            # une couleur par chemin \n",
    "            couleur = rand_colors.pop()\n",
    "            # creation de poly lignes \n",
    "            creation_lines(contenu['path'], Line_group, couleur)\n",
    "        \n",
    "        \n",
    "    if isinstance(collection_path, list):\n",
    "        for contenu in collection_path : \n",
    "            # une couleur par chemin \n",
    "            couleur = rand_colors.pop()\n",
    "            # creation de poly lignes \n",
    "            creation_lines(contenu, Line_group, couleur)\n",
    "        \n",
    "    #Ajout les lines à la carte\n",
    "    Line_group.add_to(m)\n",
    "    \n",
    "    fig = Figure(width='auto', height = 'auto', ratio='50%' )\n",
    "    fig.add_child(m)\n",
    "\n",
    "    with outputMAP: \n",
    "        display(fig)\n",
    "\n",
    "    "
   ]
  },
  {
   "cell_type": "code",
   "execution_count": 271,
   "metadata": {},
   "outputs": [],
   "source": [
    "## marche seulement pour les petit relations \n",
    "def routeSelonNombreCorrespondances(graphe : nx.Graph, nombre : int, start, end):\n",
    "    '''\n",
    "        fonction qui trouve tous les chemins de start aux fin avec 'nombre' correspondances\n",
    "        retour : dictionnaire en forme de {'nbRoute' : .. , 'path' : [ path1, path2 ]}\n",
    "    '''\n",
    "    r2 = list(nx.all_simple_paths(graphe,source=start,target=end))    \n",
    "    r3 = list(filter(lambda x : len(x) == nombre, r2))\n",
    "    \n",
    "    return {'nbRoute' : len(r3), 'path': r3}\n",
    "\n",
    "def routeSelonNombreCorrespondanceLessThen(graphe : nx.Graph, nombre : int, start, end):\n",
    "    '''\n",
    "        fonction qui retourne tous les routes/correspondances avec un nombre de correspondances <= nombre \n",
    "        retour : un dictionnaire { nombre : {'nbRoute' : .. , 'path' : [ path1, path2 ]}, nombre2 : {..}}\n",
    "    '''\n",
    "    r1 = list(nx.all_simple_paths(graphe,source=start,target=end))    \n",
    "    r2 = list(filter(lambda x : len(x) <= nombre, r1))\n",
    "    \n",
    "    return {'nbRoute' : len(r2), 'path': r2}\n"
   ]
  },
  {
   "cell_type": "code",
   "execution_count": 272,
   "metadata": {},
   "outputs": [],
   "source": [
    "array_arrivee = []\n",
    "array_depart = [] \n",
    "for key in dict_route:\n",
    "\n",
    "    if len(key) == 2 :\n",
    "        depart, arrive = key \n",
    "        \n",
    "        array_arrivee.append(arrive)\n",
    "        array_depart.append(depart)\n",
    "\n",
    "list_arrivee = np.unique(array_arrivee)\n",
    "list_depart = np.unique(array_depart)\n",
    "\n",
    "list_arrivee = list(map(lambda x : dict_aeroports[x]['Name'], list_arrivee))\n",
    "list_depart = list(map(lambda x : dict_aeroports[x]['Name'], list_depart))\n",
    "\n",
    "list_arrivee = sorted(list_arrivee)\n",
    "list_depart = sorted(list_depart)\n"
   ]
  },
  {
   "cell_type": "code",
   "execution_count": 274,
   "metadata": {},
   "outputs": [],
   "source": [
    "graph_totale = nx.Graph()\n",
    "list_airports_codes = []; \n",
    "\n",
    "compteur = 0 \n",
    "list_debug = [] \n",
    "for key in dict_route:\n",
    "\n",
    "    if len(key) == 2 :\n",
    "        start, end = key \n",
    "        compteur = compteur + 1\n",
    "        \n",
    "        if list_airports_codes.count(start) == 0:\n",
    "            list_airports_codes.append(start)\n",
    "\n",
    "        if list_airports_codes.count(end) == 0:\n",
    "            list_airports_codes.append(end)\n",
    "            \n",
    "        index_start = list_airports_codes.index(start); \n",
    "        index_end = list_airports_codes.index(end); \n",
    "        distance = dict_route[frozenset((start,end))]['Dist']\n",
    "        \n",
    "        graph_totale.add_node(index_start)\n",
    "        graph_totale.add_node(index_end)\n",
    "        \n",
    "        graph_totale.add_edge(index_start, index_end, weight = distance)\n",
    "    else: list_debug.append(key)\n",
    "\n",
    "nb_keys = len(dict_route.keys())\n",
    "#print('Nombre de keys dans le dict_route : ', print(nb_keys))\n",
    "debug = nb_keys - compteur\n",
    "#print('Nombre de keys qui ne sont pas ajoute : ', debug , ', voici le tableau avec le keys qui ne sont pas ajoutee')\n",
    "#print(list_debug)"
   ]
  },
  {
   "cell_type": "code",
   "execution_count": 275,
   "metadata": {},
   "outputs": [],
   "source": [
    "def supprimerJusqauNombre(g_modif : nx.Graph, nombre : int, index1 , index2):\n",
    "    \n",
    "    index_compteur = 0 \n",
    "    collection_solutions = dict() \n",
    "    \n",
    "    solution = dijkstra(g_modif, index1, index2)\n",
    "    if(solution == -1):\n",
    "        print('No path (supprimerJusquaNombre)')\n",
    "        return -1 \n",
    "    else : \n",
    "        collection_solutions[index_compteur] = solution; \n",
    "        \n",
    "        memoire = []\n",
    "        \n",
    "        while(len(solution['path']) < nombre ):\n",
    "            \n",
    "            ###################################\n",
    "            for i in range(len(solution['path'])-1) :\n",
    "                w = g_modif.get_edge_data(solution['path'][i], solution['path'][i+1])['weight']\n",
    "                memoire.append([solution['path'][i], solution['path'][i+1], w])\n",
    "                \n",
    "                # delete les paths le plus vite --> on trouve les autres paths plus vite \n",
    "                g_modif.remove_edge(solution['path'][i], solution['path'][i+1])\n",
    "            \n",
    "            ###################################\n",
    "            # trouve la nouvelle solution \n",
    "            solution = dijkstra(g_modif, index1, index2)\n",
    "            if(solution == -1):\n",
    "                print('No path (supprimerJusquaNombre)')\n",
    "                return -1 \n",
    "            else : \n",
    "                collection_solutions[index_compteur] = solution; \n",
    "                # ajouter la solution au dict de resultat \n",
    "                collection_solutions[index_compteur] = solution\n",
    "                # augementer le compteur ( qui fonctionne comme cle dans le dict)\n",
    "                index_compteur = index_compteur + 1 \n",
    "\n",
    "        # remettre le graph au graph originale \n",
    "        g_modif.add_weighted_edges_from(memoire)\n",
    "    \n",
    "    return collection_solutions    "
   ]
  },
  {
   "cell_type": "code",
   "execution_count": 276,
   "metadata": {},
   "outputs": [],
   "source": [
    "def plus_courte(index1, index2, airport1, airport2): \n",
    "    if graph_totale.has_node(index1):\n",
    "        if graph_totale.has_node(index2):\n",
    "            \n",
    "            ###################### plus courtes ###########################\n",
    "             \n",
    "            resultat = dijkstra(graph_totale, index1, index2)\n",
    "            if(resultat == -1 ):\n",
    "                print('no path (plus_courte)')\n",
    "                return -1\n",
    "            else : \n",
    "                s = list(map(lambda x : list_airports_codes[x], resultat['path']))\n",
    "                solution_plus_courte = dict(); \n",
    "                solution_plus_courte[0] = {'distance' : resultat['distance'], 'path' : s }\n",
    "                print(solution_plus_courte)\n",
    "                map_correspondance(solution_plus_courte)\n",
    "                return solution_plus_courte\n",
    "        else : print(airport1, ' n\\'est pas presente dans le graphe')\n",
    "    else : print(airport2, ' n\\'est pas presente dans le graphe')"
   ]
  },
  {
   "cell_type": "code",
   "execution_count": 277,
   "metadata": {},
   "outputs": [],
   "source": [
    "def differents_longeurs(index1, index2, airport1, airport2, list_nombre):\n",
    "    if graph_totale.has_node(index1):\n",
    "        if graph_totale.has_node(index2):\n",
    "            \n",
    "            \n",
    "            ###################### differentes longeurs ###################\n",
    "            collection_solution = supprimerJusqauNombre(graph_totale, list_nombre, index1, index2)\n",
    "            if( collection_solution == -1 ):\n",
    "                print('No path (differents longeurs)')\n",
    "                return -1\n",
    "            else : \n",
    "                new_collection_solution = dict() \n",
    "                c = 0 \n",
    "                for key, contenu in collection_solution.items():\n",
    "                    \n",
    "                    if len(contenu['path']) <= list_nombre: #and len(contenu['path']) >= int_s : \n",
    "                        tmp = []\n",
    "                        for x in contenu['path'] :\n",
    "                            tmp.append(list_airports_codes[x])\n",
    "                        \n",
    "                        new_collection_solution[c] = {'distance' : contenu['distance'], 'path' :tmp}  \n",
    "                        c = c + 1 \n",
    "            \n",
    "                #print('Collection : ', new_collection_solution)\n",
    "                \n",
    "                map_correspondance(new_collection_solution)    \n",
    "                \n",
    "        else : print(airport1, ' n\\'est pas presente dans le graphe')\n",
    "    else : print(airport2, ' n\\'est pas presente dans le graphe')"
   ]
  },
  {
   "cell_type": "code",
   "execution_count": 351,
   "metadata": {},
   "outputs": [],
   "source": [
    "def response_widget(nom1, nom2, nombre):\n",
    "    \n",
    "    airport1 = filtreDictAeroports('Name', nom1)[0]\n",
    "    airport2 = filtreDictAeroports('Name', nom2)[0] \n",
    "\n",
    "    if not(list_airports_codes.count(airport1) == 0) : \n",
    "        index1 = list_airports_codes.index(airport1)\n",
    "    else : print(nom1, 'n\\'est pas dans le graphe')\n",
    "    if not(list_airports_codes.count(airport2) == 0) : index2 = list_airports_codes.index(airport2)   \n",
    "    else : print(nom2, 'n\\'est pas dans le graphe') \n",
    "\n",
    "    resultat = plus_courte(index1, index2, airport1, airport2)\n",
    "    print(' ')\n",
    "    print(resultat)\n",
    "    \n",
    "    if resultat != -1 and nombre >= len(resultat[0]['path']) : \n",
    "        differents_longeurs(index1, index2, airport1, airport2, nombre)\n",
    "    else : print('Le nombre que vous avez choisi c\\'est trop petit')"
   ]
  },
  {
   "cell_type": "markdown",
   "metadata": {},
   "source": [
    "<title>LIFRADARAVION</title>\n",
    "<link rel=\"stylesheet\" href=\"./dashboardLayout.css\">\n",
    "<link rel=\"stylesheet\" href=\"https://www.w3schools.com/w3css/4/w3.css\">\n",
    "\n",
    "<body>\n",
    "<div class=\"main\">\n",
    "    <h1>LIFRADARAVION</h1>\n",
    "    <p>Lorem ipsum dolor sit amet, consectetur adipiscing elit. \n",
    "        Vivamus in blandit leo. Nulla fringilla felis ut lorem malesuada, eget ornare ligula pharetra. Nulla sollicitudin viverra nibh, \n",
    "        ac porttitor ligula egestas nec. In eget sem ut sem finibus dignissim. Nulla eget dui vitae lorem mollis dapibus in quis velit. \n",
    "        Sed sit amet leo ullamcorper, vestibulum odio sed, congue magna. Etiam non urna pellentesque, fermentum libero sit amet, rutrum nulla. \n",
    "        Donec porta posuere sagittis. Integer tempor ullamcorper dui, sit amet varius urna fermentum in. Donec eget ex eget purus vehicula fringilla ac a ante. \n",
    "        Aenean ut imperdiet lacus, eu euismod velit. Phasellus tortor ligula, ultrices non blandit quis, fringilla sit amet quam. \n",
    "        Quisque eget lectus sed eros mollis tincidunt non sit amet sapien. Donec in risus ut ligula commodo placerat. \n",
    "        Fusce varius ac diam sed rhoncus. Donec fringilla malesuada sagittis.</p>\n",
    "</div>\n"
   ]
  },
  {
   "cell_type": "markdown",
   "metadata": {},
   "source": [
    "<div class=\"main\">\n",
    "    <h2>Graphes</h2>\n",
    "    <p>\n",
    "        explications sur le facon de travailler avec les graphes \n",
    "    </p>\n",
    "    <img src=\"./graph_t.png\" size = \"50%\">\n",
    "    <br><br>\n",
    "</div>"
   ]
  },
  {
   "cell_type": "markdown",
   "metadata": {},
   "source": [
    "<div>\n",
    "    <h2> Interactive map </h2>\n",
    "    <p>\n",
    "        explication sur le fonctionnement map explication sur le fonctionnement map explication sur le fonctionnement map\n",
    "        explication sur le fonctionnement map explication sur le fonctionnement map explication sur le fonctionnement map\n",
    "        explication sur le fonctionnement map explication sur le fonctionnement map explication sur le fonctionnement map\n",
    "        explication sur le fonctionnement map explication sur le fonctionnement map explication sur le fonctionnement map \n",
    "    </p>\n",
    "\n",
    "</div>"
   ]
  },
  {
   "cell_type": "code",
   "execution_count": 279,
   "metadata": {},
   "outputs": [],
   "source": [
    "import ipyvuetify as v"
   ]
  },
  {
   "cell_type": "code",
   "execution_count": 369,
   "metadata": {},
   "outputs": [],
   "source": [
    "airportD = v.Select(\n",
    "    _metadata={'mount_id': 'airportD'}, \n",
    "    label = 'Airport de depart', \n",
    "    items = list_depart, \n",
    "    thumb_label='always', \n",
    "    class_='px-4', \n",
    "    v_model = \"Amsterdam Schiphol Airport\")\n",
    "\n",
    "airportA = v.Select(\n",
    "    _metadata={'mount_id': 'Arrivee'}, \n",
    "    label = 'Airport d\\'arrivee', \n",
    "    items = list_arrivee, \n",
    "    thumb_label='always', \n",
    "    class_='px-4', \n",
    "    v_model= \"Los Angeles International Airport\")\n",
    "\n",
    "nbAirports = v.Select(\n",
    "    _metadata={'mount_id': 'NbAirports'}, \n",
    "    label = 'Combien de airports en totale?', \n",
    "    items = [1,2,3,4,5], \n",
    "    thumb_label='always', \n",
    "    class_='px-2', \n",
    "    v_model=2)\n",
    "\n",
    "choix = v.Container(children = [airportD, airportA, nbAirports])\n",
    "\n",
    "def on_change(widget, event, data):\n",
    "    HTML('<p _metadata={\\'mount_id\\': \\'NbAirports\\'}> test test  </p>') \n",
    "choix.on_event('onclick', on_change)\n"
   ]
  },
  {
   "cell_type": "code",
   "execution_count": 319,
   "metadata": {},
   "outputs": [],
   "source": [
    "from traitlets import link"
   ]
  },
  {
   "cell_type": "code",
   "execution_count": 367,
   "metadata": {},
   "outputs": [
    {
     "name": "stdout",
     "output_type": "stream",
     "text": [
      "{0: {'distance': 8950.27748845727, 'path': ['AMS', 'LAX']}}\n",
      " \n",
      "{0: {'distance': 8950.27748845727, 'path': ['AMS', 'LAX']}}\n",
      "Le nombre que vous avez choisi c'est trop petit\n"
     ]
    }
   ],
   "source": [
    "response_widget(airportD.v_model, airportA.v_model, nbAirports.v_model)"
   ]
  },
  {
   "cell_type": "code",
   "execution_count": 384,
   "metadata": {},
   "outputs": [
    {
     "data": {
      "application/vnd.jupyter.widget-view+json": {
       "model_id": "1ba17cace6c04a6b91b90b1a0f145d27",
       "version_major": 2,
       "version_minor": 0
      },
      "text/plain": [
       "Tabs(children=[Html(tag='<div>')])"
      ]
     },
     "metadata": {},
     "output_type": "display_data"
    }
   ],
   "source": [
    "v.Tabs(_metadata={'mount_id': 'content-nav'}, children=[\n",
    "    v.Html(tag='<div>', children=[\n",
    "    ])\n",
    "])"
   ]
  },
  {
   "cell_type": "code",
   "execution_count": 370,
   "metadata": {},
   "outputs": [
    {
     "data": {
      "application/vnd.jupyter.widget-view+json": {
       "model_id": "9cdfae0d17294756b0797b049b669cba",
       "version_major": 2,
       "version_minor": 0
      },
      "text/plain": [
       "Tabs(children=[Tab(children=['Interactive']), Tab(children=['Theorie']), TabItem(children=[Layout(align_center…"
      ]
     },
     "metadata": {},
     "output_type": "display_data"
    }
   ],
   "source": [
    "v.Tabs(_metadata={'mount_id': 'content-main'}, children=[\n",
    "    v.Tab(children=['Interactive']),\n",
    "    v.Tab(children=['Theorie']),\n",
    "    v.TabItem(children=[\n",
    "        v.Layout(row=True, wrap=True, align_center=True, children=[\n",
    "            v.Flex(xs12=True, lg6=True, xl4=True, children=[\n",
    "                choix.children[0], choix.children[1]\n",
    "                \n",
    "            ]),\n",
    "            v.Flex(xs12=True, lg6=True, xl4=True, children=[\n",
    "                choix.children[2]\n",
    "                \n",
    "            ]),\n",
    "            v.Flex(xs12=True, lg6=True, xl4=True, children=[\n",
    "                \n",
    "            ]),\n",
    "            v.Flex(xs12=True, xl4=True, children=[\n",
    "                outputMAP\n",
    "            ]),\n",
    "            \n",
    "            # https://vuetifyjs.com/en/styles/display/#display\n",
    "        ])\n",
    "    ]),\n",
    "    v.TabItem(children=[\n",
    "        v.Container(children=['Lorum ipsum'])\n",
    "    ])\n",
    "])\n",
    "\n",
    "# code from https://github.com/voila-dashboards/voila-vuetify/blob/master/bqplot_vuetify_example.ipynb"
   ]
  },
  {
   "cell_type": "code",
   "execution_count": 283,
   "metadata": {},
   "outputs": [],
   "source": [
    "# drawing_graph = dessinerGraphe(graph_totale) # 55s "
   ]
  },
  {
   "cell_type": "code",
   "execution_count": 284,
   "metadata": {},
   "outputs": [],
   "source": [
    "g = ig.Graph.TupleList(graph_totale.edges(), directed=True)\n",
    "layout = g.layout(\"large\")\n",
    "\n",
    "# fait une fois --> maintenant en mémoire \n",
    "#ig.plot(g, \"graph_t.png\", shape = 'triangle-up', autocurve = True)"
   ]
  },
  {
   "cell_type": "code",
   "execution_count": 285,
   "metadata": {},
   "outputs": [
    {
     "name": "stdout",
     "output_type": "stream",
     "text": [
      "{'weight': 411.7061792235852}\n",
      "{'weight': 344.33294832625165}\n",
      "{'weight': 8752.142514126186}\n",
      "9508.181641676023\n",
      "----------------------\n",
      "{'weight': 412.56144600362046}\n",
      "{'weight': 9097.059799998087}\n",
      "9509.621246001709\n"
     ]
    }
   ],
   "source": [
    "n0 = list_airports_codes.index('LYS')\n",
    "n1 = list_airports_codes.index('LBG')\n",
    "n2 = list_airports_codes.index('FAB')\n",
    "n3 = list_airports_codes.index('LAX')\n",
    "\n",
    "\n",
    "w1 = graph_totale.get_edge_data(n3,n2)\n",
    "w2 = graph_totale.get_edge_data(n1,n3)\n",
    "#print(w1,w2)\n",
    "print(graph_totale.get_edge_data(n0,n1))\n",
    "print(graph_totale.get_edge_data(n1,n2))\n",
    "print(graph_totale.get_edge_data(n2,n3))\n",
    "print(graph_totale.get_edge_data(n0,n1)['weight'] + graph_totale.get_edge_data(n1,n2)['weight'] + graph_totale.get_edge_data(n2,n3)['weight'])\n",
    "\n",
    "print(\"----------------------\")\n",
    "n4 = list_airports_codes.index('CDG')\n",
    "n5 = list_airports_codes.index('LAX')\n",
    "print(graph_totale.get_edge_data(n0,n4))\n",
    "print(graph_totale.get_edge_data(n4,n5))\n",
    "print(graph_totale.get_edge_data(n0,n4)['weight'] + graph_totale.get_edge_data(n4,n5)['weight'])\n"
   ]
  }
 ],
 "metadata": {
  "interpreter": {
   "hash": "186cdeb570711ed85187c509d68d5628274aea7de7df5beca59491276fe8c4d6"
  },
  "kernelspec": {
   "display_name": "Python 3 (ipykernel)",
   "language": "python",
   "name": "python3"
  },
  "language_info": {
   "codemirror_mode": {
    "name": "ipython",
    "version": 3
   },
   "file_extension": ".py",
   "mimetype": "text/x-python",
   "name": "python",
   "nbconvert_exporter": "python",
   "pygments_lexer": "ipython3",
   "version": "3.7.9"
  }
 },
 "nbformat": 4,
 "nbformat_minor": 2
}
