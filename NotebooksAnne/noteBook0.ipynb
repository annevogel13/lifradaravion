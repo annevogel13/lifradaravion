{
  "cells": [
    {
      "cell_type": "markdown",
      "metadata": {
        "id": "s-wn2iCTqORD"
      },
      "source": [
        "# Airlines - database "
      ]
    },
    {
      "cell_type": "code",
      "execution_count": 1,
      "metadata": {
        "id": "UMyVdmh-qMDd"
      },
      "outputs": [],
      "source": [
        "import pandas as pd"
      ]
    },
    {
      "cell_type": "code",
      "execution_count": 2,
      "metadata": {
        "colab": {
          "base_uri": "https://localhost:8080/"
        },
        "id": "qlghok4lt3dG",
        "outputId": "31a6fc64-348f-4ed3-e6f4-5c1401225ece"
      },
      "outputs": [
        {
          "name": "stdout",
          "output_type": "stream",
          "text": [
            "Requirement already satisfied: FLightRadarAPI in c:\\users\\merel\\anaconda3\\lib\\site-packages (1.1.8)\n",
            "Requirement already satisfied: Brotli in c:\\users\\merel\\anaconda3\\lib\\site-packages (from FLightRadarAPI) (1.0.9)\n",
            "Requirement already satisfied: requests in c:\\users\\merel\\anaconda3\\lib\\site-packages (from FLightRadarAPI) (2.26.0)\n",
            "Requirement already satisfied: certifi>=2017.4.17 in c:\\users\\merel\\anaconda3\\lib\\site-packages (from requests->FLightRadarAPI) (2021.10.8)\n",
            "Requirement already satisfied: urllib3<1.27,>=1.21.1 in c:\\users\\merel\\anaconda3\\lib\\site-packages (from requests->FLightRadarAPI) (1.26.7)\n",
            "Requirement already satisfied: charset-normalizer~=2.0.0 in c:\\users\\merel\\anaconda3\\lib\\site-packages (from requests->FLightRadarAPI) (2.0.4)\n",
            "Requirement already satisfied: idna<4,>=2.5 in c:\\users\\merel\\anaconda3\\lib\\site-packages (from requests->FLightRadarAPI) (3.2)\n",
            "Note: you may need to restart the kernel to use updated packages.\n"
          ]
        }
      ],
      "source": [
        "#pip install FLightRadarAPI  "
      ]
    },
    {
      "cell_type": "code",
      "execution_count": 8,
      "metadata": {
        "id": "_Wduq6LCuJQV"
      },
      "outputs": [
        {
          "ename": "TypeError",
          "evalue": "'module' object is not callable",
          "output_type": "error",
          "traceback": [
            "\u001b[1;31m---------------------------------------------------------------------------\u001b[0m",
            "\u001b[1;31mTypeError\u001b[0m                                 Traceback (most recent call last)",
            "\u001b[1;32m~\\AppData\\Local\\Temp/ipykernel_17576/754429805.py\u001b[0m in \u001b[0;36m<module>\u001b[1;34m\u001b[0m\n\u001b[0;32m      2\u001b[0m \u001b[1;32mfrom\u001b[0m \u001b[0mflightradar24\u001b[0m \u001b[1;32mimport\u001b[0m \u001b[0mflight\u001b[0m\u001b[1;33m\u001b[0m\u001b[1;33m\u001b[0m\u001b[0m\n\u001b[0;32m      3\u001b[0m \u001b[1;31m#fr_api = FlightRadar24API()\u001b[0m\u001b[1;33m\u001b[0m\u001b[1;33m\u001b[0m\u001b[0m\n\u001b[1;32m----> 4\u001b[1;33m \u001b[0mfr_api\u001b[0m \u001b[1;33m=\u001b[0m \u001b[0mflight\u001b[0m\u001b[1;33m(\u001b[0m\u001b[1;33m)\u001b[0m\u001b[1;33m;\u001b[0m\u001b[1;33m\u001b[0m\u001b[1;33m\u001b[0m\u001b[0m\n\u001b[0m",
            "\u001b[1;31mTypeError\u001b[0m: 'module' object is not callable"
          ]
        }
      ],
      "source": [
        "from FlightRadar24.api import FlightRadar24API\n",
        "#from flightradar24 import flight\n",
        "fr_api = FlightRadar24API()\n"
      ]
    },
    {
      "cell_type": "code",
      "execution_count": null,
      "metadata": {
        "id": "5IKV5hTyuaHG"
      },
      "outputs": [],
      "source": [
        "airlines = fr_api.get_airlines()\n",
        "\n",
        "# transforme list en dataframe \n",
        "airlines_data = pd.DataFrame(airlines)\n",
        "\n",
        "airlines_data.shape # 1608 records in 3 colonnes \n",
        "airlines_data.dtypes # kind of data in the records \n",
        "airlines_data.columns = [\"Airline Name\",\"Abr\",\"Code\"]\n",
        "airlines_data.head()"
      ]
    },
    {
      "cell_type": "code",
      "execution_count": null,
      "metadata": {},
      "outputs": [],
      "source": [
        "airline_icao = \"AZU\"\n",
        "thy_flights = fr_api.get_flights(airline = airline_icao)\n"
      ]
    },
    {
      "cell_type": "markdown",
      "metadata": {},
      "source": [
        "## filter by airline given "
      ]
    },
    {
      "cell_type": "code",
      "execution_count": null,
      "metadata": {
        "colab": {
          "base_uri": "https://localhost:8080/",
          "height": 81
        },
        "id": "ziMpHQUlxkGi",
        "outputId": "e7797a1c-841c-4686-806a-3f1e3c8e2089"
      },
      "outputs": [],
      "source": [
        "# filtrer (version courte)\n",
        "airlines_data[airlines_data[\"Name\"] == \"Air France\"]"
      ]
    },
    {
      "cell_type": "code",
      "execution_count": 4,
      "metadata": {},
      "outputs": [
        {
          "ename": "NameError",
          "evalue": "name 'fr_api' is not defined",
          "output_type": "error",
          "traceback": [
            "\u001b[1;31m---------------------------------------------------------------------------\u001b[0m",
            "\u001b[1;31mNameError\u001b[0m                                 Traceback (most recent call last)",
            "\u001b[1;32m~\\AppData\\Local\\Temp/ipykernel_17576/1547823902.py\u001b[0m in \u001b[0;36m<module>\u001b[1;34m\u001b[0m\n\u001b[1;32m----> 1\u001b[1;33m \u001b[0mflights\u001b[0m \u001b[1;33m=\u001b[0m \u001b[0mpd\u001b[0m\u001b[1;33m.\u001b[0m\u001b[0mDataFrame\u001b[0m\u001b[1;33m(\u001b[0m\u001b[0mfr_api\u001b[0m\u001b[1;33m.\u001b[0m\u001b[0mget_flights\u001b[0m\u001b[1;33m(\u001b[0m\u001b[1;33m)\u001b[0m\u001b[1;33m)\u001b[0m\u001b[1;33m\u001b[0m\u001b[1;33m\u001b[0m\u001b[0m\n\u001b[0m\u001b[0;32m      2\u001b[0m \u001b[0mflights\u001b[0m\u001b[1;33m.\u001b[0m\u001b[0mhead\u001b[0m\u001b[1;33m(\u001b[0m\u001b[1;33m)\u001b[0m\u001b[1;33m\u001b[0m\u001b[1;33m\u001b[0m\u001b[0m\n\u001b[0;32m      3\u001b[0m \u001b[1;31m#t1 = flights.iloc[0]\u001b[0m\u001b[1;33m\u001b[0m\u001b[1;33m\u001b[0m\u001b[0m\n\u001b[0;32m      4\u001b[0m \u001b[1;31m##flights.info()\u001b[0m\u001b[1;33m\u001b[0m\u001b[1;33m\u001b[0m\u001b[0m\n\u001b[0;32m      5\u001b[0m \u001b[1;31m#t1\u001b[0m\u001b[1;33m\u001b[0m\u001b[1;33m\u001b[0m\u001b[0m\n",
            "\u001b[1;31mNameError\u001b[0m: name 'fr_api' is not defined"
          ]
        }
      ],
      "source": [
        "flights = pd.DataFrame(fr_api.get_flights())\n",
        "flights.head()\n",
        "#t1 = flights.iloc[0]\n",
        "##flights.info()\n",
        "#t1\n",
        "details = fr_api.get_flight_details(flights.id)\n",
        "#flights = pd.DataFrame(fr_api.get_flight_details('GRND'))"
      ]
    },
    {
      "cell_type": "markdown",
      "metadata": {},
      "source": [
        "# F1 - database  "
      ]
    },
    {
      "cell_type": "code",
      "execution_count": 5,
      "metadata": {},
      "outputs": [],
      "source": [
        "%matplotlib inline\n",
        "import pandas as pd\n",
        "import numpy as py\n",
        "import matplotlib.pyplot as plt \n",
        "import seaborn as sns \n",
        "sns.set(style=\"darkgrid\")"
      ]
    },
    {
      "cell_type": "code",
      "execution_count": 9,
      "metadata": {},
      "outputs": [
        {
          "data": {
            "text/html": [
              "<div>\n",
              "<style scoped>\n",
              "    .dataframe tbody tr th:only-of-type {\n",
              "        vertical-align: middle;\n",
              "    }\n",
              "\n",
              "    .dataframe tbody tr th {\n",
              "        vertical-align: top;\n",
              "    }\n",
              "\n",
              "    .dataframe thead th {\n",
              "        text-align: right;\n",
              "    }\n",
              "</style>\n",
              "<table border=\"1\" class=\"dataframe\">\n",
              "  <thead>\n",
              "    <tr style=\"text-align: right;\">\n",
              "      <th></th>\n",
              "      <th>raceId</th>\n",
              "      <th>driverId</th>\n",
              "      <th>lap</th>\n",
              "      <th>position</th>\n",
              "      <th>time</th>\n",
              "      <th>milliseconds</th>\n",
              "    </tr>\n",
              "  </thead>\n",
              "  <tbody>\n",
              "    <tr>\n",
              "      <th>265622</th>\n",
              "      <td>71</td>\n",
              "      <td>33</td>\n",
              "      <td>1</td>\n",
              "      <td>17</td>\n",
              "      <td>1:49.700</td>\n",
              "      <td>109700</td>\n",
              "    </tr>\n",
              "    <tr>\n",
              "      <th>265623</th>\n",
              "      <td>71</td>\n",
              "      <td>33</td>\n",
              "      <td>2</td>\n",
              "      <td>17</td>\n",
              "      <td>1:35.275</td>\n",
              "      <td>95275</td>\n",
              "    </tr>\n",
              "    <tr>\n",
              "      <th>265624</th>\n",
              "      <td>71</td>\n",
              "      <td>33</td>\n",
              "      <td>3</td>\n",
              "      <td>17</td>\n",
              "      <td>1:31.712</td>\n",
              "      <td>91712</td>\n",
              "    </tr>\n",
              "    <tr>\n",
              "      <th>265625</th>\n",
              "      <td>71</td>\n",
              "      <td>33</td>\n",
              "      <td>4</td>\n",
              "      <td>17</td>\n",
              "      <td>1:31.427</td>\n",
              "      <td>91427</td>\n",
              "    </tr>\n",
              "    <tr>\n",
              "      <th>265626</th>\n",
              "      <td>71</td>\n",
              "      <td>33</td>\n",
              "      <td>5</td>\n",
              "      <td>17</td>\n",
              "      <td>1:31.603</td>\n",
              "      <td>91603</td>\n",
              "    </tr>\n",
              "  </tbody>\n",
              "</table>\n",
              "</div>"
            ],
            "text/plain": [
              "        raceId  driverId  lap  position      time  milliseconds\n",
              "265622      71        33    1        17  1:49.700        109700\n",
              "265623      71        33    2        17  1:35.275         95275\n",
              "265624      71        33    3        17  1:31.712         91712\n",
              "265625      71        33    4        17  1:31.427         91427\n",
              "265626      71        33    5        17  1:31.603         91603"
            ]
          },
          "execution_count": 9,
          "metadata": {},
          "output_type": "execute_result"
        }
      ],
      "source": [
        "Data_f1 = pd.read_csv('archive/lap_times.csv')\n",
        "\n",
        "VER = Data_f1[Data_f1[\"driverId\"] == 33].head()\n",
        "HAM =  Data_f1[Data_f1[\"driverId\"] == 44].head()\n",
        "\n",
        "VER"
      ]
    },
    {
      "cell_type": "code",
      "execution_count": 10,
      "metadata": {},
      "outputs": [],
      "source": [
        "# data \n",
        "x = VER['milliseconds']\n",
        "y = HAM['milliseconds']\n",
        "z = [1,2,3,4,5]"
      ]
    },
    {
      "cell_type": "code",
      "execution_count": 11,
      "metadata": {},
      "outputs": [
        {
          "data": {
            "image/png": "[encoded data removed]",
            "text/plain": [
              "<Figure size 432x288 with 1 Axes>"
            ]
          },
          "metadata": {},
          "output_type": "display_data"
        }
      ],
      "source": [
        "# plot settings \n",
        "plt.plot(z, x, label = \"Max VERSTAPPEN\", linestyle=\"-\")\n",
        "plt.plot(z, y, label = \"Lewis HAMILTON\", linestyle=\"--\")\n",
        "plt.legend()\n",
        "plt.show()"
      ]
    },
    {
      "cell_type": "markdown",
      "metadata": {},
      "source": [
        "## Youtube tutorial to make a interactive map "
      ]
    }
  ],
  "metadata": {
    "colab": {
      "collapsed_sections": [],
      "name": "Test.ipynb",
      "provenance": []
    },
    "kernelspec": {
      "display_name": "Python 3",
      "name": "python3"
    },
    "language_info": {
      "codemirror_mode": {
        "name": "ipython",
        "version": 3
      },
      "file_extension": ".py",
      "mimetype": "text/x-python",
      "name": "python",
      "nbconvert_exporter": "python",
      "pygments_lexer": "ipython3",
      "version": "3.9.7"
    }
  },
  "nbformat": 4,
  "nbformat_minor": 0
}
