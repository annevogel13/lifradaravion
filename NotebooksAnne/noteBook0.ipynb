{
  "cells": [
    {
      "cell_type": "markdown",
      "metadata": {
        "id": "s-wn2iCTqORD"
      },
      "source": [
        "# Premiere  notebook"
      ]
    },
    {
      "cell_type": "code",
      "execution_count": 2,
      "metadata": {
        "id": "UMyVdmh-qMDd"
      },
      "outputs": [],
      "source": [
        "import pandas as pd"
      ]
    },
    {
      "cell_type": "code",
      "execution_count": 3,
      "metadata": {
        "id": "oi3vwvr2qkG6"
      },
      "outputs": [],
      "source": [
        "data = pd.read_csv(\"http://cazabetremy.fr/Teaching/bitcoinClass/2021/trx_last_1M.csv\")"
      ]
    },
    {
      "cell_type": "code",
      "execution_count": 4,
      "metadata": {
        "colab": {
          "base_uri": "https://localhost:8080/",
          "height": 423
        },
        "id": "JEHyjNTOs_s-",
        "outputId": "a9f3139c-fbf1-4ae6-ab73-2ddc0620080e"
      },
      "outputs": [
        {
          "data": {
            "text/html": [
              "<div>\n",
              "<style scoped>\n",
              "    .dataframe tbody tr th:only-of-type {\n",
              "        vertical-align: middle;\n",
              "    }\n",
              "\n",
              "    .dataframe tbody tr th {\n",
              "        vertical-align: top;\n",
              "    }\n",
              "\n",
              "    .dataframe thead th {\n",
              "        text-align: right;\n",
              "    }\n",
              "</style>\n",
              "<table border=\"1\" class=\"dataframe\">\n",
              "  <thead>\n",
              "    <tr style=\"text-align: right;\">\n",
              "      <th></th>\n",
              "      <th>cl_in</th>\n",
              "      <th>cl_out</th>\n",
              "      <th>timestamp</th>\n",
              "      <th>value</th>\n",
              "      <th>valueDoll</th>\n",
              "    </tr>\n",
              "  </thead>\n",
              "  <tbody>\n",
              "    <tr>\n",
              "      <th>0</th>\n",
              "      <td>21231183</td>\n",
              "      <td>2633</td>\n",
              "      <td>1473221594</td>\n",
              "      <td>0.005014</td>\n",
              "      <td>3.082268</td>\n",
              "    </tr>\n",
              "    <tr>\n",
              "      <th>1</th>\n",
              "      <td>21231183</td>\n",
              "      <td>21231183</td>\n",
              "      <td>1473221594</td>\n",
              "      <td>0.040328</td>\n",
              "      <td>24.793546</td>\n",
              "    </tr>\n",
              "    <tr>\n",
              "      <th>2</th>\n",
              "      <td>4847880</td>\n",
              "      <td>53797835</td>\n",
              "      <td>1473221594</td>\n",
              "      <td>0.019596</td>\n",
              "      <td>12.047425</td>\n",
              "    </tr>\n",
              "    <tr>\n",
              "      <th>3</th>\n",
              "      <td>4847880</td>\n",
              "      <td>121760693</td>\n",
              "      <td>1473221594</td>\n",
              "      <td>0.118399</td>\n",
              "      <td>72.790337</td>\n",
              "    </tr>\n",
              "    <tr>\n",
              "      <th>4</th>\n",
              "      <td>139771794</td>\n",
              "      <td>BTC-e.com</td>\n",
              "      <td>1473221594</td>\n",
              "      <td>0.002444</td>\n",
              "      <td>1.502412</td>\n",
              "    </tr>\n",
              "    <tr>\n",
              "      <th>...</th>\n",
              "      <td>...</td>\n",
              "      <td>...</td>\n",
              "      <td>...</td>\n",
              "      <td>...</td>\n",
              "      <td>...</td>\n",
              "    </tr>\n",
              "    <tr>\n",
              "      <th>999994</th>\n",
              "      <td>79797142</td>\n",
              "      <td>123356081</td>\n",
              "      <td>1473368159</td>\n",
              "      <td>0.837321</td>\n",
              "      <td>523.283734</td>\n",
              "    </tr>\n",
              "    <tr>\n",
              "      <th>999995</th>\n",
              "      <td>scammer8135</td>\n",
              "      <td>96880646</td>\n",
              "      <td>1473368159</td>\n",
              "      <td>0.022898</td>\n",
              "      <td>14.310018</td>\n",
              "    </tr>\n",
              "    <tr>\n",
              "      <th>999996</th>\n",
              "      <td>scammer8135</td>\n",
              "      <td>93725777</td>\n",
              "      <td>1473368159</td>\n",
              "      <td>0.000041</td>\n",
              "      <td>0.025910</td>\n",
              "    </tr>\n",
              "    <tr>\n",
              "      <th>999997</th>\n",
              "      <td>53071260</td>\n",
              "      <td>55730177</td>\n",
              "      <td>1473368159</td>\n",
              "      <td>0.107372</td>\n",
              "      <td>67.102000</td>\n",
              "    </tr>\n",
              "    <tr>\n",
              "      <th>999998</th>\n",
              "      <td>53071260</td>\n",
              "      <td>53071260</td>\n",
              "      <td>1473368159</td>\n",
              "      <td>6.708407</td>\n",
              "      <td>4192.418961</td>\n",
              "    </tr>\n",
              "  </tbody>\n",
              "</table>\n",
              "<p>999999 rows × 5 columns</p>\n",
              "</div>"
            ],
            "text/plain": [
              "              cl_in     cl_out   timestamp     value    valueDoll\n",
              "0          21231183       2633  1473221594  0.005014     3.082268\n",
              "1          21231183   21231183  1473221594  0.040328    24.793546\n",
              "2           4847880   53797835  1473221594  0.019596    12.047425\n",
              "3           4847880  121760693  1473221594  0.118399    72.790337\n",
              "4         139771794  BTC-e.com  1473221594  0.002444     1.502412\n",
              "...             ...        ...         ...       ...          ...\n",
              "999994     79797142  123356081  1473368159  0.837321   523.283734\n",
              "999995  scammer8135   96880646  1473368159  0.022898    14.310018\n",
              "999996  scammer8135   93725777  1473368159  0.000041     0.025910\n",
              "999997     53071260   55730177  1473368159  0.107372    67.102000\n",
              "999998     53071260   53071260  1473368159  6.708407  4192.418961\n",
              "\n",
              "[999999 rows x 5 columns]"
            ]
          },
          "execution_count": 4,
          "metadata": {},
          "output_type": "execute_result"
        }
      ],
      "source": [
        "data.columns = [\"cl_in\",\"cl_out\",\"timestamp\",\"value\",\"valueDoll\"]\n",
        "data"
      ]
    },
    {
      "cell_type": "code",
      "execution_count": 5,
      "metadata": {
        "colab": {
          "base_uri": "https://localhost:8080/",
          "height": 206
        },
        "id": "YL4CjBwytncF",
        "outputId": "c13c827e-60f9-4b4f-b62a-6529b168b52e"
      },
      "outputs": [
        {
          "data": {
            "text/html": [
              "<div>\n",
              "<style scoped>\n",
              "    .dataframe tbody tr th:only-of-type {\n",
              "        vertical-align: middle;\n",
              "    }\n",
              "\n",
              "    .dataframe tbody tr th {\n",
              "        vertical-align: top;\n",
              "    }\n",
              "\n",
              "    .dataframe thead th {\n",
              "        text-align: right;\n",
              "    }\n",
              "</style>\n",
              "<table border=\"1\" class=\"dataframe\">\n",
              "  <thead>\n",
              "    <tr style=\"text-align: right;\">\n",
              "      <th></th>\n",
              "      <th>cl_in</th>\n",
              "      <th>cl_out</th>\n",
              "      <th>timestamp</th>\n",
              "      <th>value</th>\n",
              "      <th>valueDoll</th>\n",
              "    </tr>\n",
              "  </thead>\n",
              "  <tbody>\n",
              "    <tr>\n",
              "      <th>0</th>\n",
              "      <td>21231183</td>\n",
              "      <td>2633</td>\n",
              "      <td>1473221594</td>\n",
              "      <td>0.005014</td>\n",
              "      <td>3.082268</td>\n",
              "    </tr>\n",
              "    <tr>\n",
              "      <th>1</th>\n",
              "      <td>21231183</td>\n",
              "      <td>21231183</td>\n",
              "      <td>1473221594</td>\n",
              "      <td>0.040328</td>\n",
              "      <td>24.793546</td>\n",
              "    </tr>\n",
              "    <tr>\n",
              "      <th>2</th>\n",
              "      <td>4847880</td>\n",
              "      <td>53797835</td>\n",
              "      <td>1473221594</td>\n",
              "      <td>0.019596</td>\n",
              "      <td>12.047425</td>\n",
              "    </tr>\n",
              "    <tr>\n",
              "      <th>3</th>\n",
              "      <td>4847880</td>\n",
              "      <td>121760693</td>\n",
              "      <td>1473221594</td>\n",
              "      <td>0.118399</td>\n",
              "      <td>72.790337</td>\n",
              "    </tr>\n",
              "    <tr>\n",
              "      <th>4</th>\n",
              "      <td>139771794</td>\n",
              "      <td>BTC-e.com</td>\n",
              "      <td>1473221594</td>\n",
              "      <td>0.002444</td>\n",
              "      <td>1.502412</td>\n",
              "    </tr>\n",
              "  </tbody>\n",
              "</table>\n",
              "</div>"
            ],
            "text/plain": [
              "       cl_in     cl_out   timestamp     value  valueDoll\n",
              "0   21231183       2633  1473221594  0.005014   3.082268\n",
              "1   21231183   21231183  1473221594  0.040328  24.793546\n",
              "2    4847880   53797835  1473221594  0.019596  12.047425\n",
              "3    4847880  121760693  1473221594  0.118399  72.790337\n",
              "4  139771794  BTC-e.com  1473221594  0.002444   1.502412"
            ]
          },
          "execution_count": 5,
          "metadata": {},
          "output_type": "execute_result"
        }
      ],
      "source": [
        "data.head()\n"
      ]
    },
    {
      "cell_type": "code",
      "execution_count": 18,
      "metadata": {
        "colab": {
          "base_uri": "https://localhost:8080/"
        },
        "id": "qlghok4lt3dG",
        "outputId": "31a6fc64-348f-4ed3-e6f4-5c1401225ece"
      },
      "outputs": [],
      "source": [
        "pip install FLightRadarAPI;  # <-- besoin de mettre en commentaire une fois charchee "
      ]
    },
    {
      "cell_type": "code",
      "execution_count": 7,
      "metadata": {
        "id": "_Wduq6LCuJQV"
      },
      "outputs": [],
      "source": [
        "from FlightRadar24.api import FlightRadar24API"
      ]
    },
    {
      "cell_type": "code",
      "execution_count": 8,
      "metadata": {
        "id": "ke2j41m5uVWw"
      },
      "outputs": [],
      "source": [
        "fr_api = FlightRadar24API()"
      ]
    },
    {
      "cell_type": "code",
      "execution_count": 9,
      "metadata": {
        "id": "5IKV5hTyuaHG"
      },
      "outputs": [],
      "source": [
        "airlines = fr_api.get_airlines()"
      ]
    },
    {
      "cell_type": "code",
      "execution_count": 10,
      "metadata": {
        "colab": {
          "base_uri": "https://localhost:8080/"
        },
        "id": "Pq5RHpxQuxit",
        "outputId": "329fc016-4511-473a-d902-9687f921a865"
      },
      "outputs": [
        {
          "data": {
            "text/plain": [
              "list"
            ]
          },
          "execution_count": 10,
          "metadata": {},
          "output_type": "execute_result"
        }
      ],
      "source": [
        "# donner un type \n",
        "type(airlines)"
      ]
    },
    {
      "cell_type": "code",
      "execution_count": 11,
      "metadata": {
        "id": "U_cbtmAHuxxo"
      },
      "outputs": [],
      "source": [
        "# transforme list en dataframe \n",
        "airlines_data = pd.DataFrame(airlines)"
      ]
    },
    {
      "cell_type": "code",
      "execution_count": 12,
      "metadata": {
        "colab": {
          "base_uri": "https://localhost:8080/",
          "height": 206
        },
        "id": "PdLb5ityvKke",
        "outputId": "5b7b9495-cb47-4c98-f4d9-414f38f5e223"
      },
      "outputs": [
        {
          "data": {
            "text/html": [
              "<div>\n",
              "<style scoped>\n",
              "    .dataframe tbody tr th:only-of-type {\n",
              "        vertical-align: middle;\n",
              "    }\n",
              "\n",
              "    .dataframe tbody tr th {\n",
              "        vertical-align: top;\n",
              "    }\n",
              "\n",
              "    .dataframe thead th {\n",
              "        text-align: right;\n",
              "    }\n",
              "</style>\n",
              "<table border=\"1\" class=\"dataframe\">\n",
              "  <thead>\n",
              "    <tr style=\"text-align: right;\">\n",
              "      <th></th>\n",
              "      <th>Name</th>\n",
              "      <th>Code</th>\n",
              "      <th>ICAO</th>\n",
              "    </tr>\n",
              "  </thead>\n",
              "  <tbody>\n",
              "    <tr>\n",
              "      <th>0</th>\n",
              "      <td>21 Air</td>\n",
              "      <td>2I</td>\n",
              "      <td>CSB</td>\n",
              "    </tr>\n",
              "    <tr>\n",
              "      <th>1</th>\n",
              "      <td>25Only Aviation</td>\n",
              "      <td></td>\n",
              "      <td>ONY</td>\n",
              "    </tr>\n",
              "    <tr>\n",
              "      <th>2</th>\n",
              "      <td>2Excel Aviation</td>\n",
              "      <td></td>\n",
              "      <td>BRO</td>\n",
              "    </tr>\n",
              "    <tr>\n",
              "      <th>3</th>\n",
              "      <td>40-Mile Air</td>\n",
              "      <td>Q5</td>\n",
              "      <td>MLA</td>\n",
              "    </tr>\n",
              "    <tr>\n",
              "      <th>4</th>\n",
              "      <td>748 Air Services</td>\n",
              "      <td>FE</td>\n",
              "      <td>IHO</td>\n",
              "    </tr>\n",
              "  </tbody>\n",
              "</table>\n",
              "</div>"
            ],
            "text/plain": [
              "               Name Code ICAO\n",
              "0            21 Air   2I  CSB\n",
              "1   25Only Aviation       ONY\n",
              "2   2Excel Aviation       BRO\n",
              "3       40-Mile Air   Q5  MLA\n",
              "4  748 Air Services   FE  IHO"
            ]
          },
          "execution_count": 12,
          "metadata": {},
          "output_type": "execute_result"
        }
      ],
      "source": [
        "airlines_data.head()"
      ]
    },
    {
      "cell_type": "code",
      "execution_count": 13,
      "metadata": {
        "colab": {
          "base_uri": "https://localhost:8080/"
        },
        "id": "M_TC1a72v10P",
        "outputId": "56871a5e-5560-45a6-e4b3-cc5e5cca0558"
      },
      "outputs": [
        {
          "data": {
            "text/plain": [
              "0                       21 Air\n",
              "1              25Only Aviation\n",
              "2              2Excel Aviation\n",
              "3                  40-Mile Air\n",
              "4             748 Air Services\n",
              "                 ...          \n",
              "1602                   Zetavia\n",
              "1603            Zimex Aviation\n",
              "1604    Zimex Aviation Austria\n",
              "1605                    ZIPAIR\n",
              "1606                     Zorex\n",
              "Name: Name, Length: 1607, dtype: object"
            ]
          },
          "execution_count": 13,
          "metadata": {},
          "output_type": "execute_result"
        }
      ],
      "source": [
        "airlines_data[\"Name\"] "
      ]
    },
    {
      "cell_type": "code",
      "execution_count": 14,
      "metadata": {
        "colab": {
          "base_uri": "https://localhost:8080/"
        },
        "id": "EJxtveKrwVL2",
        "outputId": "63bbe968-5ef9-485c-a2de-905653deaf41"
      },
      "outputs": [
        {
          "data": {
            "text/plain": [
              "0        True\n",
              "1       False\n",
              "2       False\n",
              "3       False\n",
              "4       False\n",
              "        ...  \n",
              "1602    False\n",
              "1603    False\n",
              "1604    False\n",
              "1605    False\n",
              "1606    False\n",
              "Name: Name, Length: 1607, dtype: bool"
            ]
          },
          "execution_count": 14,
          "metadata": {},
          "output_type": "execute_result"
        }
      ],
      "source": [
        "airlines_data[\"Name\"] == \"21 Air\""
      ]
    },
    {
      "cell_type": "code",
      "execution_count": 15,
      "metadata": {
        "colab": {
          "base_uri": "https://localhost:8080/",
          "height": 98
        },
        "id": "yrs7rmyuwU6Z",
        "outputId": "dd56cdf1-9f7b-4387-d16d-52af10ac702a"
      },
      "outputs": [
        {
          "name": "stdout",
          "output_type": "stream",
          "text": [
            "(1, 3)\n"
          ]
        },
        {
          "data": {
            "text/html": [
              "<div>\n",
              "<style scoped>\n",
              "    .dataframe tbody tr th:only-of-type {\n",
              "        vertical-align: middle;\n",
              "    }\n",
              "\n",
              "    .dataframe tbody tr th {\n",
              "        vertical-align: top;\n",
              "    }\n",
              "\n",
              "    .dataframe thead th {\n",
              "        text-align: right;\n",
              "    }\n",
              "</style>\n",
              "<table border=\"1\" class=\"dataframe\">\n",
              "  <thead>\n",
              "    <tr style=\"text-align: right;\">\n",
              "      <th></th>\n",
              "      <th>Name</th>\n",
              "      <th>Code</th>\n",
              "      <th>ICAO</th>\n",
              "    </tr>\n",
              "  </thead>\n",
              "  <tbody>\n",
              "    <tr>\n",
              "      <th>0</th>\n",
              "      <td>21 Air</td>\n",
              "      <td>2I</td>\n",
              "      <td>CSB</td>\n",
              "    </tr>\n",
              "  </tbody>\n",
              "</table>\n",
              "</div>"
            ],
            "text/plain": [
              "     Name Code ICAO\n",
              "0  21 Air   2I  CSB"
            ]
          },
          "execution_count": 15,
          "metadata": {},
          "output_type": "execute_result"
        }
      ],
      "source": [
        "#filtrer (version longue)\n",
        "airlines_filtre = airlines_data[\"Name\"] == \"21 Air\"\n",
        "# filter rows for year 2002 using  the boolean variable\n",
        "air = airlines_data[airlines_filtre]\n",
        "print(air.shape)\n",
        "\n",
        "air.head()"
      ]
    },
    {
      "cell_type": "code",
      "execution_count": 16,
      "metadata": {
        "colab": {
          "base_uri": "https://localhost:8080/",
          "height": 81
        },
        "id": "ziMpHQUlxkGi",
        "outputId": "e7797a1c-841c-4686-806a-3f1e3c8e2089"
      },
      "outputs": [
        {
          "data": {
            "text/html": [
              "<div>\n",
              "<style scoped>\n",
              "    .dataframe tbody tr th:only-of-type {\n",
              "        vertical-align: middle;\n",
              "    }\n",
              "\n",
              "    .dataframe tbody tr th {\n",
              "        vertical-align: top;\n",
              "    }\n",
              "\n",
              "    .dataframe thead th {\n",
              "        text-align: right;\n",
              "    }\n",
              "</style>\n",
              "<table border=\"1\" class=\"dataframe\">\n",
              "  <thead>\n",
              "    <tr style=\"text-align: right;\">\n",
              "      <th></th>\n",
              "      <th>Name</th>\n",
              "      <th>Code</th>\n",
              "      <th>ICAO</th>\n",
              "    </tr>\n",
              "  </thead>\n",
              "  <tbody>\n",
              "    <tr>\n",
              "      <th>102</th>\n",
              "      <td>Air France</td>\n",
              "      <td>AF</td>\n",
              "      <td>AFR</td>\n",
              "    </tr>\n",
              "  </tbody>\n",
              "</table>\n",
              "</div>"
            ],
            "text/plain": [
              "           Name Code ICAO\n",
              "102  Air France   AF  AFR"
            ]
          },
          "execution_count": 16,
          "metadata": {},
          "output_type": "execute_result"
        }
      ],
      "source": [
        "# filtrer (version courte)\n",
        "airlines_data[airlines_data[\"Name\"] == \"Air France\"]"
      ]
    }
  ],
  "metadata": {
    "colab": {
      "collapsed_sections": [],
      "name": "Test.ipynb",
      "provenance": []
    },
    "kernelspec": {
      "display_name": "Python 3",
      "name": "python3"
    },
    "language_info": {
      "codemirror_mode": {
        "name": "ipython",
        "version": 3
      },
      "file_extension": ".py",
      "mimetype": "text/x-python",
      "name": "python",
      "nbconvert_exporter": "python",
      "pygments_lexer": "ipython3",
      "version": "3.9.7"
    }
  },
  "nbformat": 4,
  "nbformat_minor": 0
}
