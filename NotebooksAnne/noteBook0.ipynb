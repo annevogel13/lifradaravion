{
  "cells": [
    {
      "cell_type": "markdown",
      "metadata": {
        "id": "s-wn2iCTqORD"
      },
      "source": [
        "# Airlines - database "
      ]
    },
    {
      "cell_type": "code",
      "execution_count": null,
      "metadata": {
        "id": "UMyVdmh-qMDd"
      },
      "outputs": [],
      "source": [
        "import pandas as pd"
      ]
    },
    {
      "cell_type": "code",
      "execution_count": null,
      "metadata": {
        "id": "oi3vwvr2qkG6"
      },
      "outputs": [],
      "source": [
        "data = pd.read_csv(\"http://cazabetremy.fr/Teaching/bitcoinClass/2021/trx_last_1M.csv\")"
      ]
    },
    {
      "cell_type": "code",
      "execution_count": null,
      "metadata": {
        "colab": {
          "base_uri": "https://localhost:8080/",
          "height": 423
        },
        "id": "JEHyjNTOs_s-",
        "outputId": "a9f3139c-fbf1-4ae6-ab73-2ddc0620080e"
      },
      "outputs": [],
      "source": [
        "data.columns = [\"cl_in\",\"cl_out\",\"timestamp\",\"value\",\"valueDoll\"]\n",
        "data"
      ]
    },
    {
      "cell_type": "code",
      "execution_count": null,
      "metadata": {
        "colab": {
          "base_uri": "https://localhost:8080/",
          "height": 206
        },
        "id": "YL4CjBwytncF",
        "outputId": "c13c827e-60f9-4b4f-b62a-6529b168b52e"
      },
      "outputs": [],
      "source": [
        "data.head()\n"
      ]
    },
    {
      "cell_type": "code",
      "execution_count": null,
      "metadata": {
        "colab": {
          "base_uri": "https://localhost:8080/"
        },
        "id": "qlghok4lt3dG",
        "outputId": "31a6fc64-348f-4ed3-e6f4-5c1401225ece"
      },
      "outputs": [],
      "source": [
        "#pip install FLightRadarAPI  # <-- besoin de mettre en commentaire une fois charchee "
      ]
    },
    {
      "cell_type": "code",
      "execution_count": null,
      "metadata": {
        "id": "_Wduq6LCuJQV"
      },
      "outputs": [],
      "source": [
        "from FlightRadar24.api import FlightRadar24API"
      ]
    },
    {
      "cell_type": "code",
      "execution_count": null,
      "metadata": {
        "id": "ke2j41m5uVWw"
      },
      "outputs": [],
      "source": [
        "fr_api = FlightRadar24API()"
      ]
    },
    {
      "cell_type": "code",
      "execution_count": null,
      "metadata": {
        "id": "5IKV5hTyuaHG"
      },
      "outputs": [],
      "source": [
        "airlines = fr_api.get_airlines()"
      ]
    },
    {
      "cell_type": "code",
      "execution_count": null,
      "metadata": {
        "colab": {
          "base_uri": "https://localhost:8080/"
        },
        "id": "Pq5RHpxQuxit",
        "outputId": "329fc016-4511-473a-d902-9687f921a865"
      },
      "outputs": [],
      "source": [
        "# donner un type \n",
        "type(airlines)"
      ]
    },
    {
      "cell_type": "code",
      "execution_count": null,
      "metadata": {
        "id": "U_cbtmAHuxxo"
      },
      "outputs": [],
      "source": [
        "# transforme list en dataframe \n",
        "airlines_data = pd.DataFrame(airlines)"
      ]
    },
    {
      "cell_type": "code",
      "execution_count": null,
      "metadata": {
        "colab": {
          "base_uri": "https://localhost:8080/",
          "height": 206
        },
        "id": "PdLb5ityvKke",
        "outputId": "5b7b9495-cb47-4c98-f4d9-414f38f5e223"
      },
      "outputs": [],
      "source": [
        "airlines_data.head()"
      ]
    },
    {
      "cell_type": "code",
      "execution_count": null,
      "metadata": {
        "colab": {
          "base_uri": "https://localhost:8080/"
        },
        "id": "M_TC1a72v10P",
        "outputId": "56871a5e-5560-45a6-e4b3-cc5e5cca0558"
      },
      "outputs": [],
      "source": [
        "airlines_data[\"Name\"] \n"
      ]
    },
    {
      "cell_type": "code",
      "execution_count": null,
      "metadata": {
        "colab": {
          "base_uri": "https://localhost:8080/"
        },
        "id": "EJxtveKrwVL2",
        "outputId": "63bbe968-5ef9-485c-a2de-905653deaf41"
      },
      "outputs": [],
      "source": [
        "airlines_data[\"Name\"] == \"21 Air\""
      ]
    },
    {
      "cell_type": "code",
      "execution_count": null,
      "metadata": {
        "colab": {
          "base_uri": "https://localhost:8080/",
          "height": 98
        },
        "id": "yrs7rmyuwU6Z",
        "outputId": "dd56cdf1-9f7b-4387-d16d-52af10ac702a"
      },
      "outputs": [],
      "source": [
        "#filtrer (version longue)\n",
        "airlines_filtre = airlines_data[\"Name\"] == \"21 Air\"\n",
        "# filter rows for year 2002 using  the boolean variable\n",
        "air = airlines_data[airlines_filtre]\n",
        "print(air.shape)\n",
        "\n",
        "air.head()"
      ]
    },
    {
      "cell_type": "code",
      "execution_count": null,
      "metadata": {
        "colab": {
          "base_uri": "https://localhost:8080/",
          "height": 81
        },
        "id": "ziMpHQUlxkGi",
        "outputId": "e7797a1c-841c-4686-806a-3f1e3c8e2089"
      },
      "outputs": [],
      "source": [
        "# filtrer (version courte)\n",
        "airlines_data[airlines_data[\"Name\"] == \"Air France\"]"
      ]
    },
    {
      "cell_type": "markdown",
      "metadata": {},
      "source": [
        "# F1 - database  "
      ]
    },
    {
      "cell_type": "code",
      "execution_count": 41,
      "metadata": {},
      "outputs": [],
      "source": [
        "%matplotlib inline\n",
        "import pandas as pd\n",
        "import numpy as py\n",
        "import matplotlib.pyplot as plt "
      ]
    },
    {
      "cell_type": "code",
      "execution_count": 34,
      "metadata": {},
      "outputs": [
        {
          "data": {
            "text/html": [
              "<div>\n",
              "<style scoped>\n",
              "    .dataframe tbody tr th:only-of-type {\n",
              "        vertical-align: middle;\n",
              "    }\n",
              "\n",
              "    .dataframe tbody tr th {\n",
              "        vertical-align: top;\n",
              "    }\n",
              "\n",
              "    .dataframe thead th {\n",
              "        text-align: right;\n",
              "    }\n",
              "</style>\n",
              "<table border=\"1\" class=\"dataframe\">\n",
              "  <thead>\n",
              "    <tr style=\"text-align: right;\">\n",
              "      <th></th>\n",
              "      <th>raceId</th>\n",
              "      <th>driverId</th>\n",
              "      <th>lap</th>\n",
              "      <th>position</th>\n",
              "      <th>time</th>\n",
              "      <th>milliseconds</th>\n",
              "    </tr>\n",
              "  </thead>\n",
              "  <tbody>\n",
              "    <tr>\n",
              "      <th>265622</th>\n",
              "      <td>71</td>\n",
              "      <td>33</td>\n",
              "      <td>1</td>\n",
              "      <td>17</td>\n",
              "      <td>1:49.700</td>\n",
              "      <td>109700</td>\n",
              "    </tr>\n",
              "    <tr>\n",
              "      <th>265623</th>\n",
              "      <td>71</td>\n",
              "      <td>33</td>\n",
              "      <td>2</td>\n",
              "      <td>17</td>\n",
              "      <td>1:35.275</td>\n",
              "      <td>95275</td>\n",
              "    </tr>\n",
              "    <tr>\n",
              "      <th>265624</th>\n",
              "      <td>71</td>\n",
              "      <td>33</td>\n",
              "      <td>3</td>\n",
              "      <td>17</td>\n",
              "      <td>1:31.712</td>\n",
              "      <td>91712</td>\n",
              "    </tr>\n",
              "    <tr>\n",
              "      <th>265625</th>\n",
              "      <td>71</td>\n",
              "      <td>33</td>\n",
              "      <td>4</td>\n",
              "      <td>17</td>\n",
              "      <td>1:31.427</td>\n",
              "      <td>91427</td>\n",
              "    </tr>\n",
              "    <tr>\n",
              "      <th>265626</th>\n",
              "      <td>71</td>\n",
              "      <td>33</td>\n",
              "      <td>5</td>\n",
              "      <td>17</td>\n",
              "      <td>1:31.603</td>\n",
              "      <td>91603</td>\n",
              "    </tr>\n",
              "  </tbody>\n",
              "</table>\n",
              "</div>"
            ],
            "text/plain": [
              "        raceId  driverId  lap  position      time  milliseconds\n",
              "265622      71        33    1        17  1:49.700        109700\n",
              "265623      71        33    2        17  1:35.275         95275\n",
              "265624      71        33    3        17  1:31.712         91712\n",
              "265625      71        33    4        17  1:31.427         91427\n",
              "265626      71        33    5        17  1:31.603         91603"
            ]
          },
          "execution_count": 34,
          "metadata": {},
          "output_type": "execute_result"
        }
      ],
      "source": [
        "Data_f1 = pd.read_csv('archive/lap_times.csv')\n",
        "\n",
        "VER = Data_f1[Data_f1[\"driverId\"] == 33].head()\n",
        "HAM =  Data_f1[Data_f1[\"driverId\"] == 44].head()\n",
        "\n",
        "VER"
      ]
    },
    {
      "cell_type": "code",
      "execution_count": 35,
      "metadata": {},
      "outputs": [],
      "source": [
        "# data \n",
        "x = VER['milliseconds']\n",
        "y = HAM['milliseconds']\n",
        "z = [1,2,3,4,5]"
      ]
    },
    {
      "cell_type": "code",
      "execution_count": 42,
      "metadata": {},
      "outputs": [
        {
          "data": {
            "image/png": "[encoded data removed]",
            "text/plain": [
              "<Figure size 432x288 with 1 Axes>"
            ]
          },
          "metadata": {
            "needs_background": "light"
          },
          "output_type": "display_data"
        }
      ],
      "source": [
        "# plot settings \n",
        "plt.plot(z, x, label = \"Max VERSTAPPEN\", linestyle=\"-\")\n",
        "plt.plot(z, y, label = \"Lewis HAMILTON\", linestyle=\"--\")\n",
        "plt.legend()\n",
        "plt.show()"
      ]
    }
  ],
  "metadata": {
    "colab": {
      "collapsed_sections": [],
      "name": "Test.ipynb",
      "provenance": []
    },
    "kernelspec": {
      "display_name": "Python 3",
      "name": "python3"
    },
    "language_info": {
      "codemirror_mode": {
        "name": "ipython",
        "version": 3
      },
      "file_extension": ".py",
      "mimetype": "text/x-python",
      "name": "python",
      "nbconvert_exporter": "python",
      "pygments_lexer": "ipython3",
      "version": "3.9.7"
    }
  },
  "nbformat": 4,
  "nbformat_minor": 0
}
