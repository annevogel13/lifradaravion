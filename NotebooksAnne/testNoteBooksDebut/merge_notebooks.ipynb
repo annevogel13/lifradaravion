{
 "cells": [
  {
   "cell_type": "code",
   "execution_count": 3,
   "metadata": {},
   "outputs": [],
   "source": [
    "# concatenation de deux notebooks  href = https://towardsdatascience.com/how-to-easily-merge-multiple-jupyter-notebooks-into-one-e464a22d2dc4#e504\n",
    "import json \n",
    "import copy \n",
    "\n",
    "def read_ipynb(notebook_path): \n",
    "    with open(notebook_path, 'r', encoding='utf-8') as f:\n",
    "        return json.load(f)\n",
    "    \n",
    "def write_ipynb(notebook, notebook_path):\n",
    "    with open(notebook_path, 'w', encoding='utf-8') as f:\n",
    "        json.dump(notebook, f)\n",
    "\n",
    "\n",
    "loris_notebook = read_ipynb('../../NoteBookLoris/LORIS_FlightRadar.ipynb')\n",
    "anne_notebook = read_ipynb('./finaldashboard.ipynb')\n",
    "\n",
    "final_notebook = copy.deepcopy(loris_notebook)\n",
    "\n",
    "final_notebook['cells'] = loris_notebook['cells'] + anne_notebook['cells']\n",
    "# sauvegarder le resultat \n",
    "write_ipynb(final_notebook, './notebook_ANLO.ipynb')\n",
    "\n"
   ]
  }
 ],
 "metadata": {
  "interpreter": {
   "hash": "9de47a7ff7a7d4c411cd7e559945a3d8e007821307afed695e839a643309325a"
  },
  "kernelspec": {
   "display_name": "Python 3.7.9 64-bit (windows store)",
   "language": "python",
   "name": "python3"
  },
  "language_info": {
   "codemirror_mode": {
    "name": "ipython",
    "version": 3
   },
   "file_extension": ".py",
   "mimetype": "text/x-python",
   "name": "python",
   "nbconvert_exporter": "python",
   "pygments_lexer": "ipython3",
   "version": "3.7.9"
  },
  "orig_nbformat": 4
 },
 "nbformat": 4,
 "nbformat_minor": 2
}
