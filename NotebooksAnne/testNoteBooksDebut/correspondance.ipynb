{
 "cells": [
  {
   "cell_type": "markdown",
   "metadata": {},
   "source": [
    "## Correspondances (redondante)\n",
    "tous les fonctions utilise dans ce notebook sont redonante. Car le resultat de ce notebook c'est le meme si on utilise une dataframe avec deux filtres :-("
   ]
  },
  {
   "cell_type": "code",
   "execution_count": 46,
   "metadata": {},
   "outputs": [],
   "source": [
    "import pandas as pd\n",
    "import ipywidgets as widgets"
   ]
  },
  {
   "cell_type": "code",
   "execution_count": 47,
   "metadata": {},
   "outputs": [],
   "source": [
    "airports = pd.read_csv(\"../data/aeroportsANLO.csv\")\n",
    "routes = pd.read_csv(\"../data/routesANLO.csv\")"
   ]
  },
  {
   "cell_type": "code",
   "execution_count": 48,
   "metadata": {},
   "outputs": [],
   "source": [
    "# creation du list from airports \n",
    "name_airports = airports['Name'].tolist()\n",
    "iata_airports = airports['Iata'].tolist()"
   ]
  },
  {
   "cell_type": "markdown",
   "metadata": {},
   "source": [
    "## Widgets "
   ]
  },
  {
   "cell_type": "code",
   "execution_count": 49,
   "metadata": {},
   "outputs": [
    {
     "data": {
      "application/vnd.jupyter.widget-view+json": {
       "model_id": "1344cc672df8431eba5f00b75ff7392e",
       "version_major": 2,
       "version_minor": 0
      },
      "text/plain": [
       "Dropdown(description='Airport Depart:', options=('A Coruna Airport', 'Aachen Merzbruck Airport', 'Aalborg Airp…"
      ]
     },
     "metadata": {},
     "output_type": "display_data"
    }
   ],
   "source": [
    "airportDepart = widgets.Dropdown(\n",
    "    options= name_airports,\n",
    "    description='Airport Depart:',\n",
    "    disabled=False,\n",
    ")\n",
    "airportDepart"
   ]
  },
  {
   "cell_type": "code",
   "execution_count": 50,
   "metadata": {},
   "outputs": [
    {
     "data": {
      "application/vnd.jupyter.widget-view+json": {
       "model_id": "c19c424dfdbd49a1b7d9c088a3a6c073",
       "version_major": 2,
       "version_minor": 0
      },
      "text/plain": [
       "Dropdown(description='Airport Depart:', options=('A Coruna Airport', 'Aachen Merzbruck Airport', 'Aalborg Airp…"
      ]
     },
     "metadata": {},
     "output_type": "display_data"
    }
   ],
   "source": [
    "airportArrive = widgets.Dropdown(\n",
    "    options= name_airports,\n",
    "    description='Airport Depart:',\n",
    "    disabled=False,\n",
    ")\n",
    "\n",
    "airportArrive"
   ]
  },
  {
   "cell_type": "code",
   "execution_count": 51,
   "metadata": {},
   "outputs": [
    {
     "data": {
      "application/vnd.jupyter.widget-view+json": {
       "model_id": "4773c2ad39a14b8ebacb8f59f63da088",
       "version_major": 2,
       "version_minor": 0
      },
      "text/plain": [
       "BoundedIntText(value=1, description='Number of correpondances:', max=1)"
      ]
     },
     "metadata": {},
     "output_type": "display_data"
    }
   ],
   "source": [
    "nb_correspondances =widgets.BoundedIntText(\n",
    "    value=1,\n",
    "    min=0,\n",
    "    max=1,\n",
    "    step=1,\n",
    "    description='Number of correpondances:',\n",
    "    disabled=False\n",
    ")\n",
    "\n",
    "nb_correspondances"
   ]
  },
  {
   "cell_type": "code",
   "execution_count": 52,
   "metadata": {},
   "outputs": [
    {
     "data": {
      "text/plain": [
       "'On veut aller de A Coruna Airport à A Coruna Airport avec 1 corresponances'"
      ]
     },
     "execution_count": 52,
     "metadata": {},
     "output_type": "execute_result"
    }
   ],
   "source": [
    "\"On veut aller de {} à {} avec {} corresponances\".format(airportDepart.value, airportArrive.value, nb_correspondances.value)"
   ]
  },
  {
   "cell_type": "markdown",
   "metadata": {},
   "source": [
    "## Fonctions"
   ]
  },
  {
   "cell_type": "markdown",
   "metadata": {},
   "source": [
    "findAirportCode(..)"
   ]
  },
  {
   "cell_type": "code",
   "execution_count": 53,
   "metadata": {},
   "outputs": [],
   "source": [
    "# d'abord on vais ecrire une function pour trouver une route entre deux airports donnees \n",
    "def findAirportCode(airportName : str):\n",
    "    '''\n",
    "    fonction pour trouver le airport code ('iata') si on a une airportname \n",
    "    retour : string with 3 letters corresponding to iata of airport \n",
    "    '''\n",
    "    index = name_airports.index(airportName)\n",
    "    return iata_airports[index]\n",
    "        "
   ]
  },
  {
   "cell_type": "markdown",
   "metadata": {},
   "source": [
    "findAirportCountry(...)"
   ]
  },
  {
   "cell_type": "code",
   "execution_count": 54,
   "metadata": {},
   "outputs": [],
   "source": [
    "def findAirportCountry(airportIATA : str):\n",
    "    '''\n",
    "    fonction pour trouver le pays d'une airport si on l'IATA  \n",
    "    retour : string corresponding to country of the airport \n",
    "    '''\n",
    "    index = iata_airports.index(airportIATA)\n",
    "    return airports['Country'][index]\n",
    "\n",
    "\n",
    "#findAirportCountry('LIL') # 'France'"
   ]
  },
  {
   "cell_type": "markdown",
   "metadata": {},
   "source": [
    "Connection_between_two_airports(.., ..)"
   ]
  },
  {
   "cell_type": "code",
   "execution_count": 55,
   "metadata": {},
   "outputs": [],
   "source": [
    "def connection_between_two_airports(airportArriveCode : str, airportDepartCode : str):\n",
    "    '''\n",
    "    fonction qui verifie si on a une liaison/route entre les deux codes \n",
    "    retour : integer qui répresent le num_IATA ou une dict {0 : {airportC: ..., IATA : ....}}\n",
    "    '''\n",
    "    if airportDepartCode == '' or airportArriveCode == '':\n",
    "      if airportDepartCode == '' : var1 = airportArriveCode\n",
    "      else : var1 = airportDepartCode\n",
    "      \n",
    "      tmp1 = [\"airportC\", \"IATA\"]\n",
    "      tmp = dict();\n",
    "      index = 0 ; \n",
    "      for row in routes.iterrows():\n",
    "        if(row[1][11] == var1):\n",
    "          tmp2 = [row[1][12], row[1][13]]\n",
    "          tmp3 = dict(zip(tmp1, tmp2))\n",
    "          tmp[index] = tmp3 \n",
    "          index = index + 1\n",
    "      return tmp\n",
    "    else: \n",
    "      for row in routes.iterrows():\n",
    "        # 11 -> arrive, 12 --> depart, 13 --> num_IATA \n",
    "        if((row[1][11] == airportArriveCode) and (row[1][12] == airportDepartCode)):\n",
    "          return row[1][13]"
   ]
  },
  {
   "cell_type": "code",
   "execution_count": 56,
   "metadata": {},
   "outputs": [],
   "source": [
    "# fonction qui vérifie si une les deux codes de airports ont une liaison/route \n",
    "def connection_between_two_airports_v2(airportArriveCode : str, airportDepartCode : str):\n",
    "    '''\n",
    "    fonction qui verifie si on a une liaison/route entre les deux codes \n",
    "    retour : integer qui répresent le num_IATA ou un dict avec {airport : IATA}\n",
    "    '''\n",
    "    if airportDepartCode == '' or airportArriveCode == '':\n",
    "      if airportDepartCode == '' : var1 = airportArriveCode\n",
    "      else : var1 = airportDepartCode\n",
    "      \n",
    "      tmp = dict();\n",
    "      for row in routes.iterrows():\n",
    "        if(row[1][11] == var1):\n",
    "          tmp[row[1][12]] = row[1][13] # dict avec comme key le code d'airport \n",
    "      return tmp\n",
    "    \n",
    "    else: \n",
    "      for row in routes.iterrows():\n",
    "        # 11 -> arrive, 12 --> depart, 13 --> num_IATA \n",
    "        if((row[1][11] == airportArriveCode) and (row[1][12] == airportDepartCode)):\n",
    "          return row[1][13]\n",
    "    \n",
    "#routes[routes['Depart'] == 'CDG'][routes['Arrivee'] == 'JFK']\n",
    "#connection_between_two_airports_v2('CDG', '')    "
   ]
  },
  {
   "cell_type": "code",
   "execution_count": 57,
   "metadata": {},
   "outputs": [],
   "source": [
    "#compare two dict to find the same airport \n",
    "def compare_dict_airport_v1(dict1 : dict, dict2 : dict):\n",
    "    '''\n",
    "    fonction qui retourne une list avec tous les airports que les deux dictionnaires ont en commen\n",
    "    retour : list des airport codes \n",
    "    '''\n",
    "    possibilites_duplicates = [] \n",
    "    ########## loop d1\n",
    "    for k, content_k in dict1.items():\n",
    "            ########### loop d2 \n",
    "            for p, content_p in dict2.items():\n",
    "                ## test if in those dict are the same airports \n",
    "                if content_k['airportC'] == content_p['airportC']:\n",
    "                    possibilites_duplicates.append(content_k['airportC'])\n",
    "    return list(set(possibilites_duplicates))\n",
    " "
   ]
  },
  {
   "cell_type": "code",
   "execution_count": 58,
   "metadata": {},
   "outputs": [],
   "source": [
    "#connection_between_two_airports('JFK', '') # check 645 tuples \n",
    "#connection_between_two_airports('', 'JFK') # check 645 tuples \n",
    "\n",
    "# JFK -> LAX \n",
    "#d1 = connection_between_two_airports('JFK', '') # LAX\n",
    "#d2 = connection_between_two_airports('', 'BOS') # LAX\n",
    "#compare_dict_airport_v1(d1,d2) \n",
    "#print(connection_between_two_airports('JFK', 'BOS'))"
   ]
  },
  {
   "cell_type": "markdown",
   "metadata": {},
   "source": [
    "remove_other_continents(... , ...)"
   ]
  },
  {
   "cell_type": "code",
   "execution_count": 70,
   "metadata": {},
   "outputs": [],
   "source": [
    "continents_df = pd.read_csv(\"../data/countries.csv\")\n",
    "continents_dict = dict(zip(continents_df['country'], continents_df['continent']))\n",
    "del continents_df"
   ]
  },
  {
   "cell_type": "code",
   "execution_count": 72,
   "metadata": {},
   "outputs": [],
   "source": [
    "def remove_other_continents(list_airport_codes, continentStart):\n",
    "    '''\n",
    "    fonction qui enleve tous les airports_code qui ne sont pas sur le meme continent \n",
    "    retour : liste des airport_codes \n",
    "    '''\n",
    "    country_matching_compare = []\n",
    "    continent_matching_compare = []\n",
    "    #finding the countries corresponding by the airports \n",
    "    for i in range(0, len(list_airport_codes)):\n",
    "        country_matching_compare.append(findAirportCountry(list_airport_codes[i]))\n",
    "    \n",
    "    #finding the continent corresponding to the countries \n",
    "    for i in range(0, len(country_matching_compare)):\n",
    "        \n",
    "        continent_matching_compare.append(continents_dict[country_matching_compare[i]])\n",
    "    \n",
    "    combination = pd.DataFrame(); \n",
    "    combination['AirportCode'] = list_airport_codes\n",
    "    combination['Continent'] = continent_matching_compare\n",
    "    \n",
    "    # renvoie seulement les airports qui sont sur le meme continent \n",
    "    return combination[combination['Continent'] == continentStart]['AirportCode'].to_list()"
   ]
  },
  {
   "cell_type": "code",
   "execution_count": 61,
   "metadata": {},
   "outputs": [],
   "source": [
    "#old test\n",
    "#dd1 = connection_between_two_airports_v2('JFK', '') # LAX 22.2\n",
    "#dd1 = connection_between_two_airports_v2('BOS', '') # BOS 22.2\n"
   ]
  },
  {
   "cell_type": "code",
   "execution_count": 62,
   "metadata": {},
   "outputs": [],
   "source": [
    "# old tests\n",
    "#dd1 = connection_between_two_airports('JFK', '') # LAX 24.1\n",
    "#dd1 = connection_between_two_airports('BOS', '') # LAX 24.1"
   ]
  },
  {
   "cell_type": "code",
   "execution_count": 63,
   "metadata": {},
   "outputs": [],
   "source": [
    "def compare_dict_airport_v2(dict1 : dict, dict2 : dict):\n",
    "    '''\n",
    "    fonction qui retourne une list avec tous les airports que les deux dictionnaires ont en commen\n",
    "    retour : list des airport codes \n",
    "    '''\n",
    "    possibilites_duplicates = [] \n",
    "    ########## loop dict1\n",
    "    for k, content_k in dict1.items():\n",
    "            ########### loop d2 \n",
    "            for p, content_p in dict2.items():\n",
    "                ## test if in those dict are the same airports \n",
    "                if content_k['airportC'] == content_p['airportC']:\n",
    "                    possibilites_duplicates.append(content_k['airportC'])\n",
    "    return list(set(possibilites_duplicates))\n",
    "  \n",
    "#compare_dict_airport_v2(dd1, dd2)\n"
   ]
  },
  {
   "cell_type": "code",
   "execution_count": 64,
   "metadata": {},
   "outputs": [],
   "source": [
    "def airports_same_continent(airportCode1 : str, airportCode2 : str):\n",
    "    '''\n",
    "    fonction qui verifie si les deux airports sont sur le meme continent, si cela c'est le cas le fonction enleve les airportsCode qui ne sont pas sur cette continent\n",
    "    retour : list avec les airportCodes (str)\n",
    "    '''\n",
    "    c1 = findAirportCountry(airportCode1)\n",
    "    c2 = findAirportCountry(airportCode2)\n",
    "    \n",
    "    con1 = continents_dict[c1]\n",
    "    con2 = continents_dict[c2]\n",
    "    \n",
    "    if(con1 == con2):\n",
    "        return con1\n",
    "    else : return -1"
   ]
  },
  {
   "cell_type": "markdown",
   "metadata": {},
   "source": [
    "liaison_correspondances(...) --> fonction qui est le but de ce notebook"
   ]
  },
  {
   "cell_type": "markdown",
   "metadata": {},
   "source": [
    "bidect,,, index ,, snake vi,, icicle , line-by-line-profiling "
   ]
  },
  {
   "cell_type": "code",
   "execution_count": 74,
   "metadata": {},
   "outputs": [
    {
     "name": "stdout",
     "output_type": "stream",
     "text": [
      "['MPL', 'CPH', 'DUS', 'BLL', 'AGP', 'OTP', 'STN', 'LPA', 'TFS', 'FUE', 'OSL']\n"
     ]
    }
   ],
   "source": [
    "def liaison_correspondances(nb_correspondances : int, airportName1 : str, airportName2 : str): \n",
    "    '''\n",
    "    fonction qui en fonction de nombre de correspondances donne les codes des airports qui pouvait être une correspondance \n",
    "    retour : soit un liste avec les code des airports, soit le code d'un route (depends de nb_correspondances)\n",
    "    '''\n",
    "    c1 = findAirportCode(airportName1)\n",
    "    c2 = findAirportCode(airportName2)\n",
    "\n",
    "    if nb_correspondances == 0 :\n",
    "        return connection_between_two_airports(c1, c2)\n",
    "    elif nb_correspondances == 1 :\n",
    "        d1 = connection_between_two_airports(c1, '')\n",
    "        d2 = connection_between_two_airports('', c2)\n",
    "        \n",
    "        r = airports_same_continent(c1, c2)\n",
    "        if r != -1:\n",
    "            return remove_other_continents(compare_dict_airport_v1(d1, d2), r)\n",
    "        \n",
    "print(liaison_correspondances(1, 'Aalborg Airport', 'Amsterdam Schiphol Airport'))\n",
    "\n",
    "#[df_vols[df_vols['Depart'] == 'aal]['Arrivee']]\n",
    "#[df_vols[df_vols['Depart'] == 'ams']['Arrivee']]\n",
    "#pd.erge( d1 ,d2 , on='arrivee, how= 'inner)\n",
    "\n",
    "#print(liaison_correspondances(1, 'New York John F. Kennedy International Airport', 'Paris Charles de Gaulle Airport'))"
   ]
  }
 ],
 "metadata": {
  "interpreter": {
   "hash": "186cdeb570711ed85187c509d68d5628274aea7de7df5beca59491276fe8c4d6"
  },
  "kernelspec": {
   "display_name": "Python 3.9.7 ('base')",
   "language": "python",
   "name": "python3"
  },
  "language_info": {
   "codemirror_mode": {
    "name": "ipython",
    "version": 3
   },
   "file_extension": ".py",
   "mimetype": "text/x-python",
   "name": "python",
   "nbconvert_exporter": "python",
   "pygments_lexer": "ipython3",
   "version": "3.9.7"
  },
  "orig_nbformat": 4
 },
 "nbformat": 4,
 "nbformat_minor": 2
}
