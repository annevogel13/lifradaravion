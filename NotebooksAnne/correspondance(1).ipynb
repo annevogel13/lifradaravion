{
 "cells": [
  {
   "cell_type": "markdown",
   "metadata": {},
   "source": [
    "## initialisation "
   ]
  },
  {
   "cell_type": "markdown",
   "metadata": {},
   "source": [
    "regles de codage : \n",
    "\n",
    "type_nom_variable\n",
    "nomFonction(...) \n",
    "\n",
    "aeroport ipv airports \n",
    "vol --> routesANLO --> df_vols\n",
    "routes --> dict_routes "
   ]
  },
  {
   "cell_type": "code",
   "execution_count": null,
   "metadata": {},
   "outputs": [],
   "source": [
    "# pip install networkx \n",
    "\n",
    "# imports \n",
    "import pandas as pd\n",
    "import numpy as np\n",
    "import ipywidgets as widgets\n",
    "import networkx as nx\n",
    "import matplotlib.pyplot as plt\n",
    "\n",
    "\n",
    "# databases \n",
    "airports_df = pd.read_csv(\"../data/aeroportsANLO.csv\")\n",
    "routes_df = pd.read_csv(\"../data/routesANLO.csv\")\n",
    "continents_df = pd.read_csv(\"../data/countries.csv\")\n",
    "\n",
    "# conversion to dict continent \n",
    "continents_dict = dict(zip(continents_df['country'], continents_df['continent'])); del continents_df\n"
   ]
  },
  {
   "cell_type": "code",
   "execution_count": null,
   "metadata": {},
   "outputs": [],
   "source": [
    "# TODO doit etre possible plus vite \n",
    "airports_dict = dict()\n",
    "for row in airports_df[['Iata','Name','Country']].iterrows():\n",
    "    a = row[1][0]\n",
    "    b = row[1][1]\n",
    "    c = row[1][2]\n",
    "    airports_dict[a] = dict(zip(['Name','Country'], [b,c]))\n"
   ]
  },
  {
   "cell_type": "code",
   "execution_count": null,
   "metadata": {},
   "outputs": [],
   "source": [
    "r1 = routes_df[routes_df['Depart'] == 'KWE']['Arrivee']\n",
    "r2 = routes_df[routes_df['Arrivee'] == 'AMS']['Depart']\n",
    "resultat = pd.merge(r1, r2,left_on = 'Arrivee', right_on = 'Depart')['Depart'].unique()"
   ]
  },
  {
   "cell_type": "code",
   "execution_count": null,
   "metadata": {},
   "outputs": [],
   "source": [
    "# optie 2\n",
    "def correspondance_1airport_int(code1 : str, code2 : str):\n",
    "    r1 = routes_df[routes_df['Depart'] == code1]['Arrivee'].to_list()\n",
    "    r2 = routes_df[routes_df['Arrivee'] == code2]['Depart'].to_list()\n",
    "\n",
    "    return list(set(r1).intersection(r2))"
   ]
  },
  {
   "cell_type": "code",
   "execution_count": null,
   "metadata": {},
   "outputs": [],
   "source": [
    "graph_test_nb = { # form needed for dijkstra\n",
    "    0: [(1, 5), (2, 1)],\n",
    "    1: [(0, 5), (3, 2)],\n",
    "    2: [(0, 1), (3, 1)],\n",
    "    3: [(1, 4), (2, 1)]\n",
    "}"
   ]
  },
  {
   "cell_type": "markdown",
   "metadata": {},
   "source": [
    "##  Graphe airports - functions "
   ]
  },
  {
   "cell_type": "code",
   "execution_count": null,
   "metadata": {},
   "outputs": [],
   "source": [
    "# version ameliore\n",
    "# besoin d'une grande list qui rappel tous chiffre avec les codes des airports  \n",
    "def creation_edges_am(graphe : nx.Graph, listReference : list, code1 : str, code2 : str): #returnListEdges :list[tuple]\n",
    "    '''\n",
    "        fonction qui crée à partir d'une liste d'aéroports un list des edges d'une graphe (avec le weight)\n",
    "        \n",
    "    '''\n",
    "    # dans le listReference les airport recois un index qui corresponds au identifiant de graphe \n",
    "    listConnections = correspondance_1airport_int(code1, code2)\n",
    "    # pour gerer les correspondances \n",
    "    if listReference.count(code1) == 0: listReference.append(code1); \n",
    "    if listReference.count(code2) == 0: listReference.append(code2)\n",
    "    \n",
    "    for i in listConnections :\n",
    "        if listReference.count(i) == 0 : \n",
    "            listReference.append(i)     \n",
    "    \n",
    "    index1 = listReference.index(code1) \n",
    "    index2 = listReference.index(code2)\n",
    "    weight = 2  # TODO calculer le C02 par rapport a la distance  \n",
    "   \n",
    "    listEdges = list(map(lambda x : (index1, listReference.index(x), weight), listConnections))\n",
    "    listEdges.extend(list(map(lambda y : (listReference.index(y), index2, weight), listConnections)))\n",
    "    \n",
    "    graphe.add_weighted_edges_from(listEdges)\n",
    "    return listEdges"
   ]
  },
  {
   "cell_type": "code",
   "execution_count": null,
   "metadata": {},
   "outputs": [],
   "source": [
    "# version orginale \n",
    "# besoin d'une grande list qui rappel tous chiffre avec les codes des airports  \n",
    "def creation_edges_orgin(graphe : nx.Graph, listReference : list, code1 : str, code2 : str): #returnListEdges :list[tuple]\n",
    "    '''\n",
    "        fonction qui crée à partir d'une liste d'aéroports un list des edges d'une graphe (avec le weight)\n",
    "        \n",
    "    '''\n",
    "    # dans le listReference les airport recois un index qui corresponds au identifiant de graphe \n",
    "    listConnections = correspondance_1airport_int(code1, code2)\n",
    "    # pour gerer les correspondances \n",
    "    if listReference.count(code1) == 0:\n",
    "        listReference.append(code1); #  airport de depart \n",
    "    \n",
    "    index1 = listReference.index(code1); \n",
    "    \n",
    "    for i in listConnections :\n",
    "        if listReference.count(i) == 0 : \n",
    "            listReference.append(i)     \n",
    "    \n",
    "    if listReference.count(code2) == 0:\n",
    "        listReference.append(code2); # fin list => airport de  arrivee\n",
    "    \n",
    "    index2 = listReference.index(code2)\n",
    "    \n",
    "    listEdges = []\n",
    "    for i in listConnections : \n",
    "        weight = 2 # TODO doit etre remplacee par distance \n",
    "        \n",
    "        indextmp = listReference.index(i)\n",
    "        listEdges.append((index1,indextmp,weight))\n",
    "        listEdges.append((indextmp,index2,weight))\n",
    "\n",
    "    graphe.add_weighted_edges_from(listEdges)\n",
    "    return listEdges"
   ]
  },
  {
   "cell_type": "code",
   "execution_count": null,
   "metadata": {},
   "outputs": [],
   "source": [
    "def dessiner_graphe(nom_graphe):\n",
    " \n",
    "    pos = nx.fruchterman_reingold_layout(nom_graphe)\n",
    "    nx.draw_networkx_nodes(nom_graphe, pos, node_size = 200)\n",
    "    nx.draw_networkx_edges(nom_graphe,pos, edgelist= nom_graphe.edges(), edge_color='black')\n",
    "    nx.draw_networkx_labels(nom_graphe, pos)\n",
    "    plt.autoscale()\n",
    "    #plt.title((code1,code2))\n",
    "    #nx.draw_networkx_edge_labels(nom_graphe, pos) # afficher le weight \n",
    "\n",
    "    plt.show()"
   ]
  },
  {
   "cell_type": "code",
   "execution_count": null,
   "metadata": {},
   "outputs": [],
   "source": [
    "def conversion(listOfEdgesWeighted : list[tuple], graphe : nx.Graph):\n",
    "    '''\n",
    "        function qui convertie un list avec les edges d'uin graph avec leur \"weight\" et \n",
    "        qui le convertie en une dict de graph qui peut être utilise par le algorithme de dijkstra \n",
    "        retour : le dict qui represente une graphe sous forme de { ind_start : [(end, weight) , (end, weight)], ind_start : [ ..] etc }\n",
    "    '''\n",
    "    # calculer le nombre de nodes \n",
    "    nbNodes = graphe.number_of_nodes()\n",
    "    \n",
    "    # creation d'une dict avec le nombre de nodes initialise avec une liste vide \n",
    "    returnDict= dict()\n",
    "    # TODO per correspondantie moet +1 \n",
    "    \n",
    "    for i in range(0,nbNodes):         \n",
    "        returnDict[i] = []\n",
    "\n",
    "    # remplir le dictionairy a partir de listOfEdgesWeighted\n",
    "    for t in listOfEdgesWeighted:\n",
    "        # on doit ajoute les edges dans les deux cote (de 1 --> 2 et de 2 --> 1)\n",
    "        returnDict[t[0]].append((t[1],t[2])) \n",
    "        returnDict[t[1]].append((t[0],t[2])) \n",
    "        \n",
    "    return returnDict"
   ]
  },
  {
   "cell_type": "markdown",
   "metadata": {},
   "source": [
    "## AAL --> LNZ"
   ]
  },
  {
   "cell_type": "code",
   "execution_count": null,
   "metadata": {},
   "outputs": [],
   "source": [
    "# werkt voor 'AAL' naar 'LNZ'\n",
    "graphe_test = nx.Graph()\n",
    "returnlist = []\n",
    "conlist = creation_edges_am(graphe_test, returnlist, 'AAL', 'LNZ')\n",
    "\n",
    "conlist.extend(creation_edges_am(graphe_test, returnlist, returnlist[1], returnlist[3] ))\n",
    "\n",
    "dessiner_graphe(graphe_test)\n",
    "conversion(conlist, graphe_test)  # ce list peut etre utilise par algorithm de dijkstra "
   ]
  },
  {
   "cell_type": "code",
   "execution_count": null,
   "metadata": {},
   "outputs": [],
   "source": [
    "# Notities \n",
    "# all the edges\n",
    "#print(\"weighted edges : \")\n",
    "#print(rList) \n",
    "# rList.sort(key= lambda a : a[0]) \n",
    "#print(\"edges coordinaat : \")\n",
    "#conversion_test = [e for e in graphe_test2.edges] # list of edges \n",
    "#[e for e in graphe_test2.edges] # list of nodes \n",
    "#graphe_test2.number_of_edges() # number of edges \n",
    "#graphe_test2.number_of_nodes() # number of edges "
   ]
  },
  {
   "cell_type": "markdown",
   "metadata": {},
   "source": [
    "## AAL --> LAX"
   ]
  },
  {
   "cell_type": "code",
   "execution_count": null,
   "metadata": {},
   "outputs": [],
   "source": [
    "# test 3 \n",
    "graphe_test3 = nx.Graph()\n",
    "list_test3 = []\n",
    "test3 = creation_edges_am(graphe_test3, list_test3, 'AAL', 'AMS')\n",
    "\n",
    "dessiner_graphe(graphe_test3)\n",
    "new_code1 = list_test3[0]\n",
    "new_code2 = list_test3[12]\n",
    "# si on reutilise le list_test3 on peu aggrandir notre carte, et du coup ajoute des correspondances \n",
    "test3.extend(creation_edges_am(graphe_test3, list_test3, new_code1, new_code2))\n",
    "dessiner_graphe(graphe_test3)\n",
    "test3.extend(creation_edges_am(graphe_test3, list_test3, 'AMS', 'LAX'))\n",
    "dessiner_graphe(graphe_test3)\n",
    "\n",
    "\n",
    "#conversion(test3+test33, graphe_test3)\n",
    "# on peut recupere le nom d'une airport intermediare par appele pour utilise list_test3[nb_node]"
   ]
  },
  {
   "cell_type": "markdown",
   "metadata": {},
   "source": [
    "## AAR --> ANR "
   ]
  },
  {
   "cell_type": "code",
   "execution_count": null,
   "metadata": {},
   "outputs": [],
   "source": [
    "# test creation_edges vs creation_edges_am \n",
    "import time "
   ]
  },
  {
   "cell_type": "code",
   "execution_count": null,
   "metadata": {},
   "outputs": [],
   "source": [
    "#test creation_edges \n",
    "start1 = time.time()\n",
    "\n",
    "graph_test4_1 = nx.Graph(); \n",
    "ref_test4_1 = []\n",
    "# creer une correspondance \n",
    "test_time1 = creation_edges_am(graph_test4_1, ref_test4_1, 'AAR', 'DUS')\n",
    "test_time1.extend(creation_edges_am(graph_test4_1, ref_test4_1, 'DUS', 'ANR'))\n",
    "\n",
    "dessiner_graphe(graph_test4_1)\n",
    "\n",
    "end1 = time.time()\n",
    "print( end1 - start1)\n",
    "\n",
    "#conversion(ttt+tt, graph_test4_1)"
   ]
  },
  {
   "cell_type": "code",
   "execution_count": null,
   "metadata": {},
   "outputs": [],
   "source": [
    "#test creation_edges \n",
    "start = time.time()\n",
    "graph_test4_2 = nx.Graph(); \n",
    "ref_test4_2 = []\n",
    "\n",
    "# creer une correspondance \n",
    "test_time2 = creation_edges_orgin(graph_test4_2, ref_test4_2, 'AAR', 'DUS')\n",
    "test_time2.extend(creation_edges_orgin(graph_test4_2, ref_test4_2, 'DUS', 'ANR'))\n",
    "\n",
    "dessiner_graphe(graph_test4_2)\n",
    "\n",
    "end = time.time()\n",
    "print( end - start)\n",
    "\n",
    "#conversion(test_time2, graph_test4_2)"
   ]
  },
  {
   "cell_type": "markdown",
   "metadata": {},
   "source": [
    "### test different graphe vis"
   ]
  },
  {
   "cell_type": "code",
   "execution_count": null,
   "metadata": {},
   "outputs": [],
   "source": [
    "#pip install pyvis\n",
    "from pyvis.network import Network\n",
    "net = Network()\n",
    "\n",
    "g = net.from_nx(graphe_test3)\n",
    "net.show_buttons(filter_=['physics'])\n",
    "net.show(\"test.html\")\n"
   ]
  },
  {
   "cell_type": "markdown",
   "metadata": {},
   "source": [
    "# Dijkstra algorithme try 1 \n",
    "inspiration from https://pythonalgos.com/dijkstras-algorithm-in-5-steps-with-python/\n",
    "number node => code_airport , \n",
    "distance => ecoprint \n",
    "\n",
    "\n",
    "https://coderzcolumn.com/tutorials/data-science/network-analysis-in-python-node-importance-and-paths-networkx#4.1"
   ]
  },
  {
   "cell_type": "code",
   "execution_count": null,
   "metadata": {},
   "outputs": [],
   "source": [
    "from numpy import Inf\n",
    "import heapq"
   ]
  },
  {
   "cell_type": "code",
   "execution_count": null,
   "metadata": {},
   "outputs": [],
   "source": [
    "def lazy_dijkstras(graph, root):\n",
    "    n = len(graph)\n",
    "    # set up \"inf\" distances\n",
    "    dist = [Inf for _ in range(n)]\n",
    "    # set up root distance\n",
    "    dist[root] = 0\n",
    "    # set up visited node list\n",
    "    visited = [False for _ in range(n)]\n",
    "    # set up priority queue\n",
    "    pq = [(0, root)]\n",
    "    # while there are nodes to process\n",
    "    while len(pq) > 0:\n",
    "        # get the root, discard current distance\n",
    "        _, u = heapq.heappop(pq)\n",
    "        # if the node is visited, skip\n",
    "        if visited[u]:\n",
    "            continue\n",
    "        # set the node to visited\n",
    "        visited[u] = True\n",
    "        # check the distance and node and distance\n",
    "        for v, l in graph[u]:\n",
    "            # if the current node's distance + distance to the node we're visiting\n",
    "            # is less than the distance of the node we're visiting on file\n",
    "            # replace that distance and push the node we're visiting into the priority queue\n",
    "            if dist[u] + l < dist[v]:\n",
    "                dist[v] = dist[u] + l\n",
    "                heapq.heappush(pq, (dist[v], v))\n",
    "    return dist"
   ]
  },
  {
   "cell_type": "code",
   "execution_count": null,
   "metadata": {},
   "outputs": [],
   "source": [
    "#print(naive_dijkstras(graph,1))\n",
    "lazy_dijkstras(graph_test_nb, 0) #[0, 5, 1, 2]\n",
    "\n",
    "# cela veut dire que \n",
    "#    | AAL|LPA |DUS |LNZ|\n",
    "# AAL  0  |  5 | 1  | 2 |\n",
    "# conclusion de AAL à LNZ le plus courte chemin est 2"
   ]
  }
 ],
 "metadata": {
  "interpreter": {
   "hash": "186cdeb570711ed85187c509d68d5628274aea7de7df5beca59491276fe8c4d6"
  },
  "kernelspec": {
   "display_name": "Python 3.9.7 ('base')",
   "language": "python",
   "name": "python3"
  },
  "language_info": {
   "codemirror_mode": {
    "name": "ipython",
    "version": 3
   },
   "file_extension": ".py",
   "mimetype": "text/x-python",
   "name": "python",
   "nbconvert_exporter": "python",
   "pygments_lexer": "ipython3",
   "version": "3.9.7"
  },
  "orig_nbformat": 4
 },
 "nbformat": 4,
 "nbformat_minor": 2
}
