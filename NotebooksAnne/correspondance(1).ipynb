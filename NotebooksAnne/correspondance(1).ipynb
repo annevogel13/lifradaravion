{
 "cells": [
  {
   "cell_type": "code",
   "execution_count": 3,
   "metadata": {},
   "outputs": [],
   "source": [
    "# imports \n",
    "import pandas as pd\n",
    "import ipywidgets as widgets\n",
    "\n",
    "\n",
    "# databases \n",
    "airports_df = pd.read_csv(\"../data/aeroportsANLO.csv\")\n",
    "routes_df = pd.read_csv(\"../data/routesANLO.csv\")\n",
    "continents_df = pd.read_csv(\"../data/countries.csv\")\n",
    "\n",
    "# conversion to dict continent \n",
    "continents_dict = dict(zip(continents_df['country'], continents_df['continent'])); del continents_df\n"
   ]
  },
  {
   "cell_type": "code",
   "execution_count": 4,
   "metadata": {},
   "outputs": [],
   "source": [
    "# TODO doit etre possible plus vite \n",
    "airports_dict = dict()\n",
    "for row in airports_df[['Iata','Name','Country']].iterrows():\n",
    "    a = row[1][0]\n",
    "    b = row[1][1]\n",
    "    c = row[1][2]\n",
    "    airports_dict[a] = dict(zip(['Name','Country'], [b,c]))"
   ]
  },
  {
   "cell_type": "code",
   "execution_count": 5,
   "metadata": {},
   "outputs": [
    {
     "data": {
      "text/html": [
       "<div>\n",
       "<style scoped>\n",
       "    .dataframe tbody tr th:only-of-type {\n",
       "        vertical-align: middle;\n",
       "    }\n",
       "\n",
       "    .dataframe tbody tr th {\n",
       "        vertical-align: top;\n",
       "    }\n",
       "\n",
       "    .dataframe thead th {\n",
       "        text-align: right;\n",
       "    }\n",
       "</style>\n",
       "<table border=\"1\" class=\"dataframe\">\n",
       "  <thead>\n",
       "    <tr style=\"text-align: right;\">\n",
       "      <th></th>\n",
       "      <th>Arrivee</th>\n",
       "      <th>Num_IATA_x</th>\n",
       "      <th>Depart</th>\n",
       "      <th>Num_IATA_y</th>\n",
       "    </tr>\n",
       "  </thead>\n",
       "  <tbody>\n",
       "    <tr>\n",
       "      <th>0</th>\n",
       "      <td>CAN</td>\n",
       "      <td>AQ1028</td>\n",
       "      <td>CAN</td>\n",
       "      <td>CZ2577</td>\n",
       "    </tr>\n",
       "    <tr>\n",
       "      <th>1</th>\n",
       "      <td>CAN</td>\n",
       "      <td>AQ1028</td>\n",
       "      <td>CAN</td>\n",
       "      <td>CZ455</td>\n",
       "    </tr>\n",
       "    <tr>\n",
       "      <th>2</th>\n",
       "      <td>CAN</td>\n",
       "      <td>AQ1028</td>\n",
       "      <td>CAN</td>\n",
       "      <td>CZ307</td>\n",
       "    </tr>\n",
       "    <tr>\n",
       "      <th>3</th>\n",
       "      <td>CAN</td>\n",
       "      <td>AQ1028</td>\n",
       "      <td>CAN</td>\n",
       "      <td>CZ2573</td>\n",
       "    </tr>\n",
       "    <tr>\n",
       "      <th>4</th>\n",
       "      <td>CAN</td>\n",
       "      <td>CZ6394</td>\n",
       "      <td>CAN</td>\n",
       "      <td>CZ2577</td>\n",
       "    </tr>\n",
       "    <tr>\n",
       "      <th>...</th>\n",
       "      <td>...</td>\n",
       "      <td>...</td>\n",
       "      <td>...</td>\n",
       "      <td>...</td>\n",
       "    </tr>\n",
       "    <tr>\n",
       "      <th>121</th>\n",
       "      <td>XMN</td>\n",
       "      <td>SC8770</td>\n",
       "      <td>XMN</td>\n",
       "      <td>MF811</td>\n",
       "    </tr>\n",
       "    <tr>\n",
       "      <th>122</th>\n",
       "      <td>XMN</td>\n",
       "      <td>MF8438</td>\n",
       "      <td>XMN</td>\n",
       "      <td>MF811</td>\n",
       "    </tr>\n",
       "    <tr>\n",
       "      <th>123</th>\n",
       "      <td>XMN</td>\n",
       "      <td>GS6461</td>\n",
       "      <td>XMN</td>\n",
       "      <td>MF811</td>\n",
       "    </tr>\n",
       "    <tr>\n",
       "      <th>124</th>\n",
       "      <td>XMN</td>\n",
       "      <td>AQ1641</td>\n",
       "      <td>XMN</td>\n",
       "      <td>MF811</td>\n",
       "    </tr>\n",
       "    <tr>\n",
       "      <th>125</th>\n",
       "      <td>XMN</td>\n",
       "      <td>SC4830</td>\n",
       "      <td>XMN</td>\n",
       "      <td>MF811</td>\n",
       "    </tr>\n",
       "  </tbody>\n",
       "</table>\n",
       "<p>126 rows × 4 columns</p>\n",
       "</div>"
      ],
      "text/plain": [
       "    Arrivee Num_IATA_x Depart Num_IATA_y\n",
       "0       CAN     AQ1028    CAN     CZ2577\n",
       "1       CAN     AQ1028    CAN      CZ455\n",
       "2       CAN     AQ1028    CAN      CZ307\n",
       "3       CAN     AQ1028    CAN     CZ2573\n",
       "4       CAN     CZ6394    CAN     CZ2577\n",
       "..      ...        ...    ...        ...\n",
       "121     XMN     SC8770    XMN      MF811\n",
       "122     XMN     MF8438    XMN      MF811\n",
       "123     XMN     GS6461    XMN      MF811\n",
       "124     XMN     AQ1641    XMN      MF811\n",
       "125     XMN     SC4830    XMN      MF811\n",
       "\n",
       "[126 rows x 4 columns]"
      ]
     },
     "execution_count": 5,
     "metadata": {},
     "output_type": "execute_result"
    }
   ],
   "source": [
    "# optie 1 \n",
    "r1 = routes_df[routes_df['Depart'] == 'KWE'][['Arrivee', 'Num_IATA']]\n",
    "r2 = routes_df[routes_df['Arrivee'] == 'AMS'][['Depart', 'Num_IATA']]\n",
    "pd.merge(r1, r2,left_on = 'Arrivee', right_on = 'Depart')"
   ]
  },
  {
   "cell_type": "code",
   "execution_count": 6,
   "metadata": {},
   "outputs": [
    {
     "data": {
      "text/plain": [
       "['PVG', 'XMN', 'PEK', 'CAN', 'NKG']"
      ]
     },
     "execution_count": 6,
     "metadata": {},
     "output_type": "execute_result"
    }
   ],
   "source": [
    "# optie 2\n",
    "def correspondance_1airport_int(code1 : str, code2 : str):\n",
    "    r1 = routes_df[routes_df['Depart'] == code1]['Arrivee'].to_list()\n",
    "    r2 = routes_df[routes_df['Arrivee'] == code2]['Depart'].to_list()\n",
    "\n",
    "    return list(set(r1).intersection(r2))\n",
    "\n",
    "correspondance_1airport_int('KWE', 'AMS') # ['PVG', 'XMN', 'NKG', 'CAN', 'PEK']"
   ]
  },
  {
   "cell_type": "code",
   "execution_count": 7,
   "metadata": {},
   "outputs": [
    {
     "data": {
      "text/plain": [
       "['LPA', 'DUS']"
      ]
     },
     "execution_count": 7,
     "metadata": {},
     "output_type": "execute_result"
    }
   ],
   "source": [
    "# start1 \n",
    "len(routes_df[routes_df['Depart'] == 'AAL']['Arrivee'].to_list()) # 44 \n",
    "\n",
    "# end1 \n",
    "len(routes_df[routes_df['Depart'] == 'LNZ']['Arrivee'].to_list()) # 12\n",
    "\n",
    "correspondance_1airport_int('AAL', 'LNZ')"
   ]
  },
  {
   "cell_type": "code",
   "execution_count": 8,
   "metadata": {},
   "outputs": [],
   "source": [
    "ll = ['AAL', 'LPA', 'DUS', 'LNZ']\n",
    "\n",
    "graph_test_nb = {\n",
    "    0: [(1, 5), (2, 1)],\n",
    "    1: [(0, 5), (3, 2)],\n",
    "    2: [(0, 1), (3, 1)],\n",
    "    3: [(1, 4), (2, 1)],\n",
    "    \n",
    "}\n",
    "\n",
    "graph_test_names = {\n",
    "    'AAL': [('LPA', 5), ('DUS', 1)],\n",
    "    'LPA': [('AAL', 5), ('LNZ', 2)],\n",
    "    'DUS': [('AAL', 1), ('LNZ', 1)],\n",
    "    'LNZ': [('LPA', 4), ('DUS', 1)],   \n",
    "}"
   ]
  },
  {
   "cell_type": "code",
   "execution_count": 61,
   "metadata": {},
   "outputs": [],
   "source": [
    "# creating edges \n",
    "def creation_edges(graph : dict): \n",
    "    '''\n",
    "    function qui crée des edges pour le graphe \n",
    "    retour list des tuples (start, end, weight)\n",
    "    '''\n",
    "    edges = []\n",
    "\n",
    "    for i in range(0,4) : \n",
    "        #print(graph_test_nb[i])\n",
    "        for j in range (0, len(graph[i])):\n",
    "            edges.append((i, graph[i][j][0], graph[i][j][1]))\n",
    "    return edges         \n",
    "\n",
    "e = creation_edges(graph_test_nb)\n"
   ]
  },
  {
   "cell_type": "code",
   "execution_count": 13,
   "metadata": {},
   "outputs": [],
   "source": [
    "import networkx as nx\n",
    "import matplotlib.pyplot as plt"
   ]
  },
  {
   "cell_type": "code",
   "execution_count": 62,
   "metadata": {},
   "outputs": [
    {
     "data": {
      "image/png": "[encoded data removed]",
      "text/plain": [
       "<Figure size 432x288 with 1 Axes>"
      ]
     },
     "metadata": {},
     "output_type": "display_data"
    }
   ],
   "source": [
    "G = nx.Graph()\n",
    "\n",
    "G.add_weighted_edges_from(e)\n",
    "#circular_layout , spring_layout\n",
    "pos = nx.spring_layout(G)\n",
    "nx.draw_networkx_nodes(G, pos, node_size = 500)\n",
    "nx.draw_networkx_edges(G,pos, edgelist= G.edges(), edge_color='black')\n",
    "nx.draw_networkx_labels(G, pos)\n",
    "nx.draw_networkx_edge_labels(G, pos)\n",
    "\n",
    "plt.show()"
   ]
  },
  {
   "cell_type": "markdown",
   "metadata": {},
   "source": [
    "## Dijkstra algorithme try 1 \n",
    "inspiration from https://pythonalgos.com/dijkstras-algorithm-in-5-steps-with-python/\n",
    "number node => code_airport , \n",
    "distance => ecoprint "
   ]
  },
  {
   "cell_type": "code",
   "execution_count": null,
   "metadata": {},
   "outputs": [],
   "source": [
    "from numpy import Inf"
   ]
  },
  {
   "cell_type": "code",
   "execution_count": null,
   "metadata": {},
   "outputs": [],
   "source": [
    "import heapq"
   ]
  },
  {
   "cell_type": "code",
   "execution_count": null,
   "metadata": {},
   "outputs": [],
   "source": [
    "def lazy_dijkstras(graph, root):\n",
    "    n = len(graph)\n",
    "    # set up \"inf\" distances\n",
    "    dist = [Inf for _ in range(n)]\n",
    "    # set up root distance\n",
    "    dist[root] = 0\n",
    "    # set up visited node list\n",
    "    visited = [False for _ in range(n)]\n",
    "    # set up priority queue\n",
    "    pq = [(0, root)]\n",
    "    # while there are nodes to process\n",
    "    while len(pq) > 0:\n",
    "        # get the root, discard current distance\n",
    "        _, u = heapq.heappop(pq)\n",
    "        # if the node is visited, skip\n",
    "        if visited[u]:\n",
    "            continue\n",
    "        # set the node to visited\n",
    "        visited[u] = True\n",
    "        # check the distance and node and distance\n",
    "        for v, l in graph[u]:\n",
    "            # if the current node's distance + distance to the node we're visiting\n",
    "            # is less than the distance of the node we're visiting on file\n",
    "            # replace that distance and push the node we're visiting into the priority queue\n",
    "            if dist[u] + l < dist[v]:\n",
    "                dist[v] = dist[u] + l\n",
    "                heapq.heappush(pq, (dist[v], v))\n",
    "    return dist"
   ]
  },
  {
   "cell_type": "code",
   "execution_count": null,
   "metadata": {},
   "outputs": [
    {
     "name": "stdout",
     "output_type": "stream",
     "text": [
      "inf\n"
     ]
    },
    {
     "data": {
      "text/plain": [
       "[0, 5, 1, 2]"
      ]
     },
     "execution_count": 141,
     "metadata": {},
     "output_type": "execute_result"
    }
   ],
   "source": [
    "#print(naive_dijkstras(graph,1))\n",
    "lazy_dijkstras(graph_test_nb, 0) #[0, 5, 1, 2]\n",
    "\n",
    "# cela veut dire que \n",
    "#    | AAL|LPA |DUS |LNZ|\n",
    "# AAL  0  |  5 | 1  | 2 |\n",
    "# conclusion de AAL à LNZ le plus courte chemin est 2"
   ]
  }
 ],
 "metadata": {
  "interpreter": {
   "hash": "186cdeb570711ed85187c509d68d5628274aea7de7df5beca59491276fe8c4d6"
  },
  "kernelspec": {
   "display_name": "Python 3.9.7 ('base')",
   "language": "python",
   "name": "python3"
  },
  "language_info": {
   "codemirror_mode": {
    "name": "ipython",
    "version": 3
   },
   "file_extension": ".py",
   "mimetype": "text/x-python",
   "name": "python",
   "nbconvert_exporter": "python",
   "pygments_lexer": "ipython3",
   "version": "3.9.7"
  },
  "orig_nbformat": 4
 },
 "nbformat": 4,
 "nbformat_minor": 2
}
