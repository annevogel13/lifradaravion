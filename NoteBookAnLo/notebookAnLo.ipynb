{
 "cells": [
  {
   "cell_type": "code",
   "execution_count": null,
   "metadata": {},
   "outputs": [],
   "source": [
    "import pandas as pd\n",
    "import numpy as np\n",
    "import csv\n",
    "import math\n",
    "\n",
    "\n",
    "#Widget\n",
    "import ipywidgets as widgets\n",
    "from IPython.display import display\n",
    "\n",
    "#Map interactive\n",
    "import folium as f\n",
    "from folium.plugins import MarkerCluster\n",
    "\n",
    "#Map pour connection\n",
    "import matplotlib.pyplot as plt\n",
    "%matplotlib inline\n",
    "from mpl_toolkits.basemap import Basemap\n",
    "\n",
    "#Calcul great circle\n",
    "import pyproj\n",
    "\n",
    "\n",
    "#import os\n",
    "#import flightradar24"
   ]
  },
  {
   "cell_type": "markdown",
   "metadata": {},
   "source": [
    "## Regles de codage \n"
   ]
  },
  {
   "cell_type": "code",
   "execution_count": null,
   "metadata": {},
   "outputs": [],
   "source": [
    "'''\n",
    "type_nom_variable\n",
    "nomFonction(nom_variable : type) \n",
    "\\'''\n",
    "    description\n",
    "    retour :  avec un exemple de forme \n",
    "\\'''\n",
    "\n",
    "aeroport ipv airports \n",
    "vol --> routesANLO --> df_vols\n",
    "routes --> dict_routes \n",
    "\n",
    "'''"
   ]
  },
  {
   "cell_type": "code",
   "execution_count": null,
   "metadata": {},
   "outputs": [],
   "source": [
    "chemin=\"../data/\"\n",
    "\n",
    "df_aeroports = pd.read_csv(chemin + \"aeroportsANLO.csv\")\n",
    "df_zones = pd.read_csv(chemin + \"zonesANLO.csv\")\n",
    "df_vols = pd.read_csv(chemin + \"routesANLO.csv\")\n",
    "df_compagnies = pd.read_csv(chemin + \"compagniesANLO.csv\")"
   ]
  },
  {
   "cell_type": "code",
   "execution_count": null,
   "metadata": {},
   "outputs": [],
   "source": [
    "dict_compagnies = {}\n",
    "\n",
    "with open(chemin+'compagniesANLO.csv', mode='r') as inp:\n",
    "    reader = csv.reader(inp)\n",
    "    dict_compagnies = {rows[2]:rows[0] for rows in reader}\n",
    "\n",
    "dict_compagnies"
   ]
  },
  {
   "cell_type": "code",
   "execution_count": null,
   "metadata": {},
   "outputs": [],
   "source": [
    "dict_aeroports = {}\n",
    "\n",
    "with open(chemin+'aeroportsANLO.csv', mode='r') as inp:\n",
    "    reader = csv.reader(inp)\n",
    "    headers = next(reader, None)\n",
    "    dict_aeroports = {rows[1]:dict(zip(headers,rows[0:8])) for rows in reader}\n",
    "\n",
    "dict_aeroports['CDG']"
   ]
  },
  {
   "cell_type": "code",
   "execution_count": null,
   "metadata": {},
   "outputs": [],
   "source": [
    "dict_pays = {}\n",
    "\n",
    "with open(chemin+'countries.csv', mode='r') as inp:\n",
    "    reader = csv.reader(inp)\n",
    "    headers = next(reader, None)\n",
    "    dict_pays = {rows[1]:rows[0] for rows in reader}\n",
    "\n",
    "dict_pays"
   ]
  },
  {
   "cell_type": "code",
   "execution_count": null,
   "metadata": {},
   "outputs": [],
   "source": [
    "df_vols = df_vols[[\"Depart\",\"Arrivee\",\"Code_ICAO\"]].dropna()"
   ]
  },
  {
   "cell_type": "code",
   "execution_count": null,
   "metadata": {},
   "outputs": [],
   "source": [
    "#Nettoyage de la df_vols\n",
    "for _, ligne in df_vols.iterrows():\n",
    "    if not(ligne.Depart in dict_aeroports):\n",
    "        df_vols.drop(df_vols[df_vols['Depart'] == ligne.Depart].index, inplace=True)\n",
    "    \n",
    "    if not(ligne.Arrivee in dict_aeroports):\n",
    "        df_vols.drop(df_vols[df_vols['Arrivee'] == ligne.Arrivee].index, inplace=True)"
   ]
  },
  {
   "cell_type": "code",
   "execution_count": null,
   "metadata": {},
   "outputs": [],
   "source": [
    "def coordDepuisAeroport(iata : str):\n",
    "    '''\n",
    "    Fonction : Recherche les coordonnées GPS d'un aéroport\n",
    "    Retour : lat : float ,lon : float --> Latitude & longitude de l'aéroport\n",
    "    '''\n",
    "    lat = float(dict_aeroports[iata]['Lat'])\n",
    "    lon = float(dict_aeroports[iata]['Lon'])\n",
    "    return lat,lon"
   ]
  },
  {
   "cell_type": "code",
   "execution_count": null,
   "metadata": {},
   "outputs": [],
   "source": [
    "def filtreDictAeroports(colonne : str, valeur : str):\n",
    "    '''\n",
    "    Fonction : Filtre les clés du dictionnaire en fonction d'une valeur \n",
    "    présente dans les valeurs associées.\n",
    "    Return : Liste de code ICAO des aéroports\n",
    "    '''\n",
    "    Listtmp = []\n",
    "    for (key, value) in dict_aeroports.items():\n",
    "        if value[colonne] == valeur:\n",
    "            Listtmp.append(key)\n",
    "    return Listtmp\n",
    "\n",
    "def filtreDictCompagnies(valeur : str):\n",
    "    '''\n",
    "    Fonction : Filtre les clés du dictionnaire en fonction d'une valeur \n",
    "    présente dans les valeurs associées.\n",
    "    Return : Liste de code ICAO des compagnies\n",
    "    '''\n",
    "    Listtmp = []\n",
    "    for (key, value) in dict_compagnies.items():\n",
    "        if value == valeur:\n",
    "            Listtmp.append(key)\n",
    "            break\n",
    "    return Listtmp"
   ]
  }
 ],
 "metadata": {
  "interpreter": {
   "hash": "186cdeb570711ed85187c509d68d5628274aea7de7df5beca59491276fe8c4d6"
  },
  "kernelspec": {
   "display_name": "Python 3.9.7 ('base')",
   "language": "python",
   "name": "python3"
  },
  "language_info": {
   "codemirror_mode": {
    "name": "ipython",
    "version": 3
   },
   "file_extension": ".py",
   "mimetype": "text/x-python",
   "name": "python",
   "nbconvert_exporter": "python",
   "pygments_lexer": "ipython3",
   "version": "3.9.7"
  },
  "orig_nbformat": 4
 },
 "nbformat": 4,
 "nbformat_minor": 2
}
