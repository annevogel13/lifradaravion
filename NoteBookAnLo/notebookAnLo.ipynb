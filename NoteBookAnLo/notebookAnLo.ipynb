{
 "cells": [
  {
   "cell_type": "code",
   "execution_count": 5,
   "metadata": {},
   "outputs": [],
   "source": [
    "# pip install networkx \n",
    "# pip install pyproj\n",
    "\n",
    "import pandas as pd\n",
    "import numpy as np\n",
    "import csv\n",
    "import math\n",
    "import networkx as nx \n",
    "\n",
    "#Widget\n",
    "import ipywidgets as widgets\n",
    "from IPython.display import display\n",
    "\n",
    "#Map interactive\n",
    "import folium as f\n",
    "from folium.plugins import MarkerCluster\n",
    "\n",
    "#Map pour connection\n",
    "import matplotlib.pyplot as plt\n",
    "%matplotlib inline\n",
    "\n",
    "#Calcul great circle\n",
    "import pyproj\n",
    "\n",
    "\n",
    "#import os\n",
    "#import flightradar24"
   ]
  },
  {
   "cell_type": "markdown",
   "metadata": {},
   "source": [
    "## Regles de codage \n"
   ]
  },
  {
   "cell_type": "code",
   "execution_count": null,
   "metadata": {},
   "outputs": [],
   "source": [
    "'''\n",
    "type_nom_variable\n",
    "nomFonction(nom_variable : type) \n",
    "\\'''\n",
    "    description\n",
    "    retour :  avec un exemple de forme \n",
    "\\'''\n",
    "\n",
    "aeroport ipv airports \n",
    "vol --> routesANLO --> df_vols\n",
    "routes --> dict_routes \n",
    "\n",
    "'''"
   ]
  },
  {
   "cell_type": "markdown",
   "metadata": {},
   "source": [
    "## Importation des données"
   ]
  },
  {
   "cell_type": "code",
   "execution_count": null,
   "metadata": {},
   "outputs": [],
   "source": [
    "chemin=\"../data/\"\n",
    "\n",
    "#df_aeroports = pd.read_csv(chemin + \"aeroportsANLO.csv\")\n",
    "#df_zones = pd.read_csv(chemin + \"zonesANLO.csv\")\n",
    "df_vols = pd.read_csv(chemin + \"routesANLO.csv\")\n",
    "#df_compagnies = pd.read_csv(chemin + \"compagniesANLO.csv\")"
   ]
  },
  {
   "cell_type": "code",
   "execution_count": null,
   "metadata": {},
   "outputs": [],
   "source": [
    "dict_compagnies = {}\n",
    "\n",
    "with open(chemin+'compagniesANLO.csv', mode='r') as inp:\n",
    "    reader = csv.reader(inp)\n",
    "    next(reader, None)\n",
    "    headers = ['Name','Country']\n",
    "    dict_compagnies = {rows[2]:dict(zip(headers,[rows[0],rows[3]])) for rows in reader}\n",
    "\n",
    "dict_compagnies"
   ]
  },
  {
   "cell_type": "code",
   "execution_count": null,
   "metadata": {},
   "outputs": [],
   "source": [
    "dict_aeroports = {}\n",
    "\n",
    "with open(chemin+'aeroportsANLO.csv', mode='r') as inp:\n",
    "    reader = csv.reader(inp)\n",
    "    headers = next(reader, None)\n",
    "    dict_aeroports = {rows[1]:dict(zip(headers,rows[0:8])) for rows in reader}\n",
    "\n",
    "dict_aeroports['CDG']"
   ]
  },
  {
   "cell_type": "code",
   "execution_count": null,
   "metadata": {},
   "outputs": [],
   "source": [
    "dict_pays = {}\n",
    "\n",
    "with open(chemin+'countries.csv', mode='r') as inp:\n",
    "    reader = csv.reader(inp)\n",
    "    headers = next(reader, None)\n",
    "    dict_pays = {rows[1]:rows[0] for rows in reader}\n",
    "\n",
    "dict_pays"
   ]
  },
  {
   "cell_type": "code",
   "execution_count": null,
   "metadata": {},
   "outputs": [],
   "source": [
    "df_vols = df_vols[[\"Depart\",\"Arrivee\",\"Code_ICAO\"]].dropna()"
   ]
  },
  {
   "cell_type": "code",
   "execution_count": null,
   "metadata": {},
   "outputs": [],
   "source": [
    "#Nettoyage de la df_vols\n",
    "for _, ligne in df_vols.iterrows():\n",
    "    if not(ligne.Depart in dict_aeroports):\n",
    "        df_vols.drop(df_vols[df_vols['Depart'] == ligne.Depart].index, inplace=True)\n",
    "    \n",
    "    if not(ligne.Arrivee in dict_aeroports):\n",
    "        df_vols.drop(df_vols[df_vols['Arrivee'] == ligne.Arrivee].index, inplace=True)"
   ]
  },
  {
   "cell_type": "code",
   "execution_count": null,
   "metadata": {},
   "outputs": [],
   "source": [
    "def coordDepuisAeroport(iata : str):\n",
    "    '''\n",
    "    Fonction : Recherche les coordonnées GPS d'un aéroport\n",
    "    Retour : lat : float ,lon : float --> Latitude & longitude de l'aéroport\n",
    "    '''\n",
    "    lat = float(dict_aeroports[iata]['Lat'])\n",
    "    lon = float(dict_aeroports[iata]['Lon'])\n",
    "    return lat,lon\n",
    "\n",
    "def DistGrandCercle(lat1 : float, lon1 : float, lat2 : float, lon2 : float):\n",
    "    #Conversion en radian\n",
    "    lat1, lon1, lat2, lon2 = map(math.radians, [lat1, lon1, lat2, lon2])\n",
    "\n",
    "    #Delta des coordonnées\n",
    "    dlat = lat2 - lat1\n",
    "    dlon = lon2 - lon1\n",
    "\n",
    "    #Rayon terrestre (en km)\n",
    "    r = 6367.0\n",
    "\n",
    "    #Formule d'Haversine\n",
    "    a = math.sin(dlat/2)**2 + math.cos(lat1) * math.cos(lat2) * math.sin(dlon/2)**2\n",
    "    return 2 * r * math.asin(math.sqrt(a))\n",
    "\n",
    "\n",
    "def DistGrandCercleICAO(icao1 : str, icao2 : str):\n",
    "    #Récupération des coordonnées des aéroports\n",
    "    latDep, lonDep = coordDepuisAeroport(icao1)\n",
    "    latArr, lonArr = coordDepuisAeroport(icao2)\n",
    "\n",
    "    #On calcule la distance les séparant\n",
    "    return DistGrandCercle(latDep,lonDep,latArr,lonArr)"
   ]
  },
  {
   "cell_type": "code",
   "execution_count": null,
   "metadata": {},
   "outputs": [],
   "source": [
    "dict_route = {}\n",
    "\n",
    "g = df_vols.groupby(['Depart','Arrivee'])\n",
    "taille_groupe = g.size().items()\n",
    "\n",
    "for liaison, nbrVols in taille_groupe:\n",
    "    #Si la liaison est déjà dans le dict, on incrémente le nbr de vols\n",
    "    if(frozenset(liaison) in dict_route):\n",
    "        dict_route[frozenset(liaison)]['Vols'] += nbrVols\n",
    "    #Sinon, on crée une nouvelle liaison\n",
    "    else:\n",
    "        dict_route[frozenset(liaison)] = {'Dist' : DistGrandCercleICAO(liaison[0],liaison[1]), 'Vols' : nbrVols}\n",
    "\n",
    "#Exemple :\n",
    "dict_route[frozenset(('CDG','SIN'))]"
   ]
  },
  {
   "cell_type": "code",
   "execution_count": null,
   "metadata": {},
   "outputs": [],
   "source": [
    "def filtreDictAeroports(colonne : str, valeur : str):\n",
    "    '''\n",
    "    Fonction : Filtre les clés du dictionnaire en fonction d'une valeur \n",
    "    présente dans les valeurs associées.\n",
    "    Return : Liste de code ICAO des aéroports\n",
    "    '''\n",
    "    Listtmp = []\n",
    "    for (key, value) in dict_aeroports.items():\n",
    "        if value[colonne] == valeur:\n",
    "            Listtmp.append(key)\n",
    "    return Listtmp\n",
    "\n",
    "def filtreDictCompagnies(colonne : str, valeur : str):\n",
    "    '''\n",
    "    Fonction : Filtre les clés du dictionnaire en fonction d'une valeur \n",
    "    présente dans les valeurs associées.\n",
    "    Return : Liste de code ICAO des compagnies\n",
    "    '''\n",
    "    Listtmp = []\n",
    "    for (key, value) in dict_compagnies .items():\n",
    "        if value[colonne] == valeur:\n",
    "            Listtmp.append(key)\n",
    "    return Listtmp"
   ]
  }
 ],
 "metadata": {
  "interpreter": {
   "hash": "186cdeb570711ed85187c509d68d5628274aea7de7df5beca59491276fe8c4d6"
  },
  "kernelspec": {
   "display_name": "Python 3.9.7 ('base')",
   "language": "python",
   "name": "python3"
  },
  "language_info": {
   "codemirror_mode": {
    "name": "ipython",
    "version": 3
   },
   "file_extension": ".py",
   "mimetype": "text/x-python",
   "name": "python",
   "nbconvert_exporter": "python",
   "pygments_lexer": "ipython3",
   "version": "3.9.7"
  },
  "orig_nbformat": 4
 },
 "nbformat": 4,
 "nbformat_minor": 2
}
