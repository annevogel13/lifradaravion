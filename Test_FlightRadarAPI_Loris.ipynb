{
  "cells": [
    {
      "cell_type": "code",
      "execution_count": 16,
      "metadata": {
        "id": "aPI4pXVs9Ko0"
      },
      "outputs": [],
      "source": [
        "import pandas as pd"
      ]
    },
    {
      "cell_type": "code",
      "execution_count": 17,
      "metadata": {
        "colab": {
          "base_uri": "https://localhost:8080/"
        },
        "id": "gAnO8Abw9UFC",
        "outputId": "6677fef0-26fb-42cd-b245-be619d5ba559"
      },
      "outputs": [
        {
          "name": "stdout",
          "output_type": "stream",
          "text": [
            "Requirement already satisfied: FLightRadarAPI in c:\\users\\merel\\anaconda3\\lib\\site-packages (1.1.8)Note: you may need to restart the kernel to use updated packages.\n",
            "\n",
            "Requirement already satisfied: Brotli in c:\\users\\merel\\anaconda3\\lib\\site-packages (from FLightRadarAPI) (1.0.9)\n",
            "Requirement already satisfied: requests in c:\\users\\merel\\anaconda3\\lib\\site-packages (from FLightRadarAPI) (2.26.0)\n",
            "Requirement already satisfied: charset-normalizer~=2.0.0 in c:\\users\\merel\\anaconda3\\lib\\site-packages (from requests->FLightRadarAPI) (2.0.4)\n",
            "Requirement already satisfied: certifi>=2017.4.17 in c:\\users\\merel\\anaconda3\\lib\\site-packages (from requests->FLightRadarAPI) (2021.10.8)\n",
            "Requirement already satisfied: idna<4,>=2.5 in c:\\users\\merel\\anaconda3\\lib\\site-packages (from requests->FLightRadarAPI) (3.2)\n",
            "Requirement already satisfied: urllib3<1.27,>=1.21.1 in c:\\users\\merel\\anaconda3\\lib\\site-packages (from requests->FLightRadarAPI) (1.26.7)\n"
          ]
        }
      ],
      "source": [
        "#pip install FLightRadarAPI"
      ]
    },
    {
      "cell_type": "code",
      "execution_count": 26,
      "metadata": {
        "id": "C2vtD6Ds9YIk"
      },
      "outputs": [
        {
          "ename": "ModuleNotFoundError",
          "evalue": "No module named 'FlightRadar24'",
          "output_type": "error",
          "traceback": [
            "\u001b[1;31m---------------------------------------------------------------------------\u001b[0m",
            "\u001b[1;31mModuleNotFoundError\u001b[0m                       Traceback (most recent call last)",
            "\u001b[1;32m~\\AppData\\Local\\Temp/ipykernel_25420/3454052940.py\u001b[0m in \u001b[0;36m<module>\u001b[1;34m\u001b[0m\n\u001b[1;32m----> 1\u001b[1;33m \u001b[1;32mfrom\u001b[0m \u001b[0mFlightRadar24\u001b[0m\u001b[1;33m.\u001b[0m\u001b[0mapi\u001b[0m \u001b[1;32mimport\u001b[0m \u001b[0mFLightRadarAPI\u001b[0m\u001b[1;33m\u001b[0m\u001b[1;33m\u001b[0m\u001b[0m\n\u001b[0m\u001b[0;32m      2\u001b[0m \u001b[0mfr_api\u001b[0m \u001b[1;33m=\u001b[0m \u001b[0mFlightRadar24API\u001b[0m\u001b[1;33m(\u001b[0m\u001b[1;33m)\u001b[0m\u001b[1;33m\u001b[0m\u001b[1;33m\u001b[0m\u001b[0m\n",
            "\u001b[1;31mModuleNotFoundError\u001b[0m: No module named 'FlightRadar24'"
          ]
        }
      ],
      "source": [
        "from FlightRadar24.api import FLightRadarAPI\n",
        "fr_api = FlightRadar24API()"
      ]
    },
    {
      "cell_type": "code",
      "execution_count": null,
      "metadata": {
        "colab": {
          "base_uri": "https://localhost:8080/"
        },
        "id": "2Fc0apHGQMzP",
        "outputId": "3e856333-f513-4d09-a1e4-6e05a2894b06"
      },
      "outputs": [],
      "source": [
        "#Airport\n",
        "airports = fr_api.get_airports()\n",
        "airports\n",
        "len(airports)"
      ]
    },
    {
      "cell_type": "code",
      "execution_count": null,
      "metadata": {
        "colab": {
          "base_uri": "https://localhost:8080/"
        },
        "id": "T8L5Qr8vQlZ-",
        "outputId": "4f15db4a-d828-4a85-f070-da3c45ee3c7e"
      },
      "outputs": [],
      "source": [
        "airlines = fr_api.get_airlines()\n",
        "len(airlines)"
      ]
    },
    {
      "cell_type": "code",
      "execution_count": null,
      "metadata": {
        "colab": {
          "base_uri": "https://localhost:8080/"
        },
        "id": "BkSmZHfc-HGN",
        "outputId": "e31fe0e0-d8b6-448f-872a-823bfd682386"
      },
      "outputs": [],
      "source": [
        "#Obtention des vols\n",
        "flights = fr_api.get_flights()\n",
        "flights"
      ]
    },
    {
      "cell_type": "code",
      "execution_count": null,
      "metadata": {
        "id": "W6MwXKCO_DsK"
      },
      "outputs": [],
      "source": [
        "#Zone de vol (coordonnées (x1,y1), (x2,y2) formant un rectangle encadrant le pays )\n",
        "zones = fr_api.get_zones()\n",
        "zones"
      ]
    },
    {
      "cell_type": "code",
      "execution_count": null,
      "metadata": {
        "colab": {
          "base_uri": "https://localhost:8080/",
          "height": 250
        },
        "id": "eSIkitAb_YI0",
        "outputId": "60ca436f-e470-48b7-a009-eeea5d2fd1ad"
      },
      "outputs": [],
      "source": [
        "df_zones = pd.DataFrame(zones)\n",
        "df_zones"
      ]
    },
    {
      "cell_type": "code",
      "execution_count": null,
      "metadata": {
        "colab": {
          "base_uri": "https://localhost:8080/"
        },
        "id": "ReuJcfOmDd9k",
        "outputId": "9955ce4d-25f1-458a-d338-327062294b13"
      },
      "outputs": [],
      "source": [
        "#Selection des vols AFR (air france) situé dans la zone \"75.0,3.0,-180,-52.0\" (=Amérique du nord)\n",
        "airline_icao = \"AFR\"\n",
        "airline_bounds = \"75.0,3.0,-180,-52.0\"\n",
        "airFrance = fr_api.get_flights(airline = airline_icao, bounds=airline_bounds)\n",
        "airFrance"
      ]
    },
    {
      "cell_type": "code",
      "execution_count": null,
      "metadata": {
        "colab": {
          "base_uri": "https://localhost:8080/"
        },
        "id": "3QlUaavKFpB4",
        "outputId": "3722e0fc-b175-4d9f-b9a0-d3923630c34e"
      },
      "outputs": [],
      "source": [
        "#Nbr de vol trouvé ci-dessus\n",
        "len(airFrance)"
      ]
    },
    {
      "cell_type": "code",
      "execution_count": null,
      "metadata": {
        "colab": {
          "base_uri": "https://localhost:8080/",
          "height": 294
        },
        "id": "BuLunF-ySlvD",
        "outputId": "6cdd5ea1-dcc4-4f13-f428-59453744681e"
      },
      "outputs": [],
      "source": [
        "test = fr_api.get_flight_details('TK1')"
      ]
    },
    {
      "cell_type": "code",
      "execution_count": 24,
      "metadata": {
        "colab": {
          "base_uri": "https://localhost:8080/"
        },
        "id": "1efMDBqoL7-Z",
        "outputId": "d65997f1-e4e0-470b-8053-31a0e18611ff"
      },
      "outputs": [
        {
          "name": "stdout",
          "output_type": "stream",
          "text": [
            "Requirement already satisfied: flightradar24 in c:\\users\\merel\\anaconda3\\lib\\site-packages (0.3.1)\n",
            "Requirement already satisfied: requests in c:\\users\\merel\\anaconda3\\lib\\site-packages (from flightradar24) (2.26.0)\n",
            "Requirement already satisfied: certifi>=2017.4.17 in c:\\users\\merel\\anaconda3\\lib\\site-packages (from requests->flightradar24) (2021.10.8)\n",
            "Requirement already satisfied: charset-normalizer~=2.0.0 in c:\\users\\merel\\anaconda3\\lib\\site-packages (from requests->flightradar24) (2.0.4)\n",
            "Requirement already satisfied: idna<4,>=2.5 in c:\\users\\merel\\anaconda3\\lib\\site-packages (from requests->flightradar24) (3.2)\n",
            "Requirement already satisfied: urllib3<1.27,>=1.21.1 in c:\\users\\merel\\anaconda3\\lib\\site-packages (from requests->flightradar24) (1.26.7)\n",
            "Note: you may need to restart the kernel to use updated packages.\n"
          ]
        }
      ],
      "source": [
        "#pip install flightradar24"
      ]
    },
    {
      "cell_type": "code",
      "execution_count": 19,
      "metadata": {
        "id": "-biZUZngS_Zv"
      },
      "outputs": [],
      "source": [
        "import flightradar24"
      ]
    },
    {
      "cell_type": "code",
      "execution_count": 27,
      "metadata": {
        "id": "r6AP9lZ_L--j"
      },
      "outputs": [
        {
          "ename": "AttributeError",
          "evalue": "module 'flightradar24' has no attribute 'Api'",
          "output_type": "error",
          "traceback": [
            "\u001b[1;31m---------------------------------------------------------------------------\u001b[0m",
            "\u001b[1;31mAttributeError\u001b[0m                            Traceback (most recent call last)",
            "\u001b[1;32m~\\AppData\\Local\\Temp/ipykernel_25420/716864022.py\u001b[0m in \u001b[0;36m<module>\u001b[1;34m\u001b[0m\n\u001b[0;32m      1\u001b[0m \u001b[0mflight_id\u001b[0m \u001b[1;33m=\u001b[0m \u001b[1;34m'TK1'\u001b[0m \u001b[1;31m# Turkish Airlines' Istanbul - New York flight\u001b[0m\u001b[1;33m\u001b[0m\u001b[1;33m\u001b[0m\u001b[0m\n\u001b[0;32m      2\u001b[0m \u001b[1;33m\u001b[0m\u001b[0m\n\u001b[1;32m----> 3\u001b[1;33m \u001b[0mfr\u001b[0m \u001b[1;33m=\u001b[0m \u001b[0mflightradar24\u001b[0m\u001b[1;33m.\u001b[0m\u001b[0mApi\u001b[0m\u001b[1;33m(\u001b[0m\u001b[1;33m)\u001b[0m\u001b[1;33m\u001b[0m\u001b[1;33m\u001b[0m\u001b[0m\n\u001b[0m\u001b[0;32m      4\u001b[0m \u001b[0mflight\u001b[0m \u001b[1;33m=\u001b[0m \u001b[0mfr\u001b[0m\u001b[1;33m.\u001b[0m\u001b[0mget_flight\u001b[0m\u001b[1;33m(\u001b[0m\u001b[0mflight_id\u001b[0m\u001b[1;33m)\u001b[0m\u001b[1;33m\u001b[0m\u001b[1;33m\u001b[0m\u001b[0m\n\u001b[0;32m      5\u001b[0m \u001b[0mflight\u001b[0m\u001b[1;33m\u001b[0m\u001b[1;33m\u001b[0m\u001b[0m\n",
            "\u001b[1;31mAttributeError\u001b[0m: module 'flightradar24' has no attribute 'Api'"
          ]
        }
      ],
      "source": [
        "flight_id = 'TK1' # Turkish Airlines' Istanbul - New York flight\n",
        "\n",
        "fr = flightradar24.Api()\n",
        "flight = fr.get_flight(flight_id)\n",
        "flight"
      ]
    },
    {
      "cell_type": "code",
      "execution_count": null,
      "metadata": {
        "id": "PweDIiTJQ_-u"
      },
      "outputs": [],
      "source": [
        "flight = fr.get_flights('AFR')\n",
        "flight"
      ]
    },
    {
      "cell_type": "markdown",
      "metadata": {
        "id": "lSONRQPUV4mv"
      },
      "source": [
        "Tableau de compagnie"
      ]
    },
    {
      "cell_type": "code",
      "execution_count": 28,
      "metadata": {
        "id": "_DXWjxbySz1P"
      },
      "outputs": [
        {
          "ename": "AttributeError",
          "evalue": "module 'flightradar24' has no attribute 'Api'",
          "output_type": "error",
          "traceback": [
            "\u001b[1;31m---------------------------------------------------------------------------\u001b[0m",
            "\u001b[1;31mAttributeError\u001b[0m                            Traceback (most recent call last)",
            "\u001b[1;32m~\\AppData\\Local\\Temp/ipykernel_25420/3299970802.py\u001b[0m in \u001b[0;36m<module>\u001b[1;34m\u001b[0m\n\u001b[1;32m----> 1\u001b[1;33m \u001b[0mfr\u001b[0m \u001b[1;33m=\u001b[0m \u001b[0mflightradar24\u001b[0m\u001b[1;33m.\u001b[0m\u001b[0mApi\u001b[0m\u001b[1;33m(\u001b[0m\u001b[1;33m)\u001b[0m\u001b[1;33m\u001b[0m\u001b[1;33m\u001b[0m\u001b[0m\n\u001b[0m\u001b[0;32m      2\u001b[0m \u001b[0mairlines\u001b[0m \u001b[1;33m=\u001b[0m \u001b[0mfr\u001b[0m\u001b[1;33m.\u001b[0m\u001b[0mget_airlines\u001b[0m\u001b[1;33m(\u001b[0m\u001b[1;33m)\u001b[0m\u001b[1;33m\u001b[0m\u001b[1;33m\u001b[0m\u001b[0m\n",
            "\u001b[1;31mAttributeError\u001b[0m: module 'flightradar24' has no attribute 'Api'"
          ]
        }
      ],
      "source": [
        "fr = flightradar24.Api()\n",
        "airlines = fr.get_airlines()"
      ]
    },
    {
      "cell_type": "code",
      "execution_count": null,
      "metadata": {
        "id": "DNOcusHkWGqu"
      },
      "outputs": [],
      "source": [
        "airlines"
      ]
    },
    {
      "cell_type": "code",
      "execution_count": null,
      "metadata": {
        "id": "fGucRc_lTh-5"
      },
      "outputs": [],
      "source": [
        "airlines.items()"
      ]
    },
    {
      "cell_type": "code",
      "execution_count": null,
      "metadata": {
        "colab": {
          "base_uri": "https://localhost:8080/"
        },
        "id": "xfSOAekNXG8E",
        "outputId": "34a8252f-dc36-47eb-808e-fad1596e090f"
      },
      "outputs": [],
      "source": [
        "type(airlines)"
      ]
    },
    {
      "cell_type": "code",
      "execution_count": null,
      "metadata": {
        "id": "bYKzusLLUZ_u"
      },
      "outputs": [],
      "source": [
        "type(airlines['rows'])"
      ]
    },
    {
      "cell_type": "code",
      "execution_count": null,
      "metadata": {
        "id": "lAIrA563WlSy"
      },
      "outputs": [],
      "source": [
        "df_compagnie = pd.DataFrame(airlines['rows'])\n",
        "df_compagnie"
      ]
    },
    {
      "cell_type": "code",
      "execution_count": null,
      "metadata": {
        "colab": {
          "base_uri": "https://localhost:8080/",
          "height": 35
        },
        "id": "gAqxFO-2pHCS",
        "outputId": "4efc574d-c9ca-4db6-b2e5-445db2aff7d8"
      },
      "outputs": [],
      "source": [
        "id_flight = df_compagnie[df_compagnie[\"Name\"] == \"Air France\"]\n",
        "id_flight = id_flight.iat[0,2]\n",
        "id_flight"
      ]
    },
    {
      "cell_type": "markdown",
      "metadata": {
        "id": "6DfbXEv6dCTX"
      },
      "source": [
        "**Tableau de vols pour une compagnie**"
      ]
    },
    {
      "cell_type": "code",
      "execution_count": null,
      "metadata": {
        "id": "cENSlVbjXLTe"
      },
      "outputs": [],
      "source": [
        "flights = fr.get_flights(id_flight)"
      ]
    },
    {
      "cell_type": "code",
      "execution_count": null,
      "metadata": {
        "colab": {
          "base_uri": "https://localhost:8080/"
        },
        "id": "Cr0Avk1Ecaw7",
        "outputId": "1f877f06-54aa-45d6-e886-6a3eeb873776"
      },
      "outputs": [],
      "source": [
        "flights.items()"
      ]
    },
    {
      "cell_type": "code",
      "execution_count": null,
      "metadata": {
        "id": "cUzU-mlOd71s"
      },
      "outputs": [],
      "source": [
        "for key in flights.items():\n",
        "  print(key)\n"
      ]
    },
    {
      "cell_type": "code",
      "execution_count": null,
      "metadata": {
        "colab": {
          "base_uri": "https://localhost:8080/"
        },
        "id": "lZFWvgkKqOFn",
        "outputId": "d5ab08b8-4281-4618-d1a7-7b5c0f70bf00"
      },
      "outputs": [],
      "source": [
        "#del flights['full_count']\n",
        "#del flights['version']\n",
        "for key in flights.items():\n",
        "  key"
      ]
    },
    {
      "cell_type": "code",
      "execution_count": null,
      "metadata": {
        "colab": {
          "base_uri": "https://localhost:8080/"
        },
        "id": "zEPE00jcfAhz",
        "outputId": "136dbbd1-a0b0-40a8-bc26-1e7fe7ca3c3c"
      },
      "outputs": [],
      "source": [
        "flights.values()"
      ]
    },
    {
      "cell_type": "code",
      "execution_count": null,
      "metadata": {
        "colab": {
          "base_uri": "https://localhost:8080/",
          "height": 266
        },
        "id": "2OVTFq6uYGNx",
        "outputId": "b5c1db98-9956-4d05-b016-9452e86cba5d"
      },
      "outputs": [],
      "source": [
        "df_vols = pd.DataFrame([flights.values()])\n",
        "\n",
        "print(df_vols.iloc[0][1][1]) # for 1rst flight\n",
        "# row 0, 1 objet, 1 champ\n",
        "t1 = [];\n",
        "for i in range(19):\n",
        "    t1.append(df_vols.iloc[0][1][i])\n",
        "    \n",
        "\n",
        "print(t1)\n"
      ]
    },
    {
      "cell_type": "code",
      "execution_count": null,
      "metadata": {},
      "outputs": [],
      "source": [
        "def extraire_details(ligne): \n",
        "    t=[]\n",
        "    for i in range(19):\n",
        "        t.append(df_vols.iloc[0][ligne][i])\n",
        "        \n",
        "    return t; \n",
        "\n",
        "\n",
        "p1 = extraire_details(2)\n",
        "p2 = extraire_details(10)\n",
        "\n",
        "titles = [1,2,3,4,5,6,8,9,10,11,12,13,14,15,16,17,18,19] \n"
      ]
    }
  ],
  "metadata": {
    "colab": {
      "collapsed_sections": [],
      "name": "Test FlightRadarAPI Loris.ipynb",
      "provenance": []
    },
    "kernelspec": {
      "display_name": "Python 3",
      "name": "python3"
    },
    "language_info": {
      "codemirror_mode": {
        "name": "ipython",
        "version": 3
      },
      "file_extension": ".py",
      "mimetype": "text/x-python",
      "name": "python",
      "nbconvert_exporter": "python",
      "pygments_lexer": "ipython3",
      "version": "3.9.7"
    }
  },
  "nbformat": 4,
  "nbformat_minor": 0
}
